{
 "cells": [
  {
   "cell_type": "code",
   "execution_count": 2,
   "metadata": {},
   "outputs": [],
   "source": [
    "# import libraries\n",
    "import pandas as pd\n",
    "import numpy as np\n",
    "import matplotlib.pyplot as plt\n",
    "import seaborn as sns\n",
    "from statsmodels.tsa.statespace.sarimax import SARIMAX\n",
    "import warnings\n",
    "import plotly.express as px\n"
   ]
  },
  {
   "cell_type": "code",
   "execution_count": 3,
   "metadata": {},
   "outputs": [],
   "source": [
    "# load data\n",
    "inspections = pd.read_csv('inspections.csv')\n",
    "invoices = pd.read_csv('invoices.csv')\n",
    "quotes = pd.read_csv('quotes.csv')"
   ]
  },
  {
   "cell_type": "code",
   "execution_count": 4,
   "metadata": {},
   "outputs": [
    {
     "name": "stderr",
     "output_type": "stream",
     "text": [
      "/var/folders/pp/dqmbfdr53hn607y3m8cg2gp00000gp/T/ipykernel_38153/2360018396.py:2: UserWarning: Could not infer format, so each element will be parsed individually, falling back to `dateutil`. To ensure parsing is consistent and as-expected, please specify a format.\n",
      "  inspections['date'] = pd.to_datetime(inspections['date'])\n",
      "/var/folders/pp/dqmbfdr53hn607y3m8cg2gp00000gp/T/ipykernel_38153/2360018396.py:3: UserWarning: Could not infer format, so each element will be parsed individually, falling back to `dateutil`. To ensure parsing is consistent and as-expected, please specify a format.\n",
      "  invoices['date'] = pd.to_datetime(invoices['date'])\n",
      "/var/folders/pp/dqmbfdr53hn607y3m8cg2gp00000gp/T/ipykernel_38153/2360018396.py:4: UserWarning: Could not infer format, so each element will be parsed individually, falling back to `dateutil`. To ensure parsing is consistent and as-expected, please specify a format.\n",
      "  quotes['proposed_date'] = pd.to_datetime(quotes['proposed_date'])\n",
      "/var/folders/pp/dqmbfdr53hn607y3m8cg2gp00000gp/T/ipykernel_38153/2360018396.py:5: UserWarning: Could not infer format, so each element will be parsed individually, falling back to `dateutil`. To ensure parsing is consistent and as-expected, please specify a format.\n",
      "  quotes['create_date'] = pd.to_datetime(quotes['create_date'])\n",
      "/var/folders/pp/dqmbfdr53hn607y3m8cg2gp00000gp/T/ipykernel_38153/2360018396.py:6: UserWarning: Could not infer format, so each element will be parsed individually, falling back to `dateutil`. To ensure parsing is consistent and as-expected, please specify a format.\n",
      "  quotes['convert_date'] = pd.to_datetime(quotes['convert_date'])\n"
     ]
    }
   ],
   "source": [
    "# fix data types\n",
    "inspections['date'] = pd.to_datetime(inspections['date'])\n",
    "invoices['date'] = pd.to_datetime(invoices['date'])\n",
    "quotes['proposed_date'] = pd.to_datetime(quotes['proposed_date'])\n",
    "quotes['create_date'] = pd.to_datetime(quotes['create_date'])\n",
    "quotes['convert_date'] = pd.to_datetime(quotes['convert_date'])"
   ]
  },
  {
   "cell_type": "code",
   "execution_count": 5,
   "metadata": {},
   "outputs": [],
   "source": [
    "# fix more data types\n",
    "quotes['total'] = quotes['total'].str.replace('$', '')\n",
    "quotes['total'] = quotes['total'].str.replace(',', '')\n",
    "quotes['total'] = quotes['total'].str.replace('(', '')\n",
    "quotes['total'] = quotes['total'].str.replace(')', '')\n",
    "quotes['total'] = quotes['total'].astype(float)\n",
    "invoices['total'] = invoices['total'].str.replace('$', '')\n",
    "invoices['total'] = invoices['total'].str.replace(',', '')\n",
    "invoices['total'] = invoices['total'].astype(float)"
   ]
  },
  {
   "cell_type": "code",
   "execution_count": 6,
   "metadata": {},
   "outputs": [],
   "source": [
    "# fill missing values in proposed_date with create_date\n",
    "quotes['proposed_date'] = quotes.apply(\n",
    "    lambda row: row['create_date'] if row['proposed_date'].year < 2000 else row['proposed_date'], axis=1)"
   ]
  },
  {
   "cell_type": "code",
   "execution_count": 7,
   "metadata": {},
   "outputs": [],
   "source": [
    "# create a new column 'sold' which has a value of 1 if the quote was sold, 0 otherwise\n",
    "quotes['sold'] = quotes['label'].apply(lambda x: 1 if x == 'Converted To Work' else 0)"
   ]
  },
  {
   "cell_type": "code",
   "execution_count": 8,
   "metadata": {},
   "outputs": [],
   "source": [
    "# drop create_date column\n",
    "quotes = quotes.drop(columns=['create_date'])"
   ]
  },
  {
   "cell_type": "code",
   "execution_count": 9,
   "metadata": {},
   "outputs": [],
   "source": [
    "# monthly sales performance\n",
    "# count of quotes sent per month\n",
    "quotes['proposed_month'] = quotes['proposed_date'].dt.to_period('M')\n",
    "monthly_performance = quotes.groupby('proposed_month').size().reset_index(name='count')\n",
    "quotes['convert_month'] = quotes['convert_date'].dt.to_period('M')\n",
    "monthly_performance.rename(columns={'proposed_month': 'month', 'count':'quotes_sent'}, inplace=True)\n",
    "monthly_performance['quotes_sold'] = quotes[quotes['sold'] == 1].groupby('convert_month').size().reset_index(name='count')['count']\n",
    "monthly_performance['conversion_rate'] = monthly_performance['quotes_sold'] / monthly_performance['quotes_sent']\n",
    "monthly_performance['sales'] = quotes[quotes['sold'] == 1].groupby('convert_month')['total'].sum().reset_index()['total']\n",
    "monthly_performance['efficiency'] = monthly_performance['sales'] / monthly_performance['quotes_sent']"
   ]
  },
  {
   "cell_type": "code",
   "execution_count": 10,
   "metadata": {},
   "outputs": [
    {
     "data": {
      "text/html": [
       "<div>\n",
       "<style scoped>\n",
       "    .dataframe tbody tr th:only-of-type {\n",
       "        vertical-align: middle;\n",
       "    }\n",
       "\n",
       "    .dataframe tbody tr th {\n",
       "        vertical-align: top;\n",
       "    }\n",
       "\n",
       "    .dataframe thead th {\n",
       "        text-align: right;\n",
       "    }\n",
       "</style>\n",
       "<table border=\"1\" class=\"dataframe\">\n",
       "  <thead>\n",
       "    <tr style=\"text-align: right;\">\n",
       "      <th></th>\n",
       "      <th>month</th>\n",
       "      <th>quotes_sent</th>\n",
       "      <th>quotes_sold</th>\n",
       "      <th>conversion_rate</th>\n",
       "      <th>sales</th>\n",
       "      <th>efficiency</th>\n",
       "    </tr>\n",
       "  </thead>\n",
       "  <tbody>\n",
       "    <tr>\n",
       "      <th>0</th>\n",
       "      <td>2018-02</td>\n",
       "      <td>5</td>\n",
       "      <td>1.0</td>\n",
       "      <td>0.200000</td>\n",
       "      <td>100.00</td>\n",
       "      <td>20.000000</td>\n",
       "    </tr>\n",
       "    <tr>\n",
       "      <th>1</th>\n",
       "      <td>2018-03</td>\n",
       "      <td>11</td>\n",
       "      <td>2.0</td>\n",
       "      <td>0.181818</td>\n",
       "      <td>7528.00</td>\n",
       "      <td>684.363636</td>\n",
       "    </tr>\n",
       "    <tr>\n",
       "      <th>2</th>\n",
       "      <td>2018-04</td>\n",
       "      <td>70</td>\n",
       "      <td>35.0</td>\n",
       "      <td>0.500000</td>\n",
       "      <td>97515.30</td>\n",
       "      <td>1393.075714</td>\n",
       "    </tr>\n",
       "    <tr>\n",
       "      <th>3</th>\n",
       "      <td>2018-05</td>\n",
       "      <td>43</td>\n",
       "      <td>61.0</td>\n",
       "      <td>1.418605</td>\n",
       "      <td>202275.76</td>\n",
       "      <td>4704.087442</td>\n",
       "    </tr>\n",
       "    <tr>\n",
       "      <th>4</th>\n",
       "      <td>2018-06</td>\n",
       "      <td>37</td>\n",
       "      <td>70.0</td>\n",
       "      <td>1.891892</td>\n",
       "      <td>270191.98</td>\n",
       "      <td>7302.485946</td>\n",
       "    </tr>\n",
       "    <tr>\n",
       "      <th>5</th>\n",
       "      <td>2018-07</td>\n",
       "      <td>19</td>\n",
       "      <td>59.0</td>\n",
       "      <td>3.105263</td>\n",
       "      <td>252765.45</td>\n",
       "      <td>13303.444737</td>\n",
       "    </tr>\n",
       "    <tr>\n",
       "      <th>6</th>\n",
       "      <td>2018-08</td>\n",
       "      <td>89</td>\n",
       "      <td>53.0</td>\n",
       "      <td>0.595506</td>\n",
       "      <td>197621.65</td>\n",
       "      <td>2220.467978</td>\n",
       "    </tr>\n",
       "    <tr>\n",
       "      <th>7</th>\n",
       "      <td>2018-09</td>\n",
       "      <td>159</td>\n",
       "      <td>66.0</td>\n",
       "      <td>0.415094</td>\n",
       "      <td>185829.80</td>\n",
       "      <td>1168.740881</td>\n",
       "    </tr>\n",
       "    <tr>\n",
       "      <th>8</th>\n",
       "      <td>2018-10</td>\n",
       "      <td>153</td>\n",
       "      <td>96.0</td>\n",
       "      <td>0.627451</td>\n",
       "      <td>337100.69</td>\n",
       "      <td>2203.272484</td>\n",
       "    </tr>\n",
       "    <tr>\n",
       "      <th>9</th>\n",
       "      <td>2018-11</td>\n",
       "      <td>150</td>\n",
       "      <td>82.0</td>\n",
       "      <td>0.546667</td>\n",
       "      <td>293153.15</td>\n",
       "      <td>1954.354333</td>\n",
       "    </tr>\n",
       "    <tr>\n",
       "      <th>10</th>\n",
       "      <td>2018-12</td>\n",
       "      <td>146</td>\n",
       "      <td>47.0</td>\n",
       "      <td>0.321918</td>\n",
       "      <td>205680.72</td>\n",
       "      <td>1408.772055</td>\n",
       "    </tr>\n",
       "    <tr>\n",
       "      <th>11</th>\n",
       "      <td>2019-01</td>\n",
       "      <td>137</td>\n",
       "      <td>79.0</td>\n",
       "      <td>0.576642</td>\n",
       "      <td>310320.10</td>\n",
       "      <td>2265.110219</td>\n",
       "    </tr>\n",
       "    <tr>\n",
       "      <th>12</th>\n",
       "      <td>2019-02</td>\n",
       "      <td>152</td>\n",
       "      <td>67.0</td>\n",
       "      <td>0.440789</td>\n",
       "      <td>259325.00</td>\n",
       "      <td>1706.085526</td>\n",
       "    </tr>\n",
       "    <tr>\n",
       "      <th>13</th>\n",
       "      <td>2019-03</td>\n",
       "      <td>151</td>\n",
       "      <td>73.0</td>\n",
       "      <td>0.483444</td>\n",
       "      <td>321048.72</td>\n",
       "      <td>2126.150464</td>\n",
       "    </tr>\n",
       "    <tr>\n",
       "      <th>14</th>\n",
       "      <td>2019-04</td>\n",
       "      <td>146</td>\n",
       "      <td>67.0</td>\n",
       "      <td>0.458904</td>\n",
       "      <td>273658.59</td>\n",
       "      <td>1874.373904</td>\n",
       "    </tr>\n",
       "    <tr>\n",
       "      <th>15</th>\n",
       "      <td>2019-05</td>\n",
       "      <td>165</td>\n",
       "      <td>68.0</td>\n",
       "      <td>0.412121</td>\n",
       "      <td>272369.13</td>\n",
       "      <td>1650.722000</td>\n",
       "    </tr>\n",
       "    <tr>\n",
       "      <th>16</th>\n",
       "      <td>2019-06</td>\n",
       "      <td>178</td>\n",
       "      <td>74.0</td>\n",
       "      <td>0.415730</td>\n",
       "      <td>286578.70</td>\n",
       "      <td>1609.992697</td>\n",
       "    </tr>\n",
       "    <tr>\n",
       "      <th>17</th>\n",
       "      <td>2019-07</td>\n",
       "      <td>184</td>\n",
       "      <td>86.0</td>\n",
       "      <td>0.467391</td>\n",
       "      <td>406409.76</td>\n",
       "      <td>2208.748696</td>\n",
       "    </tr>\n",
       "    <tr>\n",
       "      <th>18</th>\n",
       "      <td>2019-08</td>\n",
       "      <td>164</td>\n",
       "      <td>75.0</td>\n",
       "      <td>0.457317</td>\n",
       "      <td>273154.83</td>\n",
       "      <td>1665.578232</td>\n",
       "    </tr>\n",
       "    <tr>\n",
       "      <th>19</th>\n",
       "      <td>2019-09</td>\n",
       "      <td>128</td>\n",
       "      <td>77.0</td>\n",
       "      <td>0.601562</td>\n",
       "      <td>374481.06</td>\n",
       "      <td>2925.633281</td>\n",
       "    </tr>\n",
       "    <tr>\n",
       "      <th>20</th>\n",
       "      <td>2019-10</td>\n",
       "      <td>113</td>\n",
       "      <td>72.0</td>\n",
       "      <td>0.637168</td>\n",
       "      <td>388746.63</td>\n",
       "      <td>3440.235664</td>\n",
       "    </tr>\n",
       "    <tr>\n",
       "      <th>21</th>\n",
       "      <td>2019-11</td>\n",
       "      <td>111</td>\n",
       "      <td>65.0</td>\n",
       "      <td>0.585586</td>\n",
       "      <td>263754.16</td>\n",
       "      <td>2376.163604</td>\n",
       "    </tr>\n",
       "    <tr>\n",
       "      <th>22</th>\n",
       "      <td>2019-12</td>\n",
       "      <td>120</td>\n",
       "      <td>84.0</td>\n",
       "      <td>0.700000</td>\n",
       "      <td>313082.25</td>\n",
       "      <td>2609.018750</td>\n",
       "    </tr>\n",
       "    <tr>\n",
       "      <th>23</th>\n",
       "      <td>2020-01</td>\n",
       "      <td>162</td>\n",
       "      <td>87.0</td>\n",
       "      <td>0.537037</td>\n",
       "      <td>300825.48</td>\n",
       "      <td>1856.947407</td>\n",
       "    </tr>\n",
       "    <tr>\n",
       "      <th>24</th>\n",
       "      <td>2020-02</td>\n",
       "      <td>143</td>\n",
       "      <td>100.0</td>\n",
       "      <td>0.699301</td>\n",
       "      <td>353676.35</td>\n",
       "      <td>2473.261189</td>\n",
       "    </tr>\n",
       "  </tbody>\n",
       "</table>\n",
       "</div>"
      ],
      "text/plain": [
       "      month  quotes_sent  quotes_sold  conversion_rate      sales  \\\n",
       "0   2018-02            5          1.0         0.200000     100.00   \n",
       "1   2018-03           11          2.0         0.181818    7528.00   \n",
       "2   2018-04           70         35.0         0.500000   97515.30   \n",
       "3   2018-05           43         61.0         1.418605  202275.76   \n",
       "4   2018-06           37         70.0         1.891892  270191.98   \n",
       "5   2018-07           19         59.0         3.105263  252765.45   \n",
       "6   2018-08           89         53.0         0.595506  197621.65   \n",
       "7   2018-09          159         66.0         0.415094  185829.80   \n",
       "8   2018-10          153         96.0         0.627451  337100.69   \n",
       "9   2018-11          150         82.0         0.546667  293153.15   \n",
       "10  2018-12          146         47.0         0.321918  205680.72   \n",
       "11  2019-01          137         79.0         0.576642  310320.10   \n",
       "12  2019-02          152         67.0         0.440789  259325.00   \n",
       "13  2019-03          151         73.0         0.483444  321048.72   \n",
       "14  2019-04          146         67.0         0.458904  273658.59   \n",
       "15  2019-05          165         68.0         0.412121  272369.13   \n",
       "16  2019-06          178         74.0         0.415730  286578.70   \n",
       "17  2019-07          184         86.0         0.467391  406409.76   \n",
       "18  2019-08          164         75.0         0.457317  273154.83   \n",
       "19  2019-09          128         77.0         0.601562  374481.06   \n",
       "20  2019-10          113         72.0         0.637168  388746.63   \n",
       "21  2019-11          111         65.0         0.585586  263754.16   \n",
       "22  2019-12          120         84.0         0.700000  313082.25   \n",
       "23  2020-01          162         87.0         0.537037  300825.48   \n",
       "24  2020-02          143        100.0         0.699301  353676.35   \n",
       "\n",
       "      efficiency  \n",
       "0      20.000000  \n",
       "1     684.363636  \n",
       "2    1393.075714  \n",
       "3    4704.087442  \n",
       "4    7302.485946  \n",
       "5   13303.444737  \n",
       "6    2220.467978  \n",
       "7    1168.740881  \n",
       "8    2203.272484  \n",
       "9    1954.354333  \n",
       "10   1408.772055  \n",
       "11   2265.110219  \n",
       "12   1706.085526  \n",
       "13   2126.150464  \n",
       "14   1874.373904  \n",
       "15   1650.722000  \n",
       "16   1609.992697  \n",
       "17   2208.748696  \n",
       "18   1665.578232  \n",
       "19   2925.633281  \n",
       "20   3440.235664  \n",
       "21   2376.163604  \n",
       "22   2609.018750  \n",
       "23   1856.947407  \n",
       "24   2473.261189  "
      ]
     },
     "execution_count": 10,
     "metadata": {},
     "output_type": "execute_result"
    }
   ],
   "source": [
    "monthly_performance.head(25)"
   ]
  },
  {
   "cell_type": "code",
   "execution_count": 11,
   "metadata": {},
   "outputs": [],
   "source": [
    "# add monthly revenue and inspections\n",
    "invoices['invoice_month'] = invoices['date'].dt.to_period('M')\n",
    "monthly_performance['revenue'] = invoices.groupby('invoice_month')['total'].sum().reindex(monthly_performance['month']).reset_index(drop=True)\n",
    "inspections['month'] = inspections['date'].dt.to_period('M')\n",
    "monthly_performance['inspections'] = inspections.groupby('month').size().reindex(monthly_performance['month']).reset_index(drop=True)\n",
    "monthly_performance['quote_rate'] = monthly_performance['quotes_sent'] / monthly_performance['inspections']\n",
    "monthly_performance['last_month_quotes_sent'] = monthly_performance['quotes_sent'].shift(1)\n",
    "monthly_performance.set_index('month', inplace=True)\n",
    "monthly_performance.index = pd.to_datetime(monthly_performance.index.to_timestamp())"
   ]
  },
  {
   "cell_type": "code",
   "execution_count": 12,
   "metadata": {},
   "outputs": [
    {
     "data": {
      "text/html": [
       "<div>\n",
       "<style scoped>\n",
       "    .dataframe tbody tr th:only-of-type {\n",
       "        vertical-align: middle;\n",
       "    }\n",
       "\n",
       "    .dataframe tbody tr th {\n",
       "        vertical-align: top;\n",
       "    }\n",
       "\n",
       "    .dataframe thead th {\n",
       "        text-align: right;\n",
       "    }\n",
       "</style>\n",
       "<table border=\"1\" class=\"dataframe\">\n",
       "  <thead>\n",
       "    <tr style=\"text-align: right;\">\n",
       "      <th></th>\n",
       "      <th>quotes_sent</th>\n",
       "      <th>quotes_sold</th>\n",
       "      <th>conversion_rate</th>\n",
       "      <th>sales</th>\n",
       "      <th>efficiency</th>\n",
       "      <th>revenue</th>\n",
       "      <th>inspections</th>\n",
       "      <th>quote_rate</th>\n",
       "      <th>last_month_quotes_sent</th>\n",
       "    </tr>\n",
       "    <tr>\n",
       "      <th>month</th>\n",
       "      <th></th>\n",
       "      <th></th>\n",
       "      <th></th>\n",
       "      <th></th>\n",
       "      <th></th>\n",
       "      <th></th>\n",
       "      <th></th>\n",
       "      <th></th>\n",
       "      <th></th>\n",
       "    </tr>\n",
       "  </thead>\n",
       "  <tbody>\n",
       "    <tr>\n",
       "      <th>2018-02-01</th>\n",
       "      <td>5</td>\n",
       "      <td>1.0</td>\n",
       "      <td>0.200000</td>\n",
       "      <td>100.00</td>\n",
       "      <td>20.000000</td>\n",
       "      <td>NaN</td>\n",
       "      <td>NaN</td>\n",
       "      <td>NaN</td>\n",
       "      <td>NaN</td>\n",
       "    </tr>\n",
       "    <tr>\n",
       "      <th>2018-03-01</th>\n",
       "      <td>11</td>\n",
       "      <td>2.0</td>\n",
       "      <td>0.181818</td>\n",
       "      <td>7528.00</td>\n",
       "      <td>684.363636</td>\n",
       "      <td>NaN</td>\n",
       "      <td>1.0</td>\n",
       "      <td>11.000000</td>\n",
       "      <td>5.0</td>\n",
       "    </tr>\n",
       "    <tr>\n",
       "      <th>2018-04-01</th>\n",
       "      <td>70</td>\n",
       "      <td>35.0</td>\n",
       "      <td>0.500000</td>\n",
       "      <td>97515.30</td>\n",
       "      <td>1393.075714</td>\n",
       "      <td>74422.35</td>\n",
       "      <td>169.0</td>\n",
       "      <td>0.414201</td>\n",
       "      <td>11.0</td>\n",
       "    </tr>\n",
       "    <tr>\n",
       "      <th>2018-05-01</th>\n",
       "      <td>43</td>\n",
       "      <td>61.0</td>\n",
       "      <td>1.418605</td>\n",
       "      <td>202275.76</td>\n",
       "      <td>4704.087442</td>\n",
       "      <td>153938.85</td>\n",
       "      <td>189.0</td>\n",
       "      <td>0.227513</td>\n",
       "      <td>70.0</td>\n",
       "    </tr>\n",
       "    <tr>\n",
       "      <th>2018-06-01</th>\n",
       "      <td>37</td>\n",
       "      <td>70.0</td>\n",
       "      <td>1.891892</td>\n",
       "      <td>270191.98</td>\n",
       "      <td>7302.485946</td>\n",
       "      <td>200025.82</td>\n",
       "      <td>218.0</td>\n",
       "      <td>0.169725</td>\n",
       "      <td>43.0</td>\n",
       "    </tr>\n",
       "    <tr>\n",
       "      <th>2018-07-01</th>\n",
       "      <td>19</td>\n",
       "      <td>59.0</td>\n",
       "      <td>3.105263</td>\n",
       "      <td>252765.45</td>\n",
       "      <td>13303.444737</td>\n",
       "      <td>214718.05</td>\n",
       "      <td>214.0</td>\n",
       "      <td>0.088785</td>\n",
       "      <td>37.0</td>\n",
       "    </tr>\n",
       "    <tr>\n",
       "      <th>2018-08-01</th>\n",
       "      <td>89</td>\n",
       "      <td>53.0</td>\n",
       "      <td>0.595506</td>\n",
       "      <td>197621.65</td>\n",
       "      <td>2220.467978</td>\n",
       "      <td>204239.96</td>\n",
       "      <td>222.0</td>\n",
       "      <td>0.400901</td>\n",
       "      <td>19.0</td>\n",
       "    </tr>\n",
       "    <tr>\n",
       "      <th>2018-09-01</th>\n",
       "      <td>159</td>\n",
       "      <td>66.0</td>\n",
       "      <td>0.415094</td>\n",
       "      <td>185829.80</td>\n",
       "      <td>1168.740881</td>\n",
       "      <td>200367.95</td>\n",
       "      <td>189.0</td>\n",
       "      <td>0.841270</td>\n",
       "      <td>89.0</td>\n",
       "    </tr>\n",
       "    <tr>\n",
       "      <th>2018-10-01</th>\n",
       "      <td>153</td>\n",
       "      <td>96.0</td>\n",
       "      <td>0.627451</td>\n",
       "      <td>337100.69</td>\n",
       "      <td>2203.272484</td>\n",
       "      <td>300283.61</td>\n",
       "      <td>285.0</td>\n",
       "      <td>0.536842</td>\n",
       "      <td>159.0</td>\n",
       "    </tr>\n",
       "    <tr>\n",
       "      <th>2018-11-01</th>\n",
       "      <td>150</td>\n",
       "      <td>82.0</td>\n",
       "      <td>0.546667</td>\n",
       "      <td>293153.15</td>\n",
       "      <td>1954.354333</td>\n",
       "      <td>225620.95</td>\n",
       "      <td>255.0</td>\n",
       "      <td>0.588235</td>\n",
       "      <td>153.0</td>\n",
       "    </tr>\n",
       "    <tr>\n",
       "      <th>2018-12-01</th>\n",
       "      <td>146</td>\n",
       "      <td>47.0</td>\n",
       "      <td>0.321918</td>\n",
       "      <td>205680.72</td>\n",
       "      <td>1408.772055</td>\n",
       "      <td>212030.47</td>\n",
       "      <td>169.0</td>\n",
       "      <td>0.863905</td>\n",
       "      <td>150.0</td>\n",
       "    </tr>\n",
       "    <tr>\n",
       "      <th>2019-01-01</th>\n",
       "      <td>137</td>\n",
       "      <td>79.0</td>\n",
       "      <td>0.576642</td>\n",
       "      <td>310320.10</td>\n",
       "      <td>2265.110219</td>\n",
       "      <td>299900.81</td>\n",
       "      <td>180.0</td>\n",
       "      <td>0.761111</td>\n",
       "      <td>146.0</td>\n",
       "    </tr>\n",
       "    <tr>\n",
       "      <th>2019-02-01</th>\n",
       "      <td>152</td>\n",
       "      <td>67.0</td>\n",
       "      <td>0.440789</td>\n",
       "      <td>259325.00</td>\n",
       "      <td>1706.085526</td>\n",
       "      <td>271567.81</td>\n",
       "      <td>185.0</td>\n",
       "      <td>0.821622</td>\n",
       "      <td>137.0</td>\n",
       "    </tr>\n",
       "    <tr>\n",
       "      <th>2019-03-01</th>\n",
       "      <td>151</td>\n",
       "      <td>73.0</td>\n",
       "      <td>0.483444</td>\n",
       "      <td>321048.72</td>\n",
       "      <td>2126.150464</td>\n",
       "      <td>270408.39</td>\n",
       "      <td>174.0</td>\n",
       "      <td>0.867816</td>\n",
       "      <td>152.0</td>\n",
       "    </tr>\n",
       "    <tr>\n",
       "      <th>2019-04-01</th>\n",
       "      <td>146</td>\n",
       "      <td>67.0</td>\n",
       "      <td>0.458904</td>\n",
       "      <td>273658.59</td>\n",
       "      <td>1874.373904</td>\n",
       "      <td>344261.44</td>\n",
       "      <td>177.0</td>\n",
       "      <td>0.824859</td>\n",
       "      <td>151.0</td>\n",
       "    </tr>\n",
       "    <tr>\n",
       "      <th>2019-05-01</th>\n",
       "      <td>165</td>\n",
       "      <td>68.0</td>\n",
       "      <td>0.412121</td>\n",
       "      <td>272369.13</td>\n",
       "      <td>1650.722000</td>\n",
       "      <td>330279.66</td>\n",
       "      <td>190.0</td>\n",
       "      <td>0.868421</td>\n",
       "      <td>146.0</td>\n",
       "    </tr>\n",
       "    <tr>\n",
       "      <th>2019-06-01</th>\n",
       "      <td>178</td>\n",
       "      <td>74.0</td>\n",
       "      <td>0.415730</td>\n",
       "      <td>286578.70</td>\n",
       "      <td>1609.992697</td>\n",
       "      <td>252186.38</td>\n",
       "      <td>201.0</td>\n",
       "      <td>0.885572</td>\n",
       "      <td>165.0</td>\n",
       "    </tr>\n",
       "    <tr>\n",
       "      <th>2019-07-01</th>\n",
       "      <td>184</td>\n",
       "      <td>86.0</td>\n",
       "      <td>0.467391</td>\n",
       "      <td>406409.76</td>\n",
       "      <td>2208.748696</td>\n",
       "      <td>315086.19</td>\n",
       "      <td>243.0</td>\n",
       "      <td>0.757202</td>\n",
       "      <td>178.0</td>\n",
       "    </tr>\n",
       "    <tr>\n",
       "      <th>2019-08-01</th>\n",
       "      <td>164</td>\n",
       "      <td>75.0</td>\n",
       "      <td>0.457317</td>\n",
       "      <td>273154.83</td>\n",
       "      <td>1665.578232</td>\n",
       "      <td>371451.06</td>\n",
       "      <td>221.0</td>\n",
       "      <td>0.742081</td>\n",
       "      <td>184.0</td>\n",
       "    </tr>\n",
       "    <tr>\n",
       "      <th>2019-09-01</th>\n",
       "      <td>128</td>\n",
       "      <td>77.0</td>\n",
       "      <td>0.601562</td>\n",
       "      <td>374481.06</td>\n",
       "      <td>2925.633281</td>\n",
       "      <td>309096.32</td>\n",
       "      <td>169.0</td>\n",
       "      <td>0.757396</td>\n",
       "      <td>164.0</td>\n",
       "    </tr>\n",
       "    <tr>\n",
       "      <th>2019-10-01</th>\n",
       "      <td>113</td>\n",
       "      <td>72.0</td>\n",
       "      <td>0.637168</td>\n",
       "      <td>388746.63</td>\n",
       "      <td>3440.235664</td>\n",
       "      <td>360034.40</td>\n",
       "      <td>185.0</td>\n",
       "      <td>0.610811</td>\n",
       "      <td>128.0</td>\n",
       "    </tr>\n",
       "    <tr>\n",
       "      <th>2019-11-01</th>\n",
       "      <td>111</td>\n",
       "      <td>65.0</td>\n",
       "      <td>0.585586</td>\n",
       "      <td>263754.16</td>\n",
       "      <td>2376.163604</td>\n",
       "      <td>324911.24</td>\n",
       "      <td>171.0</td>\n",
       "      <td>0.649123</td>\n",
       "      <td>113.0</td>\n",
       "    </tr>\n",
       "    <tr>\n",
       "      <th>2019-12-01</th>\n",
       "      <td>120</td>\n",
       "      <td>84.0</td>\n",
       "      <td>0.700000</td>\n",
       "      <td>313082.25</td>\n",
       "      <td>2609.018750</td>\n",
       "      <td>211000.23</td>\n",
       "      <td>141.0</td>\n",
       "      <td>0.851064</td>\n",
       "      <td>111.0</td>\n",
       "    </tr>\n",
       "    <tr>\n",
       "      <th>2020-01-01</th>\n",
       "      <td>162</td>\n",
       "      <td>87.0</td>\n",
       "      <td>0.537037</td>\n",
       "      <td>300825.48</td>\n",
       "      <td>1856.947407</td>\n",
       "      <td>366861.98</td>\n",
       "      <td>212.0</td>\n",
       "      <td>0.764151</td>\n",
       "      <td>120.0</td>\n",
       "    </tr>\n",
       "    <tr>\n",
       "      <th>2020-02-01</th>\n",
       "      <td>143</td>\n",
       "      <td>100.0</td>\n",
       "      <td>0.699301</td>\n",
       "      <td>353676.35</td>\n",
       "      <td>2473.261189</td>\n",
       "      <td>327159.40</td>\n",
       "      <td>227.0</td>\n",
       "      <td>0.629956</td>\n",
       "      <td>162.0</td>\n",
       "    </tr>\n",
       "  </tbody>\n",
       "</table>\n",
       "</div>"
      ],
      "text/plain": [
       "            quotes_sent  quotes_sold  conversion_rate      sales  \\\n",
       "month                                                              \n",
       "2018-02-01            5          1.0         0.200000     100.00   \n",
       "2018-03-01           11          2.0         0.181818    7528.00   \n",
       "2018-04-01           70         35.0         0.500000   97515.30   \n",
       "2018-05-01           43         61.0         1.418605  202275.76   \n",
       "2018-06-01           37         70.0         1.891892  270191.98   \n",
       "2018-07-01           19         59.0         3.105263  252765.45   \n",
       "2018-08-01           89         53.0         0.595506  197621.65   \n",
       "2018-09-01          159         66.0         0.415094  185829.80   \n",
       "2018-10-01          153         96.0         0.627451  337100.69   \n",
       "2018-11-01          150         82.0         0.546667  293153.15   \n",
       "2018-12-01          146         47.0         0.321918  205680.72   \n",
       "2019-01-01          137         79.0         0.576642  310320.10   \n",
       "2019-02-01          152         67.0         0.440789  259325.00   \n",
       "2019-03-01          151         73.0         0.483444  321048.72   \n",
       "2019-04-01          146         67.0         0.458904  273658.59   \n",
       "2019-05-01          165         68.0         0.412121  272369.13   \n",
       "2019-06-01          178         74.0         0.415730  286578.70   \n",
       "2019-07-01          184         86.0         0.467391  406409.76   \n",
       "2019-08-01          164         75.0         0.457317  273154.83   \n",
       "2019-09-01          128         77.0         0.601562  374481.06   \n",
       "2019-10-01          113         72.0         0.637168  388746.63   \n",
       "2019-11-01          111         65.0         0.585586  263754.16   \n",
       "2019-12-01          120         84.0         0.700000  313082.25   \n",
       "2020-01-01          162         87.0         0.537037  300825.48   \n",
       "2020-02-01          143        100.0         0.699301  353676.35   \n",
       "\n",
       "              efficiency    revenue  inspections  quote_rate  \\\n",
       "month                                                          \n",
       "2018-02-01     20.000000        NaN          NaN         NaN   \n",
       "2018-03-01    684.363636        NaN          1.0   11.000000   \n",
       "2018-04-01   1393.075714   74422.35        169.0    0.414201   \n",
       "2018-05-01   4704.087442  153938.85        189.0    0.227513   \n",
       "2018-06-01   7302.485946  200025.82        218.0    0.169725   \n",
       "2018-07-01  13303.444737  214718.05        214.0    0.088785   \n",
       "2018-08-01   2220.467978  204239.96        222.0    0.400901   \n",
       "2018-09-01   1168.740881  200367.95        189.0    0.841270   \n",
       "2018-10-01   2203.272484  300283.61        285.0    0.536842   \n",
       "2018-11-01   1954.354333  225620.95        255.0    0.588235   \n",
       "2018-12-01   1408.772055  212030.47        169.0    0.863905   \n",
       "2019-01-01   2265.110219  299900.81        180.0    0.761111   \n",
       "2019-02-01   1706.085526  271567.81        185.0    0.821622   \n",
       "2019-03-01   2126.150464  270408.39        174.0    0.867816   \n",
       "2019-04-01   1874.373904  344261.44        177.0    0.824859   \n",
       "2019-05-01   1650.722000  330279.66        190.0    0.868421   \n",
       "2019-06-01   1609.992697  252186.38        201.0    0.885572   \n",
       "2019-07-01   2208.748696  315086.19        243.0    0.757202   \n",
       "2019-08-01   1665.578232  371451.06        221.0    0.742081   \n",
       "2019-09-01   2925.633281  309096.32        169.0    0.757396   \n",
       "2019-10-01   3440.235664  360034.40        185.0    0.610811   \n",
       "2019-11-01   2376.163604  324911.24        171.0    0.649123   \n",
       "2019-12-01   2609.018750  211000.23        141.0    0.851064   \n",
       "2020-01-01   1856.947407  366861.98        212.0    0.764151   \n",
       "2020-02-01   2473.261189  327159.40        227.0    0.629956   \n",
       "\n",
       "            last_month_quotes_sent  \n",
       "month                               \n",
       "2018-02-01                     NaN  \n",
       "2018-03-01                     5.0  \n",
       "2018-04-01                    11.0  \n",
       "2018-05-01                    70.0  \n",
       "2018-06-01                    43.0  \n",
       "2018-07-01                    37.0  \n",
       "2018-08-01                    19.0  \n",
       "2018-09-01                    89.0  \n",
       "2018-10-01                   159.0  \n",
       "2018-11-01                   153.0  \n",
       "2018-12-01                   150.0  \n",
       "2019-01-01                   146.0  \n",
       "2019-02-01                   137.0  \n",
       "2019-03-01                   152.0  \n",
       "2019-04-01                   151.0  \n",
       "2019-05-01                   146.0  \n",
       "2019-06-01                   165.0  \n",
       "2019-07-01                   178.0  \n",
       "2019-08-01                   184.0  \n",
       "2019-09-01                   164.0  \n",
       "2019-10-01                   128.0  \n",
       "2019-11-01                   113.0  \n",
       "2019-12-01                   111.0  \n",
       "2020-01-01                   120.0  \n",
       "2020-02-01                   162.0  "
      ]
     },
     "execution_count": 12,
     "metadata": {},
     "output_type": "execute_result"
    }
   ],
   "source": [
    "monthly_performance.head(25)"
   ]
  },
  {
   "cell_type": "code",
   "execution_count": 13,
   "metadata": {},
   "outputs": [],
   "source": [
    "# remove all 2018 months from montly performance\n",
    "monthly_performance = monthly_performance[monthly_performance.index.year != 2018]"
   ]
  },
  {
   "cell_type": "code",
   "execution_count": 14,
   "metadata": {},
   "outputs": [
    {
     "data": {
      "text/html": [
       "<div>\n",
       "<style scoped>\n",
       "    .dataframe tbody tr th:only-of-type {\n",
       "        vertical-align: middle;\n",
       "    }\n",
       "\n",
       "    .dataframe tbody tr th {\n",
       "        vertical-align: top;\n",
       "    }\n",
       "\n",
       "    .dataframe thead th {\n",
       "        text-align: right;\n",
       "    }\n",
       "</style>\n",
       "<table border=\"1\" class=\"dataframe\">\n",
       "  <thead>\n",
       "    <tr style=\"text-align: right;\">\n",
       "      <th></th>\n",
       "      <th>quotes_sent</th>\n",
       "      <th>quotes_sold</th>\n",
       "      <th>conversion_rate</th>\n",
       "      <th>sales</th>\n",
       "      <th>efficiency</th>\n",
       "      <th>revenue</th>\n",
       "      <th>inspections</th>\n",
       "      <th>quote_rate</th>\n",
       "      <th>last_month_quotes_sent</th>\n",
       "    </tr>\n",
       "    <tr>\n",
       "      <th>month</th>\n",
       "      <th></th>\n",
       "      <th></th>\n",
       "      <th></th>\n",
       "      <th></th>\n",
       "      <th></th>\n",
       "      <th></th>\n",
       "      <th></th>\n",
       "      <th></th>\n",
       "      <th></th>\n",
       "    </tr>\n",
       "  </thead>\n",
       "  <tbody>\n",
       "    <tr>\n",
       "      <th>2024-09-01</th>\n",
       "      <td>1177</td>\n",
       "      <td>434.0</td>\n",
       "      <td>0.368734</td>\n",
       "      <td>2529838.33</td>\n",
       "      <td>2149.395353</td>\n",
       "      <td>2514816.75</td>\n",
       "      <td>1150.0</td>\n",
       "      <td>1.023478</td>\n",
       "      <td>1296.0</td>\n",
       "    </tr>\n",
       "    <tr>\n",
       "      <th>2024-10-01</th>\n",
       "      <td>1360</td>\n",
       "      <td>503.0</td>\n",
       "      <td>0.369853</td>\n",
       "      <td>3052943.12</td>\n",
       "      <td>2244.811118</td>\n",
       "      <td>2961509.44</td>\n",
       "      <td>1418.0</td>\n",
       "      <td>0.959097</td>\n",
       "      <td>1177.0</td>\n",
       "    </tr>\n",
       "    <tr>\n",
       "      <th>2024-11-01</th>\n",
       "      <td>963</td>\n",
       "      <td>424.0</td>\n",
       "      <td>0.440291</td>\n",
       "      <td>2679493.25</td>\n",
       "      <td>2782.443666</td>\n",
       "      <td>2554753.36</td>\n",
       "      <td>1002.0</td>\n",
       "      <td>0.961078</td>\n",
       "      <td>1360.0</td>\n",
       "    </tr>\n",
       "    <tr>\n",
       "      <th>2024-12-01</th>\n",
       "      <td>606</td>\n",
       "      <td>284.0</td>\n",
       "      <td>0.468647</td>\n",
       "      <td>1882557.16</td>\n",
       "      <td>3106.529967</td>\n",
       "      <td>1894702.97</td>\n",
       "      <td>656.0</td>\n",
       "      <td>0.923780</td>\n",
       "      <td>963.0</td>\n",
       "    </tr>\n",
       "    <tr>\n",
       "      <th>2025-01-01</th>\n",
       "      <td>1</td>\n",
       "      <td>NaN</td>\n",
       "      <td>NaN</td>\n",
       "      <td>NaN</td>\n",
       "      <td>NaN</td>\n",
       "      <td>NaN</td>\n",
       "      <td>NaN</td>\n",
       "      <td>NaN</td>\n",
       "      <td>606.0</td>\n",
       "    </tr>\n",
       "  </tbody>\n",
       "</table>\n",
       "</div>"
      ],
      "text/plain": [
       "            quotes_sent  quotes_sold  conversion_rate       sales  \\\n",
       "month                                                               \n",
       "2024-09-01         1177        434.0         0.368734  2529838.33   \n",
       "2024-10-01         1360        503.0         0.369853  3052943.12   \n",
       "2024-11-01          963        424.0         0.440291  2679493.25   \n",
       "2024-12-01          606        284.0         0.468647  1882557.16   \n",
       "2025-01-01            1          NaN              NaN         NaN   \n",
       "\n",
       "             efficiency     revenue  inspections  quote_rate  \\\n",
       "month                                                          \n",
       "2024-09-01  2149.395353  2514816.75       1150.0    1.023478   \n",
       "2024-10-01  2244.811118  2961509.44       1418.0    0.959097   \n",
       "2024-11-01  2782.443666  2554753.36       1002.0    0.961078   \n",
       "2024-12-01  3106.529967  1894702.97        656.0    0.923780   \n",
       "2025-01-01          NaN         NaN          NaN         NaN   \n",
       "\n",
       "            last_month_quotes_sent  \n",
       "month                               \n",
       "2024-09-01                  1296.0  \n",
       "2024-10-01                  1177.0  \n",
       "2024-11-01                  1360.0  \n",
       "2024-12-01                   963.0  \n",
       "2025-01-01                   606.0  "
      ]
     },
     "execution_count": 14,
     "metadata": {},
     "output_type": "execute_result"
    }
   ],
   "source": [
    "monthly_performance.tail()"
   ]
  },
  {
   "cell_type": "code",
   "execution_count": 15,
   "metadata": {},
   "outputs": [],
   "source": [
    "# remove 2025 from monthly performance\n",
    "monthly_performance = monthly_performance[monthly_performance.index.year != 2025]"
   ]
  },
  {
   "cell_type": "code",
   "execution_count": 16,
   "metadata": {},
   "outputs": [
    {
     "name": "stderr",
     "output_type": "stream",
     "text": [
      "/opt/anaconda3/lib/python3.11/site-packages/_plotly_utils/basevalidators.py:106: FutureWarning: The behavior of DatetimeProperties.to_pydatetime is deprecated, in a future version this will return a Series containing python datetime objects instead of an ndarray. To retain the old behavior, call `np.array` on the result\n",
      "  v = v.dt.to_pydatetime()\n"
     ]
    },
    {
     "data": {
      "application/vnd.plotly.v1+json": {
       "config": {
        "plotlyServerURL": "https://plot.ly"
       },
       "data": [
        {
         "alignmentgroup": "True",
         "hovertemplate": "Month=%{x}<br>Total=%{y}<extra></extra>",
         "legendgroup": "",
         "marker": {
          "color": "#636efa",
          "pattern": {
           "shape": ""
          }
         },
         "name": "",
         "offsetgroup": "",
         "orientation": "v",
         "showlegend": false,
         "textposition": "auto",
         "type": "bar",
         "x": [
          "2019-01-01T00:00:00",
          "2019-02-01T00:00:00",
          "2019-03-01T00:00:00",
          "2019-04-01T00:00:00",
          "2019-05-01T00:00:00",
          "2019-06-01T00:00:00",
          "2019-07-01T00:00:00",
          "2019-08-01T00:00:00",
          "2019-09-01T00:00:00",
          "2019-10-01T00:00:00",
          "2019-11-01T00:00:00",
          "2019-12-01T00:00:00",
          "2020-01-01T00:00:00",
          "2020-02-01T00:00:00",
          "2020-03-01T00:00:00",
          "2020-04-01T00:00:00",
          "2020-05-01T00:00:00",
          "2020-06-01T00:00:00",
          "2020-07-01T00:00:00",
          "2020-08-01T00:00:00",
          "2020-09-01T00:00:00",
          "2020-10-01T00:00:00",
          "2020-11-01T00:00:00",
          "2020-12-01T00:00:00",
          "2021-01-01T00:00:00",
          "2021-02-01T00:00:00",
          "2021-03-01T00:00:00",
          "2021-04-01T00:00:00",
          "2021-05-01T00:00:00",
          "2021-06-01T00:00:00",
          "2021-07-01T00:00:00",
          "2021-08-01T00:00:00",
          "2021-09-01T00:00:00",
          "2021-10-01T00:00:00",
          "2021-11-01T00:00:00",
          "2021-12-01T00:00:00",
          "2022-01-01T00:00:00",
          "2022-02-01T00:00:00",
          "2022-03-01T00:00:00",
          "2022-04-01T00:00:00",
          "2022-05-01T00:00:00",
          "2022-06-01T00:00:00",
          "2022-07-01T00:00:00",
          "2022-08-01T00:00:00",
          "2022-09-01T00:00:00",
          "2022-10-01T00:00:00",
          "2022-11-01T00:00:00",
          "2022-12-01T00:00:00",
          "2023-01-01T00:00:00",
          "2023-02-01T00:00:00",
          "2023-03-01T00:00:00",
          "2023-04-01T00:00:00",
          "2023-05-01T00:00:00",
          "2023-06-01T00:00:00",
          "2023-07-01T00:00:00",
          "2023-08-01T00:00:00",
          "2023-09-01T00:00:00",
          "2023-10-01T00:00:00",
          "2023-11-01T00:00:00",
          "2023-12-01T00:00:00",
          "2024-01-01T00:00:00",
          "2024-02-01T00:00:00",
          "2024-03-01T00:00:00",
          "2024-04-01T00:00:00",
          "2024-05-01T00:00:00",
          "2024-06-01T00:00:00",
          "2024-07-01T00:00:00",
          "2024-08-01T00:00:00",
          "2024-09-01T00:00:00",
          "2024-10-01T00:00:00",
          "2024-11-01T00:00:00",
          "2024-12-01T00:00:00"
         ],
         "xaxis": "x",
         "y": [
          310320.1,
          259325,
          321048.72,
          273658.59,
          272369.13,
          286578.7,
          406409.76,
          273154.83,
          374481.06,
          388746.63,
          263754.16,
          313082.25,
          300825.48,
          353676.35,
          458511.79,
          411940.33,
          425898.86,
          661658.99,
          680855.84,
          862268.78,
          902764.02,
          909025.59,
          706501.27,
          640230.96,
          912001.78,
          945138.6900000001,
          1186512.69,
          1147709.8,
          1142461.47,
          1192920.43,
          1147852.56,
          1595135.06,
          1894795.64,
          1630940.52,
          1237669.78,
          977928.29,
          1371959.08,
          1362450.14,
          1892485.3,
          1669590.82,
          1430698.99,
          1297042,
          1862236.6,
          1788057.44,
          1974907.58,
          1596803.02,
          1471748.13,
          1478704.29,
          1698462.95,
          1882871.79,
          2228555.23,
          1948802.78,
          2021846.74,
          2273431.82,
          2510438.46,
          2372711.98,
          2550846.47,
          2264929.16,
          1543710.04,
          1121566.56,
          2146709.75,
          2383677.67,
          2365455.08,
          2578354.94,
          2349229.5,
          2244935.01,
          2683137.71,
          3065502.44,
          2529838.33,
          3052943.12,
          2679493.25,
          1882557.16
         ],
         "yaxis": "y"
        }
       ],
       "layout": {
        "barmode": "relative",
        "height": 600,
        "legend": {
         "tracegroupgap": 0
        },
        "template": {
         "data": {
          "bar": [
           {
            "error_x": {
             "color": "#2a3f5f"
            },
            "error_y": {
             "color": "#2a3f5f"
            },
            "marker": {
             "line": {
              "color": "#E5ECF6",
              "width": 0.5
             },
             "pattern": {
              "fillmode": "overlay",
              "size": 10,
              "solidity": 0.2
             }
            },
            "type": "bar"
           }
          ],
          "barpolar": [
           {
            "marker": {
             "line": {
              "color": "#E5ECF6",
              "width": 0.5
             },
             "pattern": {
              "fillmode": "overlay",
              "size": 10,
              "solidity": 0.2
             }
            },
            "type": "barpolar"
           }
          ],
          "carpet": [
           {
            "aaxis": {
             "endlinecolor": "#2a3f5f",
             "gridcolor": "white",
             "linecolor": "white",
             "minorgridcolor": "white",
             "startlinecolor": "#2a3f5f"
            },
            "baxis": {
             "endlinecolor": "#2a3f5f",
             "gridcolor": "white",
             "linecolor": "white",
             "minorgridcolor": "white",
             "startlinecolor": "#2a3f5f"
            },
            "type": "carpet"
           }
          ],
          "choropleth": [
           {
            "colorbar": {
             "outlinewidth": 0,
             "ticks": ""
            },
            "type": "choropleth"
           }
          ],
          "contour": [
           {
            "colorbar": {
             "outlinewidth": 0,
             "ticks": ""
            },
            "colorscale": [
             [
              0,
              "#0d0887"
             ],
             [
              0.1111111111111111,
              "#46039f"
             ],
             [
              0.2222222222222222,
              "#7201a8"
             ],
             [
              0.3333333333333333,
              "#9c179e"
             ],
             [
              0.4444444444444444,
              "#bd3786"
             ],
             [
              0.5555555555555556,
              "#d8576b"
             ],
             [
              0.6666666666666666,
              "#ed7953"
             ],
             [
              0.7777777777777778,
              "#fb9f3a"
             ],
             [
              0.8888888888888888,
              "#fdca26"
             ],
             [
              1,
              "#f0f921"
             ]
            ],
            "type": "contour"
           }
          ],
          "contourcarpet": [
           {
            "colorbar": {
             "outlinewidth": 0,
             "ticks": ""
            },
            "type": "contourcarpet"
           }
          ],
          "heatmap": [
           {
            "colorbar": {
             "outlinewidth": 0,
             "ticks": ""
            },
            "colorscale": [
             [
              0,
              "#0d0887"
             ],
             [
              0.1111111111111111,
              "#46039f"
             ],
             [
              0.2222222222222222,
              "#7201a8"
             ],
             [
              0.3333333333333333,
              "#9c179e"
             ],
             [
              0.4444444444444444,
              "#bd3786"
             ],
             [
              0.5555555555555556,
              "#d8576b"
             ],
             [
              0.6666666666666666,
              "#ed7953"
             ],
             [
              0.7777777777777778,
              "#fb9f3a"
             ],
             [
              0.8888888888888888,
              "#fdca26"
             ],
             [
              1,
              "#f0f921"
             ]
            ],
            "type": "heatmap"
           }
          ],
          "heatmapgl": [
           {
            "colorbar": {
             "outlinewidth": 0,
             "ticks": ""
            },
            "colorscale": [
             [
              0,
              "#0d0887"
             ],
             [
              0.1111111111111111,
              "#46039f"
             ],
             [
              0.2222222222222222,
              "#7201a8"
             ],
             [
              0.3333333333333333,
              "#9c179e"
             ],
             [
              0.4444444444444444,
              "#bd3786"
             ],
             [
              0.5555555555555556,
              "#d8576b"
             ],
             [
              0.6666666666666666,
              "#ed7953"
             ],
             [
              0.7777777777777778,
              "#fb9f3a"
             ],
             [
              0.8888888888888888,
              "#fdca26"
             ],
             [
              1,
              "#f0f921"
             ]
            ],
            "type": "heatmapgl"
           }
          ],
          "histogram": [
           {
            "marker": {
             "pattern": {
              "fillmode": "overlay",
              "size": 10,
              "solidity": 0.2
             }
            },
            "type": "histogram"
           }
          ],
          "histogram2d": [
           {
            "colorbar": {
             "outlinewidth": 0,
             "ticks": ""
            },
            "colorscale": [
             [
              0,
              "#0d0887"
             ],
             [
              0.1111111111111111,
              "#46039f"
             ],
             [
              0.2222222222222222,
              "#7201a8"
             ],
             [
              0.3333333333333333,
              "#9c179e"
             ],
             [
              0.4444444444444444,
              "#bd3786"
             ],
             [
              0.5555555555555556,
              "#d8576b"
             ],
             [
              0.6666666666666666,
              "#ed7953"
             ],
             [
              0.7777777777777778,
              "#fb9f3a"
             ],
             [
              0.8888888888888888,
              "#fdca26"
             ],
             [
              1,
              "#f0f921"
             ]
            ],
            "type": "histogram2d"
           }
          ],
          "histogram2dcontour": [
           {
            "colorbar": {
             "outlinewidth": 0,
             "ticks": ""
            },
            "colorscale": [
             [
              0,
              "#0d0887"
             ],
             [
              0.1111111111111111,
              "#46039f"
             ],
             [
              0.2222222222222222,
              "#7201a8"
             ],
             [
              0.3333333333333333,
              "#9c179e"
             ],
             [
              0.4444444444444444,
              "#bd3786"
             ],
             [
              0.5555555555555556,
              "#d8576b"
             ],
             [
              0.6666666666666666,
              "#ed7953"
             ],
             [
              0.7777777777777778,
              "#fb9f3a"
             ],
             [
              0.8888888888888888,
              "#fdca26"
             ],
             [
              1,
              "#f0f921"
             ]
            ],
            "type": "histogram2dcontour"
           }
          ],
          "mesh3d": [
           {
            "colorbar": {
             "outlinewidth": 0,
             "ticks": ""
            },
            "type": "mesh3d"
           }
          ],
          "parcoords": [
           {
            "line": {
             "colorbar": {
              "outlinewidth": 0,
              "ticks": ""
             }
            },
            "type": "parcoords"
           }
          ],
          "pie": [
           {
            "automargin": true,
            "type": "pie"
           }
          ],
          "scatter": [
           {
            "fillpattern": {
             "fillmode": "overlay",
             "size": 10,
             "solidity": 0.2
            },
            "type": "scatter"
           }
          ],
          "scatter3d": [
           {
            "line": {
             "colorbar": {
              "outlinewidth": 0,
              "ticks": ""
             }
            },
            "marker": {
             "colorbar": {
              "outlinewidth": 0,
              "ticks": ""
             }
            },
            "type": "scatter3d"
           }
          ],
          "scattercarpet": [
           {
            "marker": {
             "colorbar": {
              "outlinewidth": 0,
              "ticks": ""
             }
            },
            "type": "scattercarpet"
           }
          ],
          "scattergeo": [
           {
            "marker": {
             "colorbar": {
              "outlinewidth": 0,
              "ticks": ""
             }
            },
            "type": "scattergeo"
           }
          ],
          "scattergl": [
           {
            "marker": {
             "colorbar": {
              "outlinewidth": 0,
              "ticks": ""
             }
            },
            "type": "scattergl"
           }
          ],
          "scattermapbox": [
           {
            "marker": {
             "colorbar": {
              "outlinewidth": 0,
              "ticks": ""
             }
            },
            "type": "scattermapbox"
           }
          ],
          "scatterpolar": [
           {
            "marker": {
             "colorbar": {
              "outlinewidth": 0,
              "ticks": ""
             }
            },
            "type": "scatterpolar"
           }
          ],
          "scatterpolargl": [
           {
            "marker": {
             "colorbar": {
              "outlinewidth": 0,
              "ticks": ""
             }
            },
            "type": "scatterpolargl"
           }
          ],
          "scatterternary": [
           {
            "marker": {
             "colorbar": {
              "outlinewidth": 0,
              "ticks": ""
             }
            },
            "type": "scatterternary"
           }
          ],
          "surface": [
           {
            "colorbar": {
             "outlinewidth": 0,
             "ticks": ""
            },
            "colorscale": [
             [
              0,
              "#0d0887"
             ],
             [
              0.1111111111111111,
              "#46039f"
             ],
             [
              0.2222222222222222,
              "#7201a8"
             ],
             [
              0.3333333333333333,
              "#9c179e"
             ],
             [
              0.4444444444444444,
              "#bd3786"
             ],
             [
              0.5555555555555556,
              "#d8576b"
             ],
             [
              0.6666666666666666,
              "#ed7953"
             ],
             [
              0.7777777777777778,
              "#fb9f3a"
             ],
             [
              0.8888888888888888,
              "#fdca26"
             ],
             [
              1,
              "#f0f921"
             ]
            ],
            "type": "surface"
           }
          ],
          "table": [
           {
            "cells": {
             "fill": {
              "color": "#EBF0F8"
             },
             "line": {
              "color": "white"
             }
            },
            "header": {
             "fill": {
              "color": "#C8D4E3"
             },
             "line": {
              "color": "white"
             }
            },
            "type": "table"
           }
          ]
         },
         "layout": {
          "annotationdefaults": {
           "arrowcolor": "#2a3f5f",
           "arrowhead": 0,
           "arrowwidth": 1
          },
          "autotypenumbers": "strict",
          "coloraxis": {
           "colorbar": {
            "outlinewidth": 0,
            "ticks": ""
           }
          },
          "colorscale": {
           "diverging": [
            [
             0,
             "#8e0152"
            ],
            [
             0.1,
             "#c51b7d"
            ],
            [
             0.2,
             "#de77ae"
            ],
            [
             0.3,
             "#f1b6da"
            ],
            [
             0.4,
             "#fde0ef"
            ],
            [
             0.5,
             "#f7f7f7"
            ],
            [
             0.6,
             "#e6f5d0"
            ],
            [
             0.7,
             "#b8e186"
            ],
            [
             0.8,
             "#7fbc41"
            ],
            [
             0.9,
             "#4d9221"
            ],
            [
             1,
             "#276419"
            ]
           ],
           "sequential": [
            [
             0,
             "#0d0887"
            ],
            [
             0.1111111111111111,
             "#46039f"
            ],
            [
             0.2222222222222222,
             "#7201a8"
            ],
            [
             0.3333333333333333,
             "#9c179e"
            ],
            [
             0.4444444444444444,
             "#bd3786"
            ],
            [
             0.5555555555555556,
             "#d8576b"
            ],
            [
             0.6666666666666666,
             "#ed7953"
            ],
            [
             0.7777777777777778,
             "#fb9f3a"
            ],
            [
             0.8888888888888888,
             "#fdca26"
            ],
            [
             1,
             "#f0f921"
            ]
           ],
           "sequentialminus": [
            [
             0,
             "#0d0887"
            ],
            [
             0.1111111111111111,
             "#46039f"
            ],
            [
             0.2222222222222222,
             "#7201a8"
            ],
            [
             0.3333333333333333,
             "#9c179e"
            ],
            [
             0.4444444444444444,
             "#bd3786"
            ],
            [
             0.5555555555555556,
             "#d8576b"
            ],
            [
             0.6666666666666666,
             "#ed7953"
            ],
            [
             0.7777777777777778,
             "#fb9f3a"
            ],
            [
             0.8888888888888888,
             "#fdca26"
            ],
            [
             1,
             "#f0f921"
            ]
           ]
          },
          "colorway": [
           "#636efa",
           "#EF553B",
           "#00cc96",
           "#ab63fa",
           "#FFA15A",
           "#19d3f3",
           "#FF6692",
           "#B6E880",
           "#FF97FF",
           "#FECB52"
          ],
          "font": {
           "color": "#2a3f5f"
          },
          "geo": {
           "bgcolor": "white",
           "lakecolor": "white",
           "landcolor": "#E5ECF6",
           "showlakes": true,
           "showland": true,
           "subunitcolor": "white"
          },
          "hoverlabel": {
           "align": "left"
          },
          "hovermode": "closest",
          "mapbox": {
           "style": "light"
          },
          "paper_bgcolor": "white",
          "plot_bgcolor": "#E5ECF6",
          "polar": {
           "angularaxis": {
            "gridcolor": "white",
            "linecolor": "white",
            "ticks": ""
           },
           "bgcolor": "#E5ECF6",
           "radialaxis": {
            "gridcolor": "white",
            "linecolor": "white",
            "ticks": ""
           }
          },
          "scene": {
           "xaxis": {
            "backgroundcolor": "#E5ECF6",
            "gridcolor": "white",
            "gridwidth": 2,
            "linecolor": "white",
            "showbackground": true,
            "ticks": "",
            "zerolinecolor": "white"
           },
           "yaxis": {
            "backgroundcolor": "#E5ECF6",
            "gridcolor": "white",
            "gridwidth": 2,
            "linecolor": "white",
            "showbackground": true,
            "ticks": "",
            "zerolinecolor": "white"
           },
           "zaxis": {
            "backgroundcolor": "#E5ECF6",
            "gridcolor": "white",
            "gridwidth": 2,
            "linecolor": "white",
            "showbackground": true,
            "ticks": "",
            "zerolinecolor": "white"
           }
          },
          "shapedefaults": {
           "line": {
            "color": "#2a3f5f"
           }
          },
          "ternary": {
           "aaxis": {
            "gridcolor": "white",
            "linecolor": "white",
            "ticks": ""
           },
           "baxis": {
            "gridcolor": "white",
            "linecolor": "white",
            "ticks": ""
           },
           "bgcolor": "#E5ECF6",
           "caxis": {
            "gridcolor": "white",
            "linecolor": "white",
            "ticks": ""
           }
          },
          "title": {
           "x": 0.05
          },
          "xaxis": {
           "automargin": true,
           "gridcolor": "white",
           "linecolor": "white",
           "ticks": "",
           "title": {
            "standoff": 15
           },
           "zerolinecolor": "white",
           "zerolinewidth": 2
          },
          "yaxis": {
           "automargin": true,
           "gridcolor": "white",
           "linecolor": "white",
           "ticks": "",
           "title": {
            "standoff": 15
           },
           "zerolinecolor": "white",
           "zerolinewidth": 2
          }
         }
        },
        "title": {
         "text": "Monthly Sales"
        },
        "width": 1000,
        "xaxis": {
         "anchor": "y",
         "domain": [
          0,
          1
         ],
         "tickangle": -90,
         "title": {
          "text": "Month"
         }
        },
        "yaxis": {
         "anchor": "x",
         "domain": [
          0,
          1
         ],
         "title": {
          "text": "Total"
         }
        }
       }
      }
     },
     "metadata": {},
     "output_type": "display_data"
    }
   ],
   "source": [
    "# Plotly Bar Chart\n",
    "fig = px.bar(\n",
    "    monthly_performance.reset_index(),\n",
    "    x='month',\n",
    "    y='sales',\n",
    "    title='Monthly Sales',\n",
    "    labels={'month': 'Month', 'sales': 'Total'}\n",
    ")\n",
    "\n",
    "# Customize Layout (for x-axis rotation and better visualization)\n",
    "fig.update_layout(\n",
    "    xaxis_tickangle=-90,\n",
    "    height=600,\n",
    "    width=1000,\n",
    "    xaxis_title='Month',\n",
    "    yaxis_title='Total'\n",
    ")\n",
    "\n",
    "fig.show()\n",
    "fig.write_html('monthly_sales.html')"
   ]
  },
  {
   "cell_type": "code",
   "execution_count": 40,
   "metadata": {},
   "outputs": [
    {
     "name": "stdout",
     "output_type": "stream",
     "text": [
      "RUNNING THE L-BFGS-B CODE\n",
      "\n",
      "           * * *\n",
      "\n",
      "Machine precision = 2.220D-16\n",
      " N =            5     M =           10\n",
      "\n",
      "At X0         0 variables are exactly at the bounds\n",
      "\n",
      "At iterate    0    f=  1.14021D+01    |proj g|=  1.03458D-01\n",
      "\n",
      "At iterate    5    f=  1.13636D+01    |proj g|=  1.06376D-02\n",
      "\n",
      "At iterate   10    f=  1.13627D+01    |proj g|=  3.92467D-04\n",
      "\n",
      "           * * *\n",
      "\n",
      "Tit   = total number of iterations\n",
      "Tnf   = total number of function evaluations\n",
      "Tnint = total number of segments explored during Cauchy searches\n",
      "Skip  = number of BFGS updates skipped\n",
      "Nact  = number of active bounds at final generalized Cauchy point\n",
      "Projg = norm of the final projected gradient\n",
      "F     = final function value\n",
      "\n",
      "           * * *\n",
      "\n",
      "   N    Tit     Tnf  Tnint  Skip  Nact     Projg        F\n",
      "    5     12     14      1     0     0   3.552D-06   1.136D+01\n",
      "  F =   11.362740666903857     \n",
      "\n",
      "CONVERGENCE: NORM_OF_PROJECTED_GRADIENT_<=_PGTOL            \n"
     ]
    },
    {
     "name": "stderr",
     "output_type": "stream",
     "text": [
      " This problem is unconstrained.\n"
     ]
    },
    {
     "data": {
      "application/vnd.plotly.v1+json": {
       "config": {
        "plotlyServerURL": "https://plot.ly"
       },
       "data": [
        {
         "mode": "lines",
         "name": "Sales",
         "type": "scatter",
         "x": [
          "2019-01-01T00:00:00",
          "2019-02-01T00:00:00",
          "2019-03-01T00:00:00",
          "2019-04-01T00:00:00",
          "2019-05-01T00:00:00",
          "2019-06-01T00:00:00",
          "2019-07-01T00:00:00",
          "2019-08-01T00:00:00",
          "2019-09-01T00:00:00",
          "2019-10-01T00:00:00",
          "2019-11-01T00:00:00",
          "2019-12-01T00:00:00",
          "2020-01-01T00:00:00",
          "2020-02-01T00:00:00",
          "2020-03-01T00:00:00",
          "2020-04-01T00:00:00",
          "2020-05-01T00:00:00",
          "2020-06-01T00:00:00",
          "2020-07-01T00:00:00",
          "2020-08-01T00:00:00",
          "2020-09-01T00:00:00",
          "2020-10-01T00:00:00",
          "2020-11-01T00:00:00",
          "2020-12-01T00:00:00",
          "2021-01-01T00:00:00",
          "2021-02-01T00:00:00",
          "2021-03-01T00:00:00",
          "2021-04-01T00:00:00",
          "2021-05-01T00:00:00",
          "2021-06-01T00:00:00",
          "2021-07-01T00:00:00",
          "2021-08-01T00:00:00",
          "2021-09-01T00:00:00",
          "2021-10-01T00:00:00",
          "2021-11-01T00:00:00",
          "2021-12-01T00:00:00",
          "2022-01-01T00:00:00",
          "2022-02-01T00:00:00",
          "2022-03-01T00:00:00",
          "2022-04-01T00:00:00",
          "2022-05-01T00:00:00",
          "2022-06-01T00:00:00",
          "2022-07-01T00:00:00",
          "2022-08-01T00:00:00",
          "2022-09-01T00:00:00",
          "2022-10-01T00:00:00",
          "2022-11-01T00:00:00",
          "2022-12-01T00:00:00",
          "2023-01-01T00:00:00",
          "2023-02-01T00:00:00",
          "2023-03-01T00:00:00",
          "2023-04-01T00:00:00",
          "2023-05-01T00:00:00",
          "2023-06-01T00:00:00",
          "2023-07-01T00:00:00",
          "2023-08-01T00:00:00",
          "2023-09-01T00:00:00",
          "2023-10-01T00:00:00",
          "2023-11-01T00:00:00",
          "2023-12-01T00:00:00",
          "2024-01-01T00:00:00",
          "2024-02-01T00:00:00",
          "2024-03-01T00:00:00",
          "2024-04-01T00:00:00",
          "2024-05-01T00:00:00",
          "2024-06-01T00:00:00",
          "2024-07-01T00:00:00",
          "2024-08-01T00:00:00",
          "2024-09-01T00:00:00",
          "2024-10-01T00:00:00",
          "2024-11-01T00:00:00",
          "2024-12-01T00:00:00"
         ],
         "y": [
          310320.1,
          259325,
          321048.72,
          273658.59,
          272369.13,
          286578.7,
          406409.76,
          273154.83,
          374481.06,
          388746.63,
          263754.16,
          313082.25,
          300825.48,
          353676.35,
          458511.79,
          411940.33,
          425898.86,
          661658.99,
          680855.84,
          862268.78,
          902764.02,
          909025.59,
          706501.27,
          640230.96,
          912001.78,
          945138.6900000001,
          1186512.69,
          1147709.8,
          1142461.47,
          1192920.43,
          1147852.56,
          1595135.06,
          1894795.64,
          1630940.52,
          1237669.78,
          977928.29,
          1371959.08,
          1362450.14,
          1892485.3,
          1669590.82,
          1430698.99,
          1297042,
          1862236.6,
          1788057.44,
          1974907.58,
          1596803.02,
          1471748.13,
          1478704.29,
          1698462.95,
          1882871.79,
          2228555.23,
          1948802.78,
          2021846.74,
          2273431.82,
          2510438.46,
          2372711.98,
          2550846.47,
          2264929.16,
          1543710.04,
          1121566.56,
          2146709.75,
          2383677.67,
          2365455.08,
          2578354.94,
          2349229.5,
          2244935.01,
          2683137.71,
          3065502.44,
          2529838.33,
          3052943.12,
          2679493.25,
          1882557.16
         ]
        },
        {
         "line": {
          "color": "orange",
          "dash": "dash"
         },
         "mode": "lines",
         "name": "Forecast",
         "type": "scatter",
         "x": [
          "2025-01-31T00:00:00",
          "2025-02-28T00:00:00",
          "2025-03-31T00:00:00",
          "2025-04-30T00:00:00",
          "2025-05-31T00:00:00",
          "2025-06-30T00:00:00",
          "2025-07-31T00:00:00",
          "2025-08-31T00:00:00",
          "2025-09-30T00:00:00",
          "2025-10-31T00:00:00",
          "2025-11-30T00:00:00",
          "2025-12-31T00:00:00",
          "2026-01-31T00:00:00",
          "2026-02-28T00:00:00",
          "2026-03-31T00:00:00",
          "2026-04-30T00:00:00",
          "2026-05-31T00:00:00",
          "2026-06-30T00:00:00",
          "2026-07-31T00:00:00",
          "2026-08-31T00:00:00",
          "2026-09-30T00:00:00",
          "2026-10-31T00:00:00",
          "2026-11-30T00:00:00",
          "2026-12-31T00:00:00"
         ],
         "y": [
          2580279.654878174,
          2778098.361392233,
          2966703.317703574,
          2949232.5873853983,
          2835149.325166249,
          2858363.743541549,
          3214432.461267012,
          3365508.740257847,
          3203629.4659905485,
          3303927.917966366,
          2849836.8421693253,
          2316038.622478306,
          3038877.855583431,
          3234769.4135663323,
          3388667.6705735107,
          3406311.5667334464,
          3274068.456687234,
          3277346.0242304397,
          3646186.1853463114,
          3833284.3171967403,
          3613176.4682934494,
          3779336.9296594583,
          3337807.532416539,
          2763018.9221398
         ]
        },
        {
         "line": {
          "color": "rgba(255,165,0,0.3)"
         },
         "mode": "lines",
         "name": "Upper Bound",
         "type": "scatter",
         "x": [
          "2025-01-31T00:00:00",
          "2025-02-28T00:00:00",
          "2025-03-31T00:00:00",
          "2025-04-30T00:00:00",
          "2025-05-31T00:00:00",
          "2025-06-30T00:00:00",
          "2025-07-31T00:00:00",
          "2025-08-31T00:00:00",
          "2025-09-30T00:00:00",
          "2025-10-31T00:00:00",
          "2025-11-30T00:00:00",
          "2025-12-31T00:00:00",
          "2026-01-31T00:00:00",
          "2026-02-28T00:00:00",
          "2026-03-31T00:00:00",
          "2026-04-30T00:00:00",
          "2026-05-31T00:00:00",
          "2026-06-30T00:00:00",
          "2026-07-31T00:00:00",
          "2026-08-31T00:00:00",
          "2026-09-30T00:00:00",
          "2026-10-31T00:00:00",
          "2026-11-30T00:00:00",
          "2026-12-31T00:00:00"
         ],
         "y": [
          3158635.6025447063,
          3408651.657514748,
          3614800.3708855635,
          3608043.3279789696,
          3502847.834004651,
          3534354.7218290535,
          3898471.473989736,
          4057458.3389618937,
          3903386.824521308,
          4011402.8087894656,
          3564944.8616683204,
          3038699.120481537,
          3856431.548718253,
          4082716.705818849,
          4254732.099533781,
          4287231.644334459,
          4168766.383445571,
          4185363.682332781,
          4567255.306973815,
          4767199.436904568,
          4559756.224685229,
          4738411.987083839,
          4309216.659310968,
          3746607.670721574
         ]
        },
        {
         "fill": "tonexty",
         "line": {
          "color": "rgba(255,165,0,0.3)"
         },
         "mode": "lines",
         "name": "Lower Bound",
         "type": "scatter",
         "x": [
          "2025-01-31T00:00:00",
          "2025-02-28T00:00:00",
          "2025-03-31T00:00:00",
          "2025-04-30T00:00:00",
          "2025-05-31T00:00:00",
          "2025-06-30T00:00:00",
          "2025-07-31T00:00:00",
          "2025-08-31T00:00:00",
          "2025-09-30T00:00:00",
          "2025-10-31T00:00:00",
          "2025-11-30T00:00:00",
          "2025-12-31T00:00:00",
          "2026-01-31T00:00:00",
          "2026-02-28T00:00:00",
          "2026-03-31T00:00:00",
          "2026-04-30T00:00:00",
          "2026-05-31T00:00:00",
          "2026-06-30T00:00:00",
          "2026-07-31T00:00:00",
          "2026-08-31T00:00:00",
          "2026-09-30T00:00:00",
          "2026-10-31T00:00:00",
          "2026-11-30T00:00:00",
          "2026-12-31T00:00:00"
         ],
         "y": [
          2001923.7072116416,
          2147545.065269718,
          2318606.2645215844,
          2290421.846791827,
          2167450.8163278475,
          2182372.7652540444,
          2530393.4485442885,
          2673559.1415538006,
          2503872.107459789,
          2596453.027143266,
          2134728.8226703303,
          1593378.1244750745,
          2221324.1624486092,
          2386822.1213138155,
          2522603.2416132404,
          2525391.489132434,
          2379370.5299288966,
          2369328.366128098,
          2725117.0637188074,
          2899369.197488912,
          2666596.71190167,
          2820261.8722350774,
          2366398.40552211,
          1779430.173558026
         ]
        }
       ],
       "layout": {
        "height": 600,
        "legend": {
         "title": {
          "text": "Legend"
         }
        },
        "template": {
         "data": {
          "bar": [
           {
            "error_x": {
             "color": "#2a3f5f"
            },
            "error_y": {
             "color": "#2a3f5f"
            },
            "marker": {
             "line": {
              "color": "#E5ECF6",
              "width": 0.5
             },
             "pattern": {
              "fillmode": "overlay",
              "size": 10,
              "solidity": 0.2
             }
            },
            "type": "bar"
           }
          ],
          "barpolar": [
           {
            "marker": {
             "line": {
              "color": "#E5ECF6",
              "width": 0.5
             },
             "pattern": {
              "fillmode": "overlay",
              "size": 10,
              "solidity": 0.2
             }
            },
            "type": "barpolar"
           }
          ],
          "carpet": [
           {
            "aaxis": {
             "endlinecolor": "#2a3f5f",
             "gridcolor": "white",
             "linecolor": "white",
             "minorgridcolor": "white",
             "startlinecolor": "#2a3f5f"
            },
            "baxis": {
             "endlinecolor": "#2a3f5f",
             "gridcolor": "white",
             "linecolor": "white",
             "minorgridcolor": "white",
             "startlinecolor": "#2a3f5f"
            },
            "type": "carpet"
           }
          ],
          "choropleth": [
           {
            "colorbar": {
             "outlinewidth": 0,
             "ticks": ""
            },
            "type": "choropleth"
           }
          ],
          "contour": [
           {
            "colorbar": {
             "outlinewidth": 0,
             "ticks": ""
            },
            "colorscale": [
             [
              0,
              "#0d0887"
             ],
             [
              0.1111111111111111,
              "#46039f"
             ],
             [
              0.2222222222222222,
              "#7201a8"
             ],
             [
              0.3333333333333333,
              "#9c179e"
             ],
             [
              0.4444444444444444,
              "#bd3786"
             ],
             [
              0.5555555555555556,
              "#d8576b"
             ],
             [
              0.6666666666666666,
              "#ed7953"
             ],
             [
              0.7777777777777778,
              "#fb9f3a"
             ],
             [
              0.8888888888888888,
              "#fdca26"
             ],
             [
              1,
              "#f0f921"
             ]
            ],
            "type": "contour"
           }
          ],
          "contourcarpet": [
           {
            "colorbar": {
             "outlinewidth": 0,
             "ticks": ""
            },
            "type": "contourcarpet"
           }
          ],
          "heatmap": [
           {
            "colorbar": {
             "outlinewidth": 0,
             "ticks": ""
            },
            "colorscale": [
             [
              0,
              "#0d0887"
             ],
             [
              0.1111111111111111,
              "#46039f"
             ],
             [
              0.2222222222222222,
              "#7201a8"
             ],
             [
              0.3333333333333333,
              "#9c179e"
             ],
             [
              0.4444444444444444,
              "#bd3786"
             ],
             [
              0.5555555555555556,
              "#d8576b"
             ],
             [
              0.6666666666666666,
              "#ed7953"
             ],
             [
              0.7777777777777778,
              "#fb9f3a"
             ],
             [
              0.8888888888888888,
              "#fdca26"
             ],
             [
              1,
              "#f0f921"
             ]
            ],
            "type": "heatmap"
           }
          ],
          "heatmapgl": [
           {
            "colorbar": {
             "outlinewidth": 0,
             "ticks": ""
            },
            "colorscale": [
             [
              0,
              "#0d0887"
             ],
             [
              0.1111111111111111,
              "#46039f"
             ],
             [
              0.2222222222222222,
              "#7201a8"
             ],
             [
              0.3333333333333333,
              "#9c179e"
             ],
             [
              0.4444444444444444,
              "#bd3786"
             ],
             [
              0.5555555555555556,
              "#d8576b"
             ],
             [
              0.6666666666666666,
              "#ed7953"
             ],
             [
              0.7777777777777778,
              "#fb9f3a"
             ],
             [
              0.8888888888888888,
              "#fdca26"
             ],
             [
              1,
              "#f0f921"
             ]
            ],
            "type": "heatmapgl"
           }
          ],
          "histogram": [
           {
            "marker": {
             "pattern": {
              "fillmode": "overlay",
              "size": 10,
              "solidity": 0.2
             }
            },
            "type": "histogram"
           }
          ],
          "histogram2d": [
           {
            "colorbar": {
             "outlinewidth": 0,
             "ticks": ""
            },
            "colorscale": [
             [
              0,
              "#0d0887"
             ],
             [
              0.1111111111111111,
              "#46039f"
             ],
             [
              0.2222222222222222,
              "#7201a8"
             ],
             [
              0.3333333333333333,
              "#9c179e"
             ],
             [
              0.4444444444444444,
              "#bd3786"
             ],
             [
              0.5555555555555556,
              "#d8576b"
             ],
             [
              0.6666666666666666,
              "#ed7953"
             ],
             [
              0.7777777777777778,
              "#fb9f3a"
             ],
             [
              0.8888888888888888,
              "#fdca26"
             ],
             [
              1,
              "#f0f921"
             ]
            ],
            "type": "histogram2d"
           }
          ],
          "histogram2dcontour": [
           {
            "colorbar": {
             "outlinewidth": 0,
             "ticks": ""
            },
            "colorscale": [
             [
              0,
              "#0d0887"
             ],
             [
              0.1111111111111111,
              "#46039f"
             ],
             [
              0.2222222222222222,
              "#7201a8"
             ],
             [
              0.3333333333333333,
              "#9c179e"
             ],
             [
              0.4444444444444444,
              "#bd3786"
             ],
             [
              0.5555555555555556,
              "#d8576b"
             ],
             [
              0.6666666666666666,
              "#ed7953"
             ],
             [
              0.7777777777777778,
              "#fb9f3a"
             ],
             [
              0.8888888888888888,
              "#fdca26"
             ],
             [
              1,
              "#f0f921"
             ]
            ],
            "type": "histogram2dcontour"
           }
          ],
          "mesh3d": [
           {
            "colorbar": {
             "outlinewidth": 0,
             "ticks": ""
            },
            "type": "mesh3d"
           }
          ],
          "parcoords": [
           {
            "line": {
             "colorbar": {
              "outlinewidth": 0,
              "ticks": ""
             }
            },
            "type": "parcoords"
           }
          ],
          "pie": [
           {
            "automargin": true,
            "type": "pie"
           }
          ],
          "scatter": [
           {
            "fillpattern": {
             "fillmode": "overlay",
             "size": 10,
             "solidity": 0.2
            },
            "type": "scatter"
           }
          ],
          "scatter3d": [
           {
            "line": {
             "colorbar": {
              "outlinewidth": 0,
              "ticks": ""
             }
            },
            "marker": {
             "colorbar": {
              "outlinewidth": 0,
              "ticks": ""
             }
            },
            "type": "scatter3d"
           }
          ],
          "scattercarpet": [
           {
            "marker": {
             "colorbar": {
              "outlinewidth": 0,
              "ticks": ""
             }
            },
            "type": "scattercarpet"
           }
          ],
          "scattergeo": [
           {
            "marker": {
             "colorbar": {
              "outlinewidth": 0,
              "ticks": ""
             }
            },
            "type": "scattergeo"
           }
          ],
          "scattergl": [
           {
            "marker": {
             "colorbar": {
              "outlinewidth": 0,
              "ticks": ""
             }
            },
            "type": "scattergl"
           }
          ],
          "scattermapbox": [
           {
            "marker": {
             "colorbar": {
              "outlinewidth": 0,
              "ticks": ""
             }
            },
            "type": "scattermapbox"
           }
          ],
          "scatterpolar": [
           {
            "marker": {
             "colorbar": {
              "outlinewidth": 0,
              "ticks": ""
             }
            },
            "type": "scatterpolar"
           }
          ],
          "scatterpolargl": [
           {
            "marker": {
             "colorbar": {
              "outlinewidth": 0,
              "ticks": ""
             }
            },
            "type": "scatterpolargl"
           }
          ],
          "scatterternary": [
           {
            "marker": {
             "colorbar": {
              "outlinewidth": 0,
              "ticks": ""
             }
            },
            "type": "scatterternary"
           }
          ],
          "surface": [
           {
            "colorbar": {
             "outlinewidth": 0,
             "ticks": ""
            },
            "colorscale": [
             [
              0,
              "#0d0887"
             ],
             [
              0.1111111111111111,
              "#46039f"
             ],
             [
              0.2222222222222222,
              "#7201a8"
             ],
             [
              0.3333333333333333,
              "#9c179e"
             ],
             [
              0.4444444444444444,
              "#bd3786"
             ],
             [
              0.5555555555555556,
              "#d8576b"
             ],
             [
              0.6666666666666666,
              "#ed7953"
             ],
             [
              0.7777777777777778,
              "#fb9f3a"
             ],
             [
              0.8888888888888888,
              "#fdca26"
             ],
             [
              1,
              "#f0f921"
             ]
            ],
            "type": "surface"
           }
          ],
          "table": [
           {
            "cells": {
             "fill": {
              "color": "#EBF0F8"
             },
             "line": {
              "color": "white"
             }
            },
            "header": {
             "fill": {
              "color": "#C8D4E3"
             },
             "line": {
              "color": "white"
             }
            },
            "type": "table"
           }
          ]
         },
         "layout": {
          "annotationdefaults": {
           "arrowcolor": "#2a3f5f",
           "arrowhead": 0,
           "arrowwidth": 1
          },
          "autotypenumbers": "strict",
          "coloraxis": {
           "colorbar": {
            "outlinewidth": 0,
            "ticks": ""
           }
          },
          "colorscale": {
           "diverging": [
            [
             0,
             "#8e0152"
            ],
            [
             0.1,
             "#c51b7d"
            ],
            [
             0.2,
             "#de77ae"
            ],
            [
             0.3,
             "#f1b6da"
            ],
            [
             0.4,
             "#fde0ef"
            ],
            [
             0.5,
             "#f7f7f7"
            ],
            [
             0.6,
             "#e6f5d0"
            ],
            [
             0.7,
             "#b8e186"
            ],
            [
             0.8,
             "#7fbc41"
            ],
            [
             0.9,
             "#4d9221"
            ],
            [
             1,
             "#276419"
            ]
           ],
           "sequential": [
            [
             0,
             "#0d0887"
            ],
            [
             0.1111111111111111,
             "#46039f"
            ],
            [
             0.2222222222222222,
             "#7201a8"
            ],
            [
             0.3333333333333333,
             "#9c179e"
            ],
            [
             0.4444444444444444,
             "#bd3786"
            ],
            [
             0.5555555555555556,
             "#d8576b"
            ],
            [
             0.6666666666666666,
             "#ed7953"
            ],
            [
             0.7777777777777778,
             "#fb9f3a"
            ],
            [
             0.8888888888888888,
             "#fdca26"
            ],
            [
             1,
             "#f0f921"
            ]
           ],
           "sequentialminus": [
            [
             0,
             "#0d0887"
            ],
            [
             0.1111111111111111,
             "#46039f"
            ],
            [
             0.2222222222222222,
             "#7201a8"
            ],
            [
             0.3333333333333333,
             "#9c179e"
            ],
            [
             0.4444444444444444,
             "#bd3786"
            ],
            [
             0.5555555555555556,
             "#d8576b"
            ],
            [
             0.6666666666666666,
             "#ed7953"
            ],
            [
             0.7777777777777778,
             "#fb9f3a"
            ],
            [
             0.8888888888888888,
             "#fdca26"
            ],
            [
             1,
             "#f0f921"
            ]
           ]
          },
          "colorway": [
           "#636efa",
           "#EF553B",
           "#00cc96",
           "#ab63fa",
           "#FFA15A",
           "#19d3f3",
           "#FF6692",
           "#B6E880",
           "#FF97FF",
           "#FECB52"
          ],
          "font": {
           "color": "#2a3f5f"
          },
          "geo": {
           "bgcolor": "white",
           "lakecolor": "white",
           "landcolor": "#E5ECF6",
           "showlakes": true,
           "showland": true,
           "subunitcolor": "white"
          },
          "hoverlabel": {
           "align": "left"
          },
          "hovermode": "closest",
          "mapbox": {
           "style": "light"
          },
          "paper_bgcolor": "white",
          "plot_bgcolor": "#E5ECF6",
          "polar": {
           "angularaxis": {
            "gridcolor": "white",
            "linecolor": "white",
            "ticks": ""
           },
           "bgcolor": "#E5ECF6",
           "radialaxis": {
            "gridcolor": "white",
            "linecolor": "white",
            "ticks": ""
           }
          },
          "scene": {
           "xaxis": {
            "backgroundcolor": "#E5ECF6",
            "gridcolor": "white",
            "gridwidth": 2,
            "linecolor": "white",
            "showbackground": true,
            "ticks": "",
            "zerolinecolor": "white"
           },
           "yaxis": {
            "backgroundcolor": "#E5ECF6",
            "gridcolor": "white",
            "gridwidth": 2,
            "linecolor": "white",
            "showbackground": true,
            "ticks": "",
            "zerolinecolor": "white"
           },
           "zaxis": {
            "backgroundcolor": "#E5ECF6",
            "gridcolor": "white",
            "gridwidth": 2,
            "linecolor": "white",
            "showbackground": true,
            "ticks": "",
            "zerolinecolor": "white"
           }
          },
          "shapedefaults": {
           "line": {
            "color": "#2a3f5f"
           }
          },
          "ternary": {
           "aaxis": {
            "gridcolor": "white",
            "linecolor": "white",
            "ticks": ""
           },
           "baxis": {
            "gridcolor": "white",
            "linecolor": "white",
            "ticks": ""
           },
           "bgcolor": "#E5ECF6",
           "caxis": {
            "gridcolor": "white",
            "linecolor": "white",
            "ticks": ""
           }
          },
          "title": {
           "x": 0.05
          },
          "xaxis": {
           "automargin": true,
           "gridcolor": "white",
           "linecolor": "white",
           "ticks": "",
           "title": {
            "standoff": 15
           },
           "zerolinecolor": "white",
           "zerolinewidth": 2
          },
          "yaxis": {
           "automargin": true,
           "gridcolor": "white",
           "linecolor": "white",
           "ticks": "",
           "title": {
            "standoff": 15
           },
           "zerolinecolor": "white",
           "zerolinewidth": 2
          }
         }
        },
        "title": {
         "text": "Monthly Sales with Seasonality Forecast"
        },
        "width": 900,
        "xaxis": {
         "title": {
          "text": "Date"
         }
        },
        "yaxis": {
         "title": {
          "text": "Sales (Millions)"
         }
        }
       }
      }
     },
     "metadata": {},
     "output_type": "display_data"
    }
   ],
   "source": [
    "from statsmodels.tsa.statespace.sarimax import SARIMAX\n",
    "import plotly.graph_objects as go\n",
    "import pandas as pd\n",
    "import warnings\n",
    "warnings.filterwarnings('ignore')\n",
    "\n",
    "# SARIMA hyperparameters\n",
    "sales_sarima_model = SARIMAX(monthly_performance['sales'], order=(1, 1, 1), seasonal_order=(1, 1, 1, 12))\n",
    "sales_sarima_result = sales_sarima_model.fit()\n",
    "\n",
    "# Forecast range (end of 2026)\n",
    "forecast_steps = 24  # Forecast for 24 months (end of 2026)\n",
    "\n",
    "# Forecast the values\n",
    "forecast = sales_sarima_result.get_forecast(steps=forecast_steps)\n",
    "forecast_df = forecast.summary_frame()\n",
    "\n",
    "# Prepare forecast dates\n",
    "forecast_index = pd.date_range(monthly_performance.index[-1], periods=forecast_steps+1, freq='M')[1:]\n",
    "forecast_df['date'] = forecast_index\n",
    "\n",
    "# Plot with Plotly\n",
    "fig = go.Figure()\n",
    "\n",
    "# Plot observed sales\n",
    "fig.add_trace(go.Scatter(\n",
    "    x=monthly_performance.index,\n",
    "    y=monthly_performance['sales'],\n",
    "    mode='lines',\n",
    "    name='Sales'\n",
    "))\n",
    "\n",
    "# Plot forecasted sales\n",
    "fig.add_trace(go.Scatter(\n",
    "    x=forecast_df['date'],\n",
    "    y=forecast_df['mean'],\n",
    "    mode='lines',\n",
    "    name='Forecast',\n",
    "    line=dict(color='orange', dash='dash')\n",
    "))\n",
    "\n",
    "# Confidence interval (shaded region)\n",
    "fig.add_trace(go.Scatter(\n",
    "    x=forecast_df['date'],\n",
    "    y=forecast_df['mean_ci_upper'],\n",
    "    fill=None,\n",
    "    mode='lines',\n",
    "    line_color='rgba(255,165,0,0.3)',\n",
    "    name='Upper Bound'\n",
    "))\n",
    "\n",
    "fig.add_trace(go.Scatter(\n",
    "    x=forecast_df['date'],\n",
    "    y=forecast_df['mean_ci_lower'],\n",
    "    fill='tonexty',\n",
    "    mode='lines',\n",
    "    line_color='rgba(255,165,0,0.3)',\n",
    "    name='Lower Bound'\n",
    "))\n",
    "\n",
    "# Layout customization\n",
    "fig.update_layout(\n",
    "    title='Monthly Sales with Seasonality Forecast',\n",
    "    xaxis_title='Date',\n",
    "    yaxis_title='Sales (Millions)',\n",
    "    height=600,\n",
    "    width=900,\n",
    "    legend_title='Legend'\n",
    ")\n",
    "\n",
    "fig.show()\n",
    "fig.write_html('monthly_sales_forecast.html')"
   ]
  },
  {
   "cell_type": "code",
   "execution_count": 18,
   "metadata": {},
   "outputs": [
    {
     "name": "stdout",
     "output_type": "stream",
     "text": [
      "sales               mean        mean_se  mean_ci_lower  mean_ci_upper  \\\n",
      "2025-01-01  2.580280e+06  295084.987392   2.001924e+06   3.158636e+06   \n",
      "2025-02-01  2.778098e+06  321716.776990   2.147545e+06   3.408652e+06   \n",
      "2025-03-01  2.966703e+06  330667.837927   2.318606e+06   3.614800e+06   \n",
      "2025-04-01  2.949233e+06  336134.105417   2.290422e+06   3.608043e+06   \n",
      "2025-05-01  2.835149e+06  340668.764378   2.167451e+06   3.502848e+06   \n",
      "2025-06-01  2.858364e+06  344899.693882   2.182373e+06   3.534355e+06   \n",
      "2025-07-01  3.214432e+06  349005.909353   2.530393e+06   3.898471e+06   \n",
      "2025-08-01  3.365509e+06  353041.996772   2.673559e+06   4.057458e+06   \n",
      "2025-09-01  3.203629e+06  357025.620904   2.503872e+06   3.903387e+06   \n",
      "2025-10-01  3.303928e+06  360963.209734   2.596453e+06   4.011403e+06   \n",
      "2025-11-01  2.849837e+06  364857.734703   2.134729e+06   3.564945e+06   \n",
      "2025-12-01  2.316039e+06  368711.110869   1.593378e+06   3.038699e+06   \n",
      "2026-01-01  3.038878e+06  417126.895996   2.221324e+06   3.856432e+06   \n",
      "2026-02-01  3.234769e+06  432634.119270   2.386822e+06   4.082717e+06   \n",
      "2026-03-01  3.388668e+06  441877.726219   2.522603e+06   4.254732e+06   \n",
      "2026-04-01  3.406312e+06  449457.278067   2.525391e+06   4.287232e+06   \n",
      "2026-05-01  3.274068e+06  456486.922115   2.379371e+06   4.168766e+06   \n",
      "2026-06-01  3.277346e+06  463282.828289   2.369328e+06   4.185364e+06   \n",
      "2026-07-01  3.646186e+06  469941.860612   2.725117e+06   4.567255e+06   \n",
      "2026-08-01  3.833284e+06  476496.061700   2.899369e+06   4.767199e+06   \n",
      "2026-09-01  3.613176e+06  482957.729764   2.666597e+06   4.559756e+06   \n",
      "2026-10-01  3.779337e+06  489333.000499   2.820262e+06   4.738412e+06   \n",
      "2026-11-01  3.337808e+06  495626.008721   2.366398e+06   4.309217e+06   \n",
      "2026-12-01  2.763019e+06  501840.215606   1.779430e+06   3.746608e+06   \n",
      "\n",
      "sales            date  \n",
      "2025-01-01 2025-01-31  \n",
      "2025-02-01 2025-02-28  \n",
      "2025-03-01 2025-03-31  \n",
      "2025-04-01 2025-04-30  \n",
      "2025-05-01 2025-05-31  \n",
      "2025-06-01 2025-06-30  \n",
      "2025-07-01 2025-07-31  \n",
      "2025-08-01 2025-08-31  \n",
      "2025-09-01 2025-09-30  \n",
      "2025-10-01 2025-10-31  \n",
      "2025-11-01 2025-11-30  \n",
      "2025-12-01 2025-12-31  \n",
      "2026-01-01 2026-01-31  \n",
      "2026-02-01 2026-02-28  \n",
      "2026-03-01 2026-03-31  \n",
      "2026-04-01 2026-04-30  \n",
      "2026-05-01 2026-05-31  \n",
      "2026-06-01 2026-06-30  \n",
      "2026-07-01 2026-07-31  \n",
      "2026-08-01 2026-08-31  \n",
      "2026-09-01 2026-09-30  \n",
      "2026-10-01 2026-10-31  \n",
      "2026-11-01 2026-11-30  \n",
      "2026-12-01 2026-12-31  \n"
     ]
    }
   ],
   "source": [
    "warnings.filterwarnings('default')\n",
    "print(forecast_df)"
   ]
  },
  {
   "cell_type": "code",
   "execution_count": 19,
   "metadata": {},
   "outputs": [
    {
     "name": "stdout",
     "output_type": "stream",
     "text": [
      "Total sales in 2024:  29961833.96\n"
     ]
    }
   ],
   "source": [
    "# calculate the total sales 2024\n",
    "total_sales_2024 = monthly_performance['sales']['2024-01':'2024-12'].sum()\n",
    "print('Total sales in 2024: ', total_sales_2024)"
   ]
  },
  {
   "cell_type": "code",
   "execution_count": 20,
   "metadata": {},
   "outputs": [
    {
     "name": "stdout",
     "output_type": "stream",
     "text": [
      "Total Sales for 2025: 35221201.04019658\n"
     ]
    }
   ],
   "source": [
    "# calculate the total sales for 2025\n",
    "total_sales_2025 = forecast_df['mean'].loc['2025-01-01':'2025-12-01'].sum()\n",
    "print('Total Sales for 2025:', total_sales_2025)"
   ]
  },
  {
   "cell_type": "code",
   "execution_count": 21,
   "metadata": {},
   "outputs": [
    {
     "name": "stdout",
     "output_type": "stream",
     "text": [
      "Total sales for 2026: 40592851.342426695\n"
     ]
    }
   ],
   "source": [
    "# calculate the total sales for 2026\n",
    "total_sales_2026 = forecast_df['mean'].loc['2026-01-01':'2026-12-01'].sum()\n",
    "print('Total sales for 2026:', total_sales_2026)"
   ]
  },
  {
   "cell_type": "code",
   "execution_count": 22,
   "metadata": {},
   "outputs": [],
   "source": [
    "# bar chart with yearly sales\n",
    "yearly_sales = monthly_performance.resample('YE').sum()\n",
    "# add total sales for 2025 and 2026\n",
    "yearly_sales.loc['2025'] = total_sales_2025\n",
    "yearly_sales.loc['2026'] = total_sales_2026"
   ]
  },
  {
   "cell_type": "code",
   "execution_count": 23,
   "metadata": {},
   "outputs": [],
   "source": [
    "yearly_sales.index = pd.to_datetime(yearly_sales.index)\n",
    "yearly_sales['year'] = yearly_sales.index.year"
   ]
  },
  {
   "cell_type": "code",
   "execution_count": 24,
   "metadata": {},
   "outputs": [
    {
     "name": "stderr",
     "output_type": "stream",
     "text": [
      "/opt/anaconda3/lib/python3.11/site-packages/plotly/express/_core.py:1979: FutureWarning:\n",
      "\n",
      "When grouping with a length-1 list-like, you will need to pass a length-1 tuple to get_group in a future version of pandas. Pass `(name,)` instead of `name` to silence this warning.\n",
      "\n",
      "/opt/anaconda3/lib/python3.11/site-packages/plotly/io/_renderers.py:395: DeprecationWarning:\n",
      "\n",
      "distutils Version classes are deprecated. Use packaging.version instead.\n",
      "\n"
     ]
    },
    {
     "data": {
      "application/vnd.plotly.v1+json": {
       "config": {
        "plotlyServerURL": "https://plot.ly"
       },
       "data": [
        {
         "alignmentgroup": "True",
         "customdata": [
          [
           "blue"
          ],
          [
           "blue"
          ],
          [
           "blue"
          ],
          [
           "blue"
          ],
          [
           "blue"
          ],
          [
           "blue"
          ]
         ],
         "hovertemplate": "Year=%{x}<br>Total=%{y}<extra></extra>",
         "legendgroup": "blue",
         "marker": {
          "color": "#636efa",
          "pattern": {
           "shape": ""
          }
         },
         "name": "blue",
         "offsetgroup": "blue",
         "orientation": "v",
         "showlegend": true,
         "textposition": "auto",
         "type": "bar",
         "x": [
          2019,
          2020,
          2021,
          2022,
          2023,
          2024
         ],
         "xaxis": "x",
         "y": [
          3742928.93,
          7314158.26,
          15011066.71,
          19196683.39,
          24418173.98,
          29961833.96
         ],
         "yaxis": "y"
        },
        {
         "alignmentgroup": "True",
         "customdata": [
          [
           "#ffcc80"
          ],
          [
           "#ffcc80"
          ]
         ],
         "hovertemplate": "Year=%{x}<br>Total=%{y}<extra></extra>",
         "legendgroup": "#ffcc80",
         "marker": {
          "color": "#EF553B",
          "pattern": {
           "shape": ""
          }
         },
         "name": "#ffcc80",
         "offsetgroup": "#ffcc80",
         "orientation": "v",
         "showlegend": true,
         "textposition": "auto",
         "type": "bar",
         "x": [
          2025,
          2026
         ],
         "xaxis": "x",
         "y": [
          35221201.04019658,
          40592851.342426695
         ],
         "yaxis": "y"
        }
       ],
       "layout": {
        "barmode": "relative",
        "height": 600,
        "legend": {
         "title": {
          "text": "colors"
         },
         "tracegroupgap": 0
        },
        "showlegend": false,
        "template": {
         "data": {
          "bar": [
           {
            "error_x": {
             "color": "#2a3f5f"
            },
            "error_y": {
             "color": "#2a3f5f"
            },
            "marker": {
             "line": {
              "color": "#E5ECF6",
              "width": 0.5
             },
             "pattern": {
              "fillmode": "overlay",
              "size": 10,
              "solidity": 0.2
             }
            },
            "type": "bar"
           }
          ],
          "barpolar": [
           {
            "marker": {
             "line": {
              "color": "#E5ECF6",
              "width": 0.5
             },
             "pattern": {
              "fillmode": "overlay",
              "size": 10,
              "solidity": 0.2
             }
            },
            "type": "barpolar"
           }
          ],
          "carpet": [
           {
            "aaxis": {
             "endlinecolor": "#2a3f5f",
             "gridcolor": "white",
             "linecolor": "white",
             "minorgridcolor": "white",
             "startlinecolor": "#2a3f5f"
            },
            "baxis": {
             "endlinecolor": "#2a3f5f",
             "gridcolor": "white",
             "linecolor": "white",
             "minorgridcolor": "white",
             "startlinecolor": "#2a3f5f"
            },
            "type": "carpet"
           }
          ],
          "choropleth": [
           {
            "colorbar": {
             "outlinewidth": 0,
             "ticks": ""
            },
            "type": "choropleth"
           }
          ],
          "contour": [
           {
            "colorbar": {
             "outlinewidth": 0,
             "ticks": ""
            },
            "colorscale": [
             [
              0,
              "#0d0887"
             ],
             [
              0.1111111111111111,
              "#46039f"
             ],
             [
              0.2222222222222222,
              "#7201a8"
             ],
             [
              0.3333333333333333,
              "#9c179e"
             ],
             [
              0.4444444444444444,
              "#bd3786"
             ],
             [
              0.5555555555555556,
              "#d8576b"
             ],
             [
              0.6666666666666666,
              "#ed7953"
             ],
             [
              0.7777777777777778,
              "#fb9f3a"
             ],
             [
              0.8888888888888888,
              "#fdca26"
             ],
             [
              1,
              "#f0f921"
             ]
            ],
            "type": "contour"
           }
          ],
          "contourcarpet": [
           {
            "colorbar": {
             "outlinewidth": 0,
             "ticks": ""
            },
            "type": "contourcarpet"
           }
          ],
          "heatmap": [
           {
            "colorbar": {
             "outlinewidth": 0,
             "ticks": ""
            },
            "colorscale": [
             [
              0,
              "#0d0887"
             ],
             [
              0.1111111111111111,
              "#46039f"
             ],
             [
              0.2222222222222222,
              "#7201a8"
             ],
             [
              0.3333333333333333,
              "#9c179e"
             ],
             [
              0.4444444444444444,
              "#bd3786"
             ],
             [
              0.5555555555555556,
              "#d8576b"
             ],
             [
              0.6666666666666666,
              "#ed7953"
             ],
             [
              0.7777777777777778,
              "#fb9f3a"
             ],
             [
              0.8888888888888888,
              "#fdca26"
             ],
             [
              1,
              "#f0f921"
             ]
            ],
            "type": "heatmap"
           }
          ],
          "heatmapgl": [
           {
            "colorbar": {
             "outlinewidth": 0,
             "ticks": ""
            },
            "colorscale": [
             [
              0,
              "#0d0887"
             ],
             [
              0.1111111111111111,
              "#46039f"
             ],
             [
              0.2222222222222222,
              "#7201a8"
             ],
             [
              0.3333333333333333,
              "#9c179e"
             ],
             [
              0.4444444444444444,
              "#bd3786"
             ],
             [
              0.5555555555555556,
              "#d8576b"
             ],
             [
              0.6666666666666666,
              "#ed7953"
             ],
             [
              0.7777777777777778,
              "#fb9f3a"
             ],
             [
              0.8888888888888888,
              "#fdca26"
             ],
             [
              1,
              "#f0f921"
             ]
            ],
            "type": "heatmapgl"
           }
          ],
          "histogram": [
           {
            "marker": {
             "pattern": {
              "fillmode": "overlay",
              "size": 10,
              "solidity": 0.2
             }
            },
            "type": "histogram"
           }
          ],
          "histogram2d": [
           {
            "colorbar": {
             "outlinewidth": 0,
             "ticks": ""
            },
            "colorscale": [
             [
              0,
              "#0d0887"
             ],
             [
              0.1111111111111111,
              "#46039f"
             ],
             [
              0.2222222222222222,
              "#7201a8"
             ],
             [
              0.3333333333333333,
              "#9c179e"
             ],
             [
              0.4444444444444444,
              "#bd3786"
             ],
             [
              0.5555555555555556,
              "#d8576b"
             ],
             [
              0.6666666666666666,
              "#ed7953"
             ],
             [
              0.7777777777777778,
              "#fb9f3a"
             ],
             [
              0.8888888888888888,
              "#fdca26"
             ],
             [
              1,
              "#f0f921"
             ]
            ],
            "type": "histogram2d"
           }
          ],
          "histogram2dcontour": [
           {
            "colorbar": {
             "outlinewidth": 0,
             "ticks": ""
            },
            "colorscale": [
             [
              0,
              "#0d0887"
             ],
             [
              0.1111111111111111,
              "#46039f"
             ],
             [
              0.2222222222222222,
              "#7201a8"
             ],
             [
              0.3333333333333333,
              "#9c179e"
             ],
             [
              0.4444444444444444,
              "#bd3786"
             ],
             [
              0.5555555555555556,
              "#d8576b"
             ],
             [
              0.6666666666666666,
              "#ed7953"
             ],
             [
              0.7777777777777778,
              "#fb9f3a"
             ],
             [
              0.8888888888888888,
              "#fdca26"
             ],
             [
              1,
              "#f0f921"
             ]
            ],
            "type": "histogram2dcontour"
           }
          ],
          "mesh3d": [
           {
            "colorbar": {
             "outlinewidth": 0,
             "ticks": ""
            },
            "type": "mesh3d"
           }
          ],
          "parcoords": [
           {
            "line": {
             "colorbar": {
              "outlinewidth": 0,
              "ticks": ""
             }
            },
            "type": "parcoords"
           }
          ],
          "pie": [
           {
            "automargin": true,
            "type": "pie"
           }
          ],
          "scatter": [
           {
            "fillpattern": {
             "fillmode": "overlay",
             "size": 10,
             "solidity": 0.2
            },
            "type": "scatter"
           }
          ],
          "scatter3d": [
           {
            "line": {
             "colorbar": {
              "outlinewidth": 0,
              "ticks": ""
             }
            },
            "marker": {
             "colorbar": {
              "outlinewidth": 0,
              "ticks": ""
             }
            },
            "type": "scatter3d"
           }
          ],
          "scattercarpet": [
           {
            "marker": {
             "colorbar": {
              "outlinewidth": 0,
              "ticks": ""
             }
            },
            "type": "scattercarpet"
           }
          ],
          "scattergeo": [
           {
            "marker": {
             "colorbar": {
              "outlinewidth": 0,
              "ticks": ""
             }
            },
            "type": "scattergeo"
           }
          ],
          "scattergl": [
           {
            "marker": {
             "colorbar": {
              "outlinewidth": 0,
              "ticks": ""
             }
            },
            "type": "scattergl"
           }
          ],
          "scattermapbox": [
           {
            "marker": {
             "colorbar": {
              "outlinewidth": 0,
              "ticks": ""
             }
            },
            "type": "scattermapbox"
           }
          ],
          "scatterpolar": [
           {
            "marker": {
             "colorbar": {
              "outlinewidth": 0,
              "ticks": ""
             }
            },
            "type": "scatterpolar"
           }
          ],
          "scatterpolargl": [
           {
            "marker": {
             "colorbar": {
              "outlinewidth": 0,
              "ticks": ""
             }
            },
            "type": "scatterpolargl"
           }
          ],
          "scatterternary": [
           {
            "marker": {
             "colorbar": {
              "outlinewidth": 0,
              "ticks": ""
             }
            },
            "type": "scatterternary"
           }
          ],
          "surface": [
           {
            "colorbar": {
             "outlinewidth": 0,
             "ticks": ""
            },
            "colorscale": [
             [
              0,
              "#0d0887"
             ],
             [
              0.1111111111111111,
              "#46039f"
             ],
             [
              0.2222222222222222,
              "#7201a8"
             ],
             [
              0.3333333333333333,
              "#9c179e"
             ],
             [
              0.4444444444444444,
              "#bd3786"
             ],
             [
              0.5555555555555556,
              "#d8576b"
             ],
             [
              0.6666666666666666,
              "#ed7953"
             ],
             [
              0.7777777777777778,
              "#fb9f3a"
             ],
             [
              0.8888888888888888,
              "#fdca26"
             ],
             [
              1,
              "#f0f921"
             ]
            ],
            "type": "surface"
           }
          ],
          "table": [
           {
            "cells": {
             "fill": {
              "color": "#EBF0F8"
             },
             "line": {
              "color": "white"
             }
            },
            "header": {
             "fill": {
              "color": "#C8D4E3"
             },
             "line": {
              "color": "white"
             }
            },
            "type": "table"
           }
          ]
         },
         "layout": {
          "annotationdefaults": {
           "arrowcolor": "#2a3f5f",
           "arrowhead": 0,
           "arrowwidth": 1
          },
          "autotypenumbers": "strict",
          "coloraxis": {
           "colorbar": {
            "outlinewidth": 0,
            "ticks": ""
           }
          },
          "colorscale": {
           "diverging": [
            [
             0,
             "#8e0152"
            ],
            [
             0.1,
             "#c51b7d"
            ],
            [
             0.2,
             "#de77ae"
            ],
            [
             0.3,
             "#f1b6da"
            ],
            [
             0.4,
             "#fde0ef"
            ],
            [
             0.5,
             "#f7f7f7"
            ],
            [
             0.6,
             "#e6f5d0"
            ],
            [
             0.7,
             "#b8e186"
            ],
            [
             0.8,
             "#7fbc41"
            ],
            [
             0.9,
             "#4d9221"
            ],
            [
             1,
             "#276419"
            ]
           ],
           "sequential": [
            [
             0,
             "#0d0887"
            ],
            [
             0.1111111111111111,
             "#46039f"
            ],
            [
             0.2222222222222222,
             "#7201a8"
            ],
            [
             0.3333333333333333,
             "#9c179e"
            ],
            [
             0.4444444444444444,
             "#bd3786"
            ],
            [
             0.5555555555555556,
             "#d8576b"
            ],
            [
             0.6666666666666666,
             "#ed7953"
            ],
            [
             0.7777777777777778,
             "#fb9f3a"
            ],
            [
             0.8888888888888888,
             "#fdca26"
            ],
            [
             1,
             "#f0f921"
            ]
           ],
           "sequentialminus": [
            [
             0,
             "#0d0887"
            ],
            [
             0.1111111111111111,
             "#46039f"
            ],
            [
             0.2222222222222222,
             "#7201a8"
            ],
            [
             0.3333333333333333,
             "#9c179e"
            ],
            [
             0.4444444444444444,
             "#bd3786"
            ],
            [
             0.5555555555555556,
             "#d8576b"
            ],
            [
             0.6666666666666666,
             "#ed7953"
            ],
            [
             0.7777777777777778,
             "#fb9f3a"
            ],
            [
             0.8888888888888888,
             "#fdca26"
            ],
            [
             1,
             "#f0f921"
            ]
           ]
          },
          "colorway": [
           "#636efa",
           "#EF553B",
           "#00cc96",
           "#ab63fa",
           "#FFA15A",
           "#19d3f3",
           "#FF6692",
           "#B6E880",
           "#FF97FF",
           "#FECB52"
          ],
          "font": {
           "color": "#2a3f5f"
          },
          "geo": {
           "bgcolor": "white",
           "lakecolor": "white",
           "landcolor": "#E5ECF6",
           "showlakes": true,
           "showland": true,
           "subunitcolor": "white"
          },
          "hoverlabel": {
           "align": "left"
          },
          "hovermode": "closest",
          "mapbox": {
           "style": "light"
          },
          "paper_bgcolor": "white",
          "plot_bgcolor": "#E5ECF6",
          "polar": {
           "angularaxis": {
            "gridcolor": "white",
            "linecolor": "white",
            "ticks": ""
           },
           "bgcolor": "#E5ECF6",
           "radialaxis": {
            "gridcolor": "white",
            "linecolor": "white",
            "ticks": ""
           }
          },
          "scene": {
           "xaxis": {
            "backgroundcolor": "#E5ECF6",
            "gridcolor": "white",
            "gridwidth": 2,
            "linecolor": "white",
            "showbackground": true,
            "ticks": "",
            "zerolinecolor": "white"
           },
           "yaxis": {
            "backgroundcolor": "#E5ECF6",
            "gridcolor": "white",
            "gridwidth": 2,
            "linecolor": "white",
            "showbackground": true,
            "ticks": "",
            "zerolinecolor": "white"
           },
           "zaxis": {
            "backgroundcolor": "#E5ECF6",
            "gridcolor": "white",
            "gridwidth": 2,
            "linecolor": "white",
            "showbackground": true,
            "ticks": "",
            "zerolinecolor": "white"
           }
          },
          "shapedefaults": {
           "line": {
            "color": "#2a3f5f"
           }
          },
          "ternary": {
           "aaxis": {
            "gridcolor": "white",
            "linecolor": "white",
            "ticks": ""
           },
           "baxis": {
            "gridcolor": "white",
            "linecolor": "white",
            "ticks": ""
           },
           "bgcolor": "#E5ECF6",
           "caxis": {
            "gridcolor": "white",
            "linecolor": "white",
            "ticks": ""
           }
          },
          "title": {
           "x": 0.05
          },
          "xaxis": {
           "automargin": true,
           "gridcolor": "white",
           "linecolor": "white",
           "ticks": "",
           "title": {
            "standoff": 15
           },
           "zerolinecolor": "white",
           "zerolinewidth": 2
          },
          "yaxis": {
           "automargin": true,
           "gridcolor": "white",
           "linecolor": "white",
           "ticks": "",
           "title": {
            "standoff": 15
           },
           "zerolinecolor": "white",
           "zerolinewidth": 2
          }
         }
        },
        "title": {
         "text": "Yearly Sales"
        },
        "width": 1000,
        "xaxis": {
         "anchor": "y",
         "domain": [
          0,
          1
         ],
         "tickangle": 0,
         "title": {
          "text": "Year"
         }
        },
        "yaxis": {
         "anchor": "x",
         "domain": [
          0,
          1
         ],
         "title": {
          "text": "Total"
         }
        }
       }
      }
     },
     "metadata": {},
     "output_type": "display_data"
    }
   ],
   "source": [
    "import plotly.express as px\n",
    "import pandas as pd\n",
    "\n",
    "# Define colors\n",
    "yearly_sales['year'] = yearly_sales.index.year\n",
    "yearly_sales['colors'] = ['blue' if year < 2025 else '#ffcc80' for year in yearly_sales.index.year]\n",
    "\n",
    "# Plotly bar plot\n",
    "fig = px.bar(\n",
    "    yearly_sales,\n",
    "    x='year',\n",
    "    y='sales',\n",
    "    color='colors',\n",
    "    title='Yearly Sales',\n",
    "    labels={'sales': 'Total', 'year': 'Year'},  # Tooltip label customization\n",
    "    hover_data={'year': True, 'sales': True, 'colors': False}  # Hide 'colors' in tooltip\n",
    ")\n",
    "\n",
    "# Customize layout\n",
    "fig.update_layout(\n",
    "    xaxis=dict(tickangle=0),\n",
    "    yaxis_title='Total',\n",
    "    xaxis_title='Year',\n",
    "    showlegend=False,\n",
    "    height=600,\n",
    "    width=1000\n",
    ")\n",
    "\n",
    "fig.show()\n",
    "fig.write_html('yearly_sales.html')"
   ]
  },
  {
   "cell_type": "code",
   "execution_count": 25,
   "metadata": {},
   "outputs": [
    {
     "name": "stderr",
     "output_type": "stream",
     "text": [
      "/opt/anaconda3/lib/python3.11/site-packages/_plotly_utils/basevalidators.py:106: FutureWarning:\n",
      "\n",
      "The behavior of DatetimeProperties.to_pydatetime is deprecated, in a future version this will return a Series containing python datetime objects instead of an ndarray. To retain the old behavior, call `np.array` on the result\n",
      "\n",
      "/opt/anaconda3/lib/python3.11/site-packages/plotly/io/_renderers.py:395: DeprecationWarning:\n",
      "\n",
      "distutils Version classes are deprecated. Use packaging.version instead.\n",
      "\n"
     ]
    },
    {
     "data": {
      "application/vnd.plotly.v1+json": {
       "config": {
        "plotlyServerURL": "https://plot.ly"
       },
       "data": [
        {
         "alignmentgroup": "True",
         "hovertemplate": "Month=%{x}<br>Inspections=%{y}<extra></extra>",
         "legendgroup": "",
         "marker": {
          "color": "#636efa",
          "pattern": {
           "shape": ""
          }
         },
         "name": "",
         "offsetgroup": "",
         "orientation": "v",
         "showlegend": false,
         "textposition": "auto",
         "type": "bar",
         "x": [
          "2019-01-01T00:00:00",
          "2019-02-01T00:00:00",
          "2019-03-01T00:00:00",
          "2019-04-01T00:00:00",
          "2019-05-01T00:00:00",
          "2019-06-01T00:00:00",
          "2019-07-01T00:00:00",
          "2019-08-01T00:00:00",
          "2019-09-01T00:00:00",
          "2019-10-01T00:00:00",
          "2019-11-01T00:00:00",
          "2019-12-01T00:00:00",
          "2020-01-01T00:00:00",
          "2020-02-01T00:00:00",
          "2020-03-01T00:00:00",
          "2020-04-01T00:00:00",
          "2020-05-01T00:00:00",
          "2020-06-01T00:00:00",
          "2020-07-01T00:00:00",
          "2020-08-01T00:00:00",
          "2020-09-01T00:00:00",
          "2020-10-01T00:00:00",
          "2020-11-01T00:00:00",
          "2020-12-01T00:00:00",
          "2021-01-01T00:00:00",
          "2021-02-01T00:00:00",
          "2021-03-01T00:00:00",
          "2021-04-01T00:00:00",
          "2021-05-01T00:00:00",
          "2021-06-01T00:00:00",
          "2021-07-01T00:00:00",
          "2021-08-01T00:00:00",
          "2021-09-01T00:00:00",
          "2021-10-01T00:00:00",
          "2021-11-01T00:00:00",
          "2021-12-01T00:00:00",
          "2022-01-01T00:00:00",
          "2022-02-01T00:00:00",
          "2022-03-01T00:00:00",
          "2022-04-01T00:00:00",
          "2022-05-01T00:00:00",
          "2022-06-01T00:00:00",
          "2022-07-01T00:00:00",
          "2022-08-01T00:00:00",
          "2022-09-01T00:00:00",
          "2022-10-01T00:00:00",
          "2022-11-01T00:00:00",
          "2022-12-01T00:00:00",
          "2023-01-01T00:00:00",
          "2023-02-01T00:00:00",
          "2023-03-01T00:00:00",
          "2023-04-01T00:00:00",
          "2023-05-01T00:00:00",
          "2023-06-01T00:00:00",
          "2023-07-01T00:00:00",
          "2023-08-01T00:00:00",
          "2023-09-01T00:00:00",
          "2023-10-01T00:00:00",
          "2023-11-01T00:00:00",
          "2023-12-01T00:00:00",
          "2024-01-01T00:00:00",
          "2024-02-01T00:00:00",
          "2024-03-01T00:00:00",
          "2024-04-01T00:00:00",
          "2024-05-01T00:00:00",
          "2024-06-01T00:00:00",
          "2024-07-01T00:00:00",
          "2024-08-01T00:00:00",
          "2024-09-01T00:00:00",
          "2024-10-01T00:00:00",
          "2024-11-01T00:00:00",
          "2024-12-01T00:00:00"
         ],
         "xaxis": "x",
         "y": [
          180,
          185,
          174,
          177,
          190,
          201,
          243,
          221,
          169,
          185,
          171,
          141,
          212,
          227,
          214,
          216,
          273,
          376,
          307,
          422,
          431,
          498,
          426,
          346,
          411,
          590,
          759,
          634,
          589,
          697,
          782,
          886,
          966,
          760,
          640,
          491,
          635,
          635,
          881,
          698,
          723,
          764,
          856,
          1080,
          951,
          820,
          695,
          595,
          982,
          906,
          987,
          883,
          1063,
          1019,
          1126,
          1249,
          1099,
          1035,
          746,
          542,
          1144,
          1089,
          1008,
          1044,
          1110,
          965,
          1090,
          1265,
          1150,
          1418,
          1002,
          656
         ],
         "yaxis": "y"
        }
       ],
       "layout": {
        "barmode": "relative",
        "height": 600,
        "legend": {
         "tracegroupgap": 0
        },
        "template": {
         "data": {
          "bar": [
           {
            "error_x": {
             "color": "#2a3f5f"
            },
            "error_y": {
             "color": "#2a3f5f"
            },
            "marker": {
             "line": {
              "color": "#E5ECF6",
              "width": 0.5
             },
             "pattern": {
              "fillmode": "overlay",
              "size": 10,
              "solidity": 0.2
             }
            },
            "type": "bar"
           }
          ],
          "barpolar": [
           {
            "marker": {
             "line": {
              "color": "#E5ECF6",
              "width": 0.5
             },
             "pattern": {
              "fillmode": "overlay",
              "size": 10,
              "solidity": 0.2
             }
            },
            "type": "barpolar"
           }
          ],
          "carpet": [
           {
            "aaxis": {
             "endlinecolor": "#2a3f5f",
             "gridcolor": "white",
             "linecolor": "white",
             "minorgridcolor": "white",
             "startlinecolor": "#2a3f5f"
            },
            "baxis": {
             "endlinecolor": "#2a3f5f",
             "gridcolor": "white",
             "linecolor": "white",
             "minorgridcolor": "white",
             "startlinecolor": "#2a3f5f"
            },
            "type": "carpet"
           }
          ],
          "choropleth": [
           {
            "colorbar": {
             "outlinewidth": 0,
             "ticks": ""
            },
            "type": "choropleth"
           }
          ],
          "contour": [
           {
            "colorbar": {
             "outlinewidth": 0,
             "ticks": ""
            },
            "colorscale": [
             [
              0,
              "#0d0887"
             ],
             [
              0.1111111111111111,
              "#46039f"
             ],
             [
              0.2222222222222222,
              "#7201a8"
             ],
             [
              0.3333333333333333,
              "#9c179e"
             ],
             [
              0.4444444444444444,
              "#bd3786"
             ],
             [
              0.5555555555555556,
              "#d8576b"
             ],
             [
              0.6666666666666666,
              "#ed7953"
             ],
             [
              0.7777777777777778,
              "#fb9f3a"
             ],
             [
              0.8888888888888888,
              "#fdca26"
             ],
             [
              1,
              "#f0f921"
             ]
            ],
            "type": "contour"
           }
          ],
          "contourcarpet": [
           {
            "colorbar": {
             "outlinewidth": 0,
             "ticks": ""
            },
            "type": "contourcarpet"
           }
          ],
          "heatmap": [
           {
            "colorbar": {
             "outlinewidth": 0,
             "ticks": ""
            },
            "colorscale": [
             [
              0,
              "#0d0887"
             ],
             [
              0.1111111111111111,
              "#46039f"
             ],
             [
              0.2222222222222222,
              "#7201a8"
             ],
             [
              0.3333333333333333,
              "#9c179e"
             ],
             [
              0.4444444444444444,
              "#bd3786"
             ],
             [
              0.5555555555555556,
              "#d8576b"
             ],
             [
              0.6666666666666666,
              "#ed7953"
             ],
             [
              0.7777777777777778,
              "#fb9f3a"
             ],
             [
              0.8888888888888888,
              "#fdca26"
             ],
             [
              1,
              "#f0f921"
             ]
            ],
            "type": "heatmap"
           }
          ],
          "heatmapgl": [
           {
            "colorbar": {
             "outlinewidth": 0,
             "ticks": ""
            },
            "colorscale": [
             [
              0,
              "#0d0887"
             ],
             [
              0.1111111111111111,
              "#46039f"
             ],
             [
              0.2222222222222222,
              "#7201a8"
             ],
             [
              0.3333333333333333,
              "#9c179e"
             ],
             [
              0.4444444444444444,
              "#bd3786"
             ],
             [
              0.5555555555555556,
              "#d8576b"
             ],
             [
              0.6666666666666666,
              "#ed7953"
             ],
             [
              0.7777777777777778,
              "#fb9f3a"
             ],
             [
              0.8888888888888888,
              "#fdca26"
             ],
             [
              1,
              "#f0f921"
             ]
            ],
            "type": "heatmapgl"
           }
          ],
          "histogram": [
           {
            "marker": {
             "pattern": {
              "fillmode": "overlay",
              "size": 10,
              "solidity": 0.2
             }
            },
            "type": "histogram"
           }
          ],
          "histogram2d": [
           {
            "colorbar": {
             "outlinewidth": 0,
             "ticks": ""
            },
            "colorscale": [
             [
              0,
              "#0d0887"
             ],
             [
              0.1111111111111111,
              "#46039f"
             ],
             [
              0.2222222222222222,
              "#7201a8"
             ],
             [
              0.3333333333333333,
              "#9c179e"
             ],
             [
              0.4444444444444444,
              "#bd3786"
             ],
             [
              0.5555555555555556,
              "#d8576b"
             ],
             [
              0.6666666666666666,
              "#ed7953"
             ],
             [
              0.7777777777777778,
              "#fb9f3a"
             ],
             [
              0.8888888888888888,
              "#fdca26"
             ],
             [
              1,
              "#f0f921"
             ]
            ],
            "type": "histogram2d"
           }
          ],
          "histogram2dcontour": [
           {
            "colorbar": {
             "outlinewidth": 0,
             "ticks": ""
            },
            "colorscale": [
             [
              0,
              "#0d0887"
             ],
             [
              0.1111111111111111,
              "#46039f"
             ],
             [
              0.2222222222222222,
              "#7201a8"
             ],
             [
              0.3333333333333333,
              "#9c179e"
             ],
             [
              0.4444444444444444,
              "#bd3786"
             ],
             [
              0.5555555555555556,
              "#d8576b"
             ],
             [
              0.6666666666666666,
              "#ed7953"
             ],
             [
              0.7777777777777778,
              "#fb9f3a"
             ],
             [
              0.8888888888888888,
              "#fdca26"
             ],
             [
              1,
              "#f0f921"
             ]
            ],
            "type": "histogram2dcontour"
           }
          ],
          "mesh3d": [
           {
            "colorbar": {
             "outlinewidth": 0,
             "ticks": ""
            },
            "type": "mesh3d"
           }
          ],
          "parcoords": [
           {
            "line": {
             "colorbar": {
              "outlinewidth": 0,
              "ticks": ""
             }
            },
            "type": "parcoords"
           }
          ],
          "pie": [
           {
            "automargin": true,
            "type": "pie"
           }
          ],
          "scatter": [
           {
            "fillpattern": {
             "fillmode": "overlay",
             "size": 10,
             "solidity": 0.2
            },
            "type": "scatter"
           }
          ],
          "scatter3d": [
           {
            "line": {
             "colorbar": {
              "outlinewidth": 0,
              "ticks": ""
             }
            },
            "marker": {
             "colorbar": {
              "outlinewidth": 0,
              "ticks": ""
             }
            },
            "type": "scatter3d"
           }
          ],
          "scattercarpet": [
           {
            "marker": {
             "colorbar": {
              "outlinewidth": 0,
              "ticks": ""
             }
            },
            "type": "scattercarpet"
           }
          ],
          "scattergeo": [
           {
            "marker": {
             "colorbar": {
              "outlinewidth": 0,
              "ticks": ""
             }
            },
            "type": "scattergeo"
           }
          ],
          "scattergl": [
           {
            "marker": {
             "colorbar": {
              "outlinewidth": 0,
              "ticks": ""
             }
            },
            "type": "scattergl"
           }
          ],
          "scattermapbox": [
           {
            "marker": {
             "colorbar": {
              "outlinewidth": 0,
              "ticks": ""
             }
            },
            "type": "scattermapbox"
           }
          ],
          "scatterpolar": [
           {
            "marker": {
             "colorbar": {
              "outlinewidth": 0,
              "ticks": ""
             }
            },
            "type": "scatterpolar"
           }
          ],
          "scatterpolargl": [
           {
            "marker": {
             "colorbar": {
              "outlinewidth": 0,
              "ticks": ""
             }
            },
            "type": "scatterpolargl"
           }
          ],
          "scatterternary": [
           {
            "marker": {
             "colorbar": {
              "outlinewidth": 0,
              "ticks": ""
             }
            },
            "type": "scatterternary"
           }
          ],
          "surface": [
           {
            "colorbar": {
             "outlinewidth": 0,
             "ticks": ""
            },
            "colorscale": [
             [
              0,
              "#0d0887"
             ],
             [
              0.1111111111111111,
              "#46039f"
             ],
             [
              0.2222222222222222,
              "#7201a8"
             ],
             [
              0.3333333333333333,
              "#9c179e"
             ],
             [
              0.4444444444444444,
              "#bd3786"
             ],
             [
              0.5555555555555556,
              "#d8576b"
             ],
             [
              0.6666666666666666,
              "#ed7953"
             ],
             [
              0.7777777777777778,
              "#fb9f3a"
             ],
             [
              0.8888888888888888,
              "#fdca26"
             ],
             [
              1,
              "#f0f921"
             ]
            ],
            "type": "surface"
           }
          ],
          "table": [
           {
            "cells": {
             "fill": {
              "color": "#EBF0F8"
             },
             "line": {
              "color": "white"
             }
            },
            "header": {
             "fill": {
              "color": "#C8D4E3"
             },
             "line": {
              "color": "white"
             }
            },
            "type": "table"
           }
          ]
         },
         "layout": {
          "annotationdefaults": {
           "arrowcolor": "#2a3f5f",
           "arrowhead": 0,
           "arrowwidth": 1
          },
          "autotypenumbers": "strict",
          "coloraxis": {
           "colorbar": {
            "outlinewidth": 0,
            "ticks": ""
           }
          },
          "colorscale": {
           "diverging": [
            [
             0,
             "#8e0152"
            ],
            [
             0.1,
             "#c51b7d"
            ],
            [
             0.2,
             "#de77ae"
            ],
            [
             0.3,
             "#f1b6da"
            ],
            [
             0.4,
             "#fde0ef"
            ],
            [
             0.5,
             "#f7f7f7"
            ],
            [
             0.6,
             "#e6f5d0"
            ],
            [
             0.7,
             "#b8e186"
            ],
            [
             0.8,
             "#7fbc41"
            ],
            [
             0.9,
             "#4d9221"
            ],
            [
             1,
             "#276419"
            ]
           ],
           "sequential": [
            [
             0,
             "#0d0887"
            ],
            [
             0.1111111111111111,
             "#46039f"
            ],
            [
             0.2222222222222222,
             "#7201a8"
            ],
            [
             0.3333333333333333,
             "#9c179e"
            ],
            [
             0.4444444444444444,
             "#bd3786"
            ],
            [
             0.5555555555555556,
             "#d8576b"
            ],
            [
             0.6666666666666666,
             "#ed7953"
            ],
            [
             0.7777777777777778,
             "#fb9f3a"
            ],
            [
             0.8888888888888888,
             "#fdca26"
            ],
            [
             1,
             "#f0f921"
            ]
           ],
           "sequentialminus": [
            [
             0,
             "#0d0887"
            ],
            [
             0.1111111111111111,
             "#46039f"
            ],
            [
             0.2222222222222222,
             "#7201a8"
            ],
            [
             0.3333333333333333,
             "#9c179e"
            ],
            [
             0.4444444444444444,
             "#bd3786"
            ],
            [
             0.5555555555555556,
             "#d8576b"
            ],
            [
             0.6666666666666666,
             "#ed7953"
            ],
            [
             0.7777777777777778,
             "#fb9f3a"
            ],
            [
             0.8888888888888888,
             "#fdca26"
            ],
            [
             1,
             "#f0f921"
            ]
           ]
          },
          "colorway": [
           "#636efa",
           "#EF553B",
           "#00cc96",
           "#ab63fa",
           "#FFA15A",
           "#19d3f3",
           "#FF6692",
           "#B6E880",
           "#FF97FF",
           "#FECB52"
          ],
          "font": {
           "color": "#2a3f5f"
          },
          "geo": {
           "bgcolor": "white",
           "lakecolor": "white",
           "landcolor": "#E5ECF6",
           "showlakes": true,
           "showland": true,
           "subunitcolor": "white"
          },
          "hoverlabel": {
           "align": "left"
          },
          "hovermode": "closest",
          "mapbox": {
           "style": "light"
          },
          "paper_bgcolor": "white",
          "plot_bgcolor": "#E5ECF6",
          "polar": {
           "angularaxis": {
            "gridcolor": "white",
            "linecolor": "white",
            "ticks": ""
           },
           "bgcolor": "#E5ECF6",
           "radialaxis": {
            "gridcolor": "white",
            "linecolor": "white",
            "ticks": ""
           }
          },
          "scene": {
           "xaxis": {
            "backgroundcolor": "#E5ECF6",
            "gridcolor": "white",
            "gridwidth": 2,
            "linecolor": "white",
            "showbackground": true,
            "ticks": "",
            "zerolinecolor": "white"
           },
           "yaxis": {
            "backgroundcolor": "#E5ECF6",
            "gridcolor": "white",
            "gridwidth": 2,
            "linecolor": "white",
            "showbackground": true,
            "ticks": "",
            "zerolinecolor": "white"
           },
           "zaxis": {
            "backgroundcolor": "#E5ECF6",
            "gridcolor": "white",
            "gridwidth": 2,
            "linecolor": "white",
            "showbackground": true,
            "ticks": "",
            "zerolinecolor": "white"
           }
          },
          "shapedefaults": {
           "line": {
            "color": "#2a3f5f"
           }
          },
          "ternary": {
           "aaxis": {
            "gridcolor": "white",
            "linecolor": "white",
            "ticks": ""
           },
           "baxis": {
            "gridcolor": "white",
            "linecolor": "white",
            "ticks": ""
           },
           "bgcolor": "#E5ECF6",
           "caxis": {
            "gridcolor": "white",
            "linecolor": "white",
            "ticks": ""
           }
          },
          "title": {
           "x": 0.05
          },
          "xaxis": {
           "automargin": true,
           "gridcolor": "white",
           "linecolor": "white",
           "ticks": "",
           "title": {
            "standoff": 15
           },
           "zerolinecolor": "white",
           "zerolinewidth": 2
          },
          "yaxis": {
           "automargin": true,
           "gridcolor": "white",
           "linecolor": "white",
           "ticks": "",
           "title": {
            "standoff": 15
           },
           "zerolinecolor": "white",
           "zerolinewidth": 2
          }
         }
        },
        "title": {
         "text": "Monthly Inspections"
        },
        "width": 1000,
        "xaxis": {
         "anchor": "y",
         "domain": [
          0,
          1
         ],
         "tickangle": -90,
         "title": {
          "text": "Month"
         }
        },
        "yaxis": {
         "anchor": "x",
         "domain": [
          0,
          1
         ],
         "title": {
          "text": "Inspections"
         }
        }
       }
      }
     },
     "metadata": {},
     "output_type": "display_data"
    }
   ],
   "source": [
    "# monthly inspections\n",
    "# Plotly Bar Chart\n",
    "fig = px.bar(\n",
    "    monthly_performance.reset_index(),\n",
    "    x='month',\n",
    "    y='inspections',\n",
    "    title='Monthly Inspections',\n",
    "    labels={'month': 'Month', 'inspections': 'Inspections'}\n",
    ")\n",
    "\n",
    "# Customize Layout (for x-axis rotation and better visualization)\n",
    "fig.update_layout(\n",
    "    xaxis_tickangle=-90,\n",
    "    height=600,\n",
    "    width=1000,\n",
    "    xaxis_title='Month',\n",
    "    yaxis_title='Inspections'\n",
    ")\n",
    "\n",
    "fig.show()\n",
    "fig.write_html('monthly_inspections.html')"
   ]
  },
  {
   "cell_type": "code",
   "execution_count": 41,
   "metadata": {},
   "outputs": [
    {
     "name": "stdout",
     "output_type": "stream",
     "text": [
      "RUNNING THE L-BFGS-B CODE\n",
      "\n",
      "           * * *\n",
      "\n",
      "Machine precision = 2.220D-16\n",
      " N =            5     M =           10\n",
      "\n",
      "At X0         0 variables are exactly at the bounds\n",
      "\n",
      "At iterate    0    f=  5.16602D+00    |proj g|=  4.07279D-01\n",
      "\n",
      "At iterate    5    f=  5.02561D+00    |proj g|=  1.36188D-02\n",
      "\n",
      "At iterate   10    f=  5.02293D+00    |proj g|=  4.05102D-02\n",
      "\n",
      "At iterate   15    f=  5.01989D+00    |proj g|=  4.39506D-03\n",
      "\n",
      "At iterate   20    f=  5.01746D+00    |proj g|=  1.26814D-02\n",
      "\n",
      "At iterate   25    f=  5.01712D+00    |proj g|=  1.13972D-04\n",
      "\n",
      "           * * *\n",
      "\n",
      "Tit   = total number of iterations\n",
      "Tnf   = total number of function evaluations\n",
      "Tnint = total number of segments explored during Cauchy searches\n",
      "Skip  = number of BFGS updates skipped\n",
      "Nact  = number of active bounds at final generalized Cauchy point\n",
      "Projg = norm of the final projected gradient\n",
      "F     = final function value\n",
      "\n",
      "           * * *\n",
      "\n",
      "   N    Tit     Tnf  Tnint  Skip  Nact     Projg        F\n",
      "    5     27     30      1     0     0   4.448D-07   5.017D+00\n",
      "  F =   5.0171153750520343     \n",
      "\n",
      "CONVERGENCE: NORM_OF_PROJECTED_GRADIENT_<=_PGTOL            \n"
     ]
    },
    {
     "name": "stderr",
     "output_type": "stream",
     "text": [
      " This problem is unconstrained.\n"
     ]
    },
    {
     "data": {
      "application/vnd.plotly.v1+json": {
       "config": {
        "plotlyServerURL": "https://plot.ly"
       },
       "data": [
        {
         "mode": "lines",
         "name": "Inspections",
         "type": "scatter",
         "x": [
          "2019-01-01T00:00:00",
          "2019-02-01T00:00:00",
          "2019-03-01T00:00:00",
          "2019-04-01T00:00:00",
          "2019-05-01T00:00:00",
          "2019-06-01T00:00:00",
          "2019-07-01T00:00:00",
          "2019-08-01T00:00:00",
          "2019-09-01T00:00:00",
          "2019-10-01T00:00:00",
          "2019-11-01T00:00:00",
          "2019-12-01T00:00:00",
          "2020-01-01T00:00:00",
          "2020-02-01T00:00:00",
          "2020-03-01T00:00:00",
          "2020-04-01T00:00:00",
          "2020-05-01T00:00:00",
          "2020-06-01T00:00:00",
          "2020-07-01T00:00:00",
          "2020-08-01T00:00:00",
          "2020-09-01T00:00:00",
          "2020-10-01T00:00:00",
          "2020-11-01T00:00:00",
          "2020-12-01T00:00:00",
          "2021-01-01T00:00:00",
          "2021-02-01T00:00:00",
          "2021-03-01T00:00:00",
          "2021-04-01T00:00:00",
          "2021-05-01T00:00:00",
          "2021-06-01T00:00:00",
          "2021-07-01T00:00:00",
          "2021-08-01T00:00:00",
          "2021-09-01T00:00:00",
          "2021-10-01T00:00:00",
          "2021-11-01T00:00:00",
          "2021-12-01T00:00:00",
          "2022-01-01T00:00:00",
          "2022-02-01T00:00:00",
          "2022-03-01T00:00:00",
          "2022-04-01T00:00:00",
          "2022-05-01T00:00:00",
          "2022-06-01T00:00:00",
          "2022-07-01T00:00:00",
          "2022-08-01T00:00:00",
          "2022-09-01T00:00:00",
          "2022-10-01T00:00:00",
          "2022-11-01T00:00:00",
          "2022-12-01T00:00:00",
          "2023-01-01T00:00:00",
          "2023-02-01T00:00:00",
          "2023-03-01T00:00:00",
          "2023-04-01T00:00:00",
          "2023-05-01T00:00:00",
          "2023-06-01T00:00:00",
          "2023-07-01T00:00:00",
          "2023-08-01T00:00:00",
          "2023-09-01T00:00:00",
          "2023-10-01T00:00:00",
          "2023-11-01T00:00:00",
          "2023-12-01T00:00:00",
          "2024-01-01T00:00:00",
          "2024-02-01T00:00:00",
          "2024-03-01T00:00:00",
          "2024-04-01T00:00:00",
          "2024-05-01T00:00:00",
          "2024-06-01T00:00:00",
          "2024-07-01T00:00:00",
          "2024-08-01T00:00:00",
          "2024-09-01T00:00:00",
          "2024-10-01T00:00:00",
          "2024-11-01T00:00:00",
          "2024-12-01T00:00:00"
         ],
         "y": [
          180,
          185,
          174,
          177,
          190,
          201,
          243,
          221,
          169,
          185,
          171,
          141,
          212,
          227,
          214,
          216,
          273,
          376,
          307,
          422,
          431,
          498,
          426,
          346,
          411,
          590,
          759,
          634,
          589,
          697,
          782,
          886,
          966,
          760,
          640,
          491,
          635,
          635,
          881,
          698,
          723,
          764,
          856,
          1080,
          951,
          820,
          695,
          595,
          982,
          906,
          987,
          883,
          1063,
          1019,
          1126,
          1249,
          1099,
          1035,
          746,
          542,
          1144,
          1089,
          1008,
          1044,
          1110,
          965,
          1090,
          1265,
          1150,
          1418,
          1002,
          656
         ]
        },
        {
         "line": {
          "color": "orange",
          "dash": "dash"
         },
         "mode": "lines",
         "name": "Forecast",
         "type": "scatter",
         "x": [
          "2025-01-31T00:00:00",
          "2025-02-28T00:00:00",
          "2025-03-31T00:00:00",
          "2025-04-30T00:00:00",
          "2025-05-31T00:00:00",
          "2025-06-30T00:00:00",
          "2025-07-31T00:00:00",
          "2025-08-31T00:00:00",
          "2025-09-30T00:00:00",
          "2025-10-31T00:00:00",
          "2025-11-30T00:00:00",
          "2025-12-31T00:00:00",
          "2026-01-31T00:00:00",
          "2026-02-28T00:00:00",
          "2026-03-31T00:00:00",
          "2026-04-30T00:00:00",
          "2026-05-31T00:00:00",
          "2026-06-30T00:00:00",
          "2026-07-31T00:00:00",
          "2026-08-31T00:00:00",
          "2026-09-30T00:00:00",
          "2026-10-31T00:00:00",
          "2026-11-30T00:00:00",
          "2026-12-31T00:00:00"
         ],
         "y": [
          1282.7592893163664,
          1238.1316110638309,
          1153.6352918221605,
          1202.5729773979144,
          1262.8151087212425,
          1113.7465479994744,
          1241.2902746408186,
          1421.6737334375896,
          1309.7072314463476,
          1599.9758597734606,
          1177.1023921620076,
          822.7115171657055,
          1449.862871928711,
          1405.8449629725023,
          1322.2902821175976,
          1371.1570734410384,
          1432.055961743643,
          1283.4499583567401,
          1411.0616245850545,
          1591.321701451483,
          1479.304156143938,
          1768.5786936405793,
          1346.0783673934777,
          992.1191417291656
         ]
        },
        {
         "line": {
          "color": "rgba(255,165,0,0.3)"
         },
         "mode": "lines",
         "name": "Upper Bound",
         "type": "scatter",
         "x": [
          "2025-01-31T00:00:00",
          "2025-02-28T00:00:00",
          "2025-03-31T00:00:00",
          "2025-04-30T00:00:00",
          "2025-05-31T00:00:00",
          "2025-06-30T00:00:00",
          "2025-07-31T00:00:00",
          "2025-08-31T00:00:00",
          "2025-09-30T00:00:00",
          "2025-10-31T00:00:00",
          "2025-11-30T00:00:00",
          "2025-12-31T00:00:00",
          "2026-01-31T00:00:00",
          "2026-02-28T00:00:00",
          "2026-03-31T00:00:00",
          "2026-04-30T00:00:00",
          "2026-05-31T00:00:00",
          "2026-06-30T00:00:00",
          "2026-07-31T00:00:00",
          "2026-08-31T00:00:00",
          "2026-09-30T00:00:00",
          "2026-10-31T00:00:00",
          "2026-11-30T00:00:00",
          "2026-12-31T00:00:00"
         ],
         "y": [
          1496.3374868248684,
          1500.9860017870221,
          1438.8627330072025,
          1499.0194419641234,
          1565.1954502268718,
          1419.3952640641019,
          1548.8060521698767,
          1730.2935417706592,
          1619.0013675744412,
          1909.6941164798113,
          1487.094257162787,
          1132.8836495615124,
          1842.8151355462423,
          1836.2905525761591,
          1771.7629960817949,
          1830.8808220459878,
          1897.553853026386,
          1752.3278785483367,
          1881.987989746861,
          2063.5285064251702,
          1952.3329640212646,
          2242.147010011189,
          1820.0071187737678,
          1466.2920458978338
         ]
        },
        {
         "fill": "tonexty",
         "line": {
          "color": "rgba(255,165,0,0.3)"
         },
         "mode": "lines",
         "name": "Lower Bound",
         "type": "scatter",
         "x": [
          "2025-01-31T00:00:00",
          "2025-02-28T00:00:00",
          "2025-03-31T00:00:00",
          "2025-04-30T00:00:00",
          "2025-05-31T00:00:00",
          "2025-06-30T00:00:00",
          "2025-07-31T00:00:00",
          "2025-08-31T00:00:00",
          "2025-09-30T00:00:00",
          "2025-10-31T00:00:00",
          "2025-11-30T00:00:00",
          "2025-12-31T00:00:00",
          "2026-01-31T00:00:00",
          "2026-02-28T00:00:00",
          "2026-03-31T00:00:00",
          "2026-04-30T00:00:00",
          "2026-05-31T00:00:00",
          "2026-06-30T00:00:00",
          "2026-07-31T00:00:00",
          "2026-08-31T00:00:00",
          "2026-09-30T00:00:00",
          "2026-10-31T00:00:00",
          "2026-11-30T00:00:00",
          "2026-12-31T00:00:00"
         ],
         "y": [
          1069.1810918078645,
          975.2772203406396,
          868.4078506371186,
          906.1265128317054,
          960.4347672156132,
          808.097831934847,
          933.7744971117604,
          1113.05392510452,
          1000.4130953182539,
          1290.2576030671098,
          867.1105271612282,
          512.5393847698984,
          1056.9106083111797,
          975.3993733688455,
          872.8175681534002,
          911.4333248360889,
          966.5580704608999,
          814.5720381651436,
          940.1352594232478,
          1119.1148964777958,
          1006.2753482666111,
          1295.0103772699692,
          872.1496160131876,
          517.9462375604973
         ]
        }
       ],
       "layout": {
        "height": 600,
        "legend": {
         "title": {
          "text": "Legend"
         }
        },
        "template": {
         "data": {
          "bar": [
           {
            "error_x": {
             "color": "#2a3f5f"
            },
            "error_y": {
             "color": "#2a3f5f"
            },
            "marker": {
             "line": {
              "color": "#E5ECF6",
              "width": 0.5
             },
             "pattern": {
              "fillmode": "overlay",
              "size": 10,
              "solidity": 0.2
             }
            },
            "type": "bar"
           }
          ],
          "barpolar": [
           {
            "marker": {
             "line": {
              "color": "#E5ECF6",
              "width": 0.5
             },
             "pattern": {
              "fillmode": "overlay",
              "size": 10,
              "solidity": 0.2
             }
            },
            "type": "barpolar"
           }
          ],
          "carpet": [
           {
            "aaxis": {
             "endlinecolor": "#2a3f5f",
             "gridcolor": "white",
             "linecolor": "white",
             "minorgridcolor": "white",
             "startlinecolor": "#2a3f5f"
            },
            "baxis": {
             "endlinecolor": "#2a3f5f",
             "gridcolor": "white",
             "linecolor": "white",
             "minorgridcolor": "white",
             "startlinecolor": "#2a3f5f"
            },
            "type": "carpet"
           }
          ],
          "choropleth": [
           {
            "colorbar": {
             "outlinewidth": 0,
             "ticks": ""
            },
            "type": "choropleth"
           }
          ],
          "contour": [
           {
            "colorbar": {
             "outlinewidth": 0,
             "ticks": ""
            },
            "colorscale": [
             [
              0,
              "#0d0887"
             ],
             [
              0.1111111111111111,
              "#46039f"
             ],
             [
              0.2222222222222222,
              "#7201a8"
             ],
             [
              0.3333333333333333,
              "#9c179e"
             ],
             [
              0.4444444444444444,
              "#bd3786"
             ],
             [
              0.5555555555555556,
              "#d8576b"
             ],
             [
              0.6666666666666666,
              "#ed7953"
             ],
             [
              0.7777777777777778,
              "#fb9f3a"
             ],
             [
              0.8888888888888888,
              "#fdca26"
             ],
             [
              1,
              "#f0f921"
             ]
            ],
            "type": "contour"
           }
          ],
          "contourcarpet": [
           {
            "colorbar": {
             "outlinewidth": 0,
             "ticks": ""
            },
            "type": "contourcarpet"
           }
          ],
          "heatmap": [
           {
            "colorbar": {
             "outlinewidth": 0,
             "ticks": ""
            },
            "colorscale": [
             [
              0,
              "#0d0887"
             ],
             [
              0.1111111111111111,
              "#46039f"
             ],
             [
              0.2222222222222222,
              "#7201a8"
             ],
             [
              0.3333333333333333,
              "#9c179e"
             ],
             [
              0.4444444444444444,
              "#bd3786"
             ],
             [
              0.5555555555555556,
              "#d8576b"
             ],
             [
              0.6666666666666666,
              "#ed7953"
             ],
             [
              0.7777777777777778,
              "#fb9f3a"
             ],
             [
              0.8888888888888888,
              "#fdca26"
             ],
             [
              1,
              "#f0f921"
             ]
            ],
            "type": "heatmap"
           }
          ],
          "heatmapgl": [
           {
            "colorbar": {
             "outlinewidth": 0,
             "ticks": ""
            },
            "colorscale": [
             [
              0,
              "#0d0887"
             ],
             [
              0.1111111111111111,
              "#46039f"
             ],
             [
              0.2222222222222222,
              "#7201a8"
             ],
             [
              0.3333333333333333,
              "#9c179e"
             ],
             [
              0.4444444444444444,
              "#bd3786"
             ],
             [
              0.5555555555555556,
              "#d8576b"
             ],
             [
              0.6666666666666666,
              "#ed7953"
             ],
             [
              0.7777777777777778,
              "#fb9f3a"
             ],
             [
              0.8888888888888888,
              "#fdca26"
             ],
             [
              1,
              "#f0f921"
             ]
            ],
            "type": "heatmapgl"
           }
          ],
          "histogram": [
           {
            "marker": {
             "pattern": {
              "fillmode": "overlay",
              "size": 10,
              "solidity": 0.2
             }
            },
            "type": "histogram"
           }
          ],
          "histogram2d": [
           {
            "colorbar": {
             "outlinewidth": 0,
             "ticks": ""
            },
            "colorscale": [
             [
              0,
              "#0d0887"
             ],
             [
              0.1111111111111111,
              "#46039f"
             ],
             [
              0.2222222222222222,
              "#7201a8"
             ],
             [
              0.3333333333333333,
              "#9c179e"
             ],
             [
              0.4444444444444444,
              "#bd3786"
             ],
             [
              0.5555555555555556,
              "#d8576b"
             ],
             [
              0.6666666666666666,
              "#ed7953"
             ],
             [
              0.7777777777777778,
              "#fb9f3a"
             ],
             [
              0.8888888888888888,
              "#fdca26"
             ],
             [
              1,
              "#f0f921"
             ]
            ],
            "type": "histogram2d"
           }
          ],
          "histogram2dcontour": [
           {
            "colorbar": {
             "outlinewidth": 0,
             "ticks": ""
            },
            "colorscale": [
             [
              0,
              "#0d0887"
             ],
             [
              0.1111111111111111,
              "#46039f"
             ],
             [
              0.2222222222222222,
              "#7201a8"
             ],
             [
              0.3333333333333333,
              "#9c179e"
             ],
             [
              0.4444444444444444,
              "#bd3786"
             ],
             [
              0.5555555555555556,
              "#d8576b"
             ],
             [
              0.6666666666666666,
              "#ed7953"
             ],
             [
              0.7777777777777778,
              "#fb9f3a"
             ],
             [
              0.8888888888888888,
              "#fdca26"
             ],
             [
              1,
              "#f0f921"
             ]
            ],
            "type": "histogram2dcontour"
           }
          ],
          "mesh3d": [
           {
            "colorbar": {
             "outlinewidth": 0,
             "ticks": ""
            },
            "type": "mesh3d"
           }
          ],
          "parcoords": [
           {
            "line": {
             "colorbar": {
              "outlinewidth": 0,
              "ticks": ""
             }
            },
            "type": "parcoords"
           }
          ],
          "pie": [
           {
            "automargin": true,
            "type": "pie"
           }
          ],
          "scatter": [
           {
            "fillpattern": {
             "fillmode": "overlay",
             "size": 10,
             "solidity": 0.2
            },
            "type": "scatter"
           }
          ],
          "scatter3d": [
           {
            "line": {
             "colorbar": {
              "outlinewidth": 0,
              "ticks": ""
             }
            },
            "marker": {
             "colorbar": {
              "outlinewidth": 0,
              "ticks": ""
             }
            },
            "type": "scatter3d"
           }
          ],
          "scattercarpet": [
           {
            "marker": {
             "colorbar": {
              "outlinewidth": 0,
              "ticks": ""
             }
            },
            "type": "scattercarpet"
           }
          ],
          "scattergeo": [
           {
            "marker": {
             "colorbar": {
              "outlinewidth": 0,
              "ticks": ""
             }
            },
            "type": "scattergeo"
           }
          ],
          "scattergl": [
           {
            "marker": {
             "colorbar": {
              "outlinewidth": 0,
              "ticks": ""
             }
            },
            "type": "scattergl"
           }
          ],
          "scattermapbox": [
           {
            "marker": {
             "colorbar": {
              "outlinewidth": 0,
              "ticks": ""
             }
            },
            "type": "scattermapbox"
           }
          ],
          "scatterpolar": [
           {
            "marker": {
             "colorbar": {
              "outlinewidth": 0,
              "ticks": ""
             }
            },
            "type": "scatterpolar"
           }
          ],
          "scatterpolargl": [
           {
            "marker": {
             "colorbar": {
              "outlinewidth": 0,
              "ticks": ""
             }
            },
            "type": "scatterpolargl"
           }
          ],
          "scatterternary": [
           {
            "marker": {
             "colorbar": {
              "outlinewidth": 0,
              "ticks": ""
             }
            },
            "type": "scatterternary"
           }
          ],
          "surface": [
           {
            "colorbar": {
             "outlinewidth": 0,
             "ticks": ""
            },
            "colorscale": [
             [
              0,
              "#0d0887"
             ],
             [
              0.1111111111111111,
              "#46039f"
             ],
             [
              0.2222222222222222,
              "#7201a8"
             ],
             [
              0.3333333333333333,
              "#9c179e"
             ],
             [
              0.4444444444444444,
              "#bd3786"
             ],
             [
              0.5555555555555556,
              "#d8576b"
             ],
             [
              0.6666666666666666,
              "#ed7953"
             ],
             [
              0.7777777777777778,
              "#fb9f3a"
             ],
             [
              0.8888888888888888,
              "#fdca26"
             ],
             [
              1,
              "#f0f921"
             ]
            ],
            "type": "surface"
           }
          ],
          "table": [
           {
            "cells": {
             "fill": {
              "color": "#EBF0F8"
             },
             "line": {
              "color": "white"
             }
            },
            "header": {
             "fill": {
              "color": "#C8D4E3"
             },
             "line": {
              "color": "white"
             }
            },
            "type": "table"
           }
          ]
         },
         "layout": {
          "annotationdefaults": {
           "arrowcolor": "#2a3f5f",
           "arrowhead": 0,
           "arrowwidth": 1
          },
          "autotypenumbers": "strict",
          "coloraxis": {
           "colorbar": {
            "outlinewidth": 0,
            "ticks": ""
           }
          },
          "colorscale": {
           "diverging": [
            [
             0,
             "#8e0152"
            ],
            [
             0.1,
             "#c51b7d"
            ],
            [
             0.2,
             "#de77ae"
            ],
            [
             0.3,
             "#f1b6da"
            ],
            [
             0.4,
             "#fde0ef"
            ],
            [
             0.5,
             "#f7f7f7"
            ],
            [
             0.6,
             "#e6f5d0"
            ],
            [
             0.7,
             "#b8e186"
            ],
            [
             0.8,
             "#7fbc41"
            ],
            [
             0.9,
             "#4d9221"
            ],
            [
             1,
             "#276419"
            ]
           ],
           "sequential": [
            [
             0,
             "#0d0887"
            ],
            [
             0.1111111111111111,
             "#46039f"
            ],
            [
             0.2222222222222222,
             "#7201a8"
            ],
            [
             0.3333333333333333,
             "#9c179e"
            ],
            [
             0.4444444444444444,
             "#bd3786"
            ],
            [
             0.5555555555555556,
             "#d8576b"
            ],
            [
             0.6666666666666666,
             "#ed7953"
            ],
            [
             0.7777777777777778,
             "#fb9f3a"
            ],
            [
             0.8888888888888888,
             "#fdca26"
            ],
            [
             1,
             "#f0f921"
            ]
           ],
           "sequentialminus": [
            [
             0,
             "#0d0887"
            ],
            [
             0.1111111111111111,
             "#46039f"
            ],
            [
             0.2222222222222222,
             "#7201a8"
            ],
            [
             0.3333333333333333,
             "#9c179e"
            ],
            [
             0.4444444444444444,
             "#bd3786"
            ],
            [
             0.5555555555555556,
             "#d8576b"
            ],
            [
             0.6666666666666666,
             "#ed7953"
            ],
            [
             0.7777777777777778,
             "#fb9f3a"
            ],
            [
             0.8888888888888888,
             "#fdca26"
            ],
            [
             1,
             "#f0f921"
            ]
           ]
          },
          "colorway": [
           "#636efa",
           "#EF553B",
           "#00cc96",
           "#ab63fa",
           "#FFA15A",
           "#19d3f3",
           "#FF6692",
           "#B6E880",
           "#FF97FF",
           "#FECB52"
          ],
          "font": {
           "color": "#2a3f5f"
          },
          "geo": {
           "bgcolor": "white",
           "lakecolor": "white",
           "landcolor": "#E5ECF6",
           "showlakes": true,
           "showland": true,
           "subunitcolor": "white"
          },
          "hoverlabel": {
           "align": "left"
          },
          "hovermode": "closest",
          "mapbox": {
           "style": "light"
          },
          "paper_bgcolor": "white",
          "plot_bgcolor": "#E5ECF6",
          "polar": {
           "angularaxis": {
            "gridcolor": "white",
            "linecolor": "white",
            "ticks": ""
           },
           "bgcolor": "#E5ECF6",
           "radialaxis": {
            "gridcolor": "white",
            "linecolor": "white",
            "ticks": ""
           }
          },
          "scene": {
           "xaxis": {
            "backgroundcolor": "#E5ECF6",
            "gridcolor": "white",
            "gridwidth": 2,
            "linecolor": "white",
            "showbackground": true,
            "ticks": "",
            "zerolinecolor": "white"
           },
           "yaxis": {
            "backgroundcolor": "#E5ECF6",
            "gridcolor": "white",
            "gridwidth": 2,
            "linecolor": "white",
            "showbackground": true,
            "ticks": "",
            "zerolinecolor": "white"
           },
           "zaxis": {
            "backgroundcolor": "#E5ECF6",
            "gridcolor": "white",
            "gridwidth": 2,
            "linecolor": "white",
            "showbackground": true,
            "ticks": "",
            "zerolinecolor": "white"
           }
          },
          "shapedefaults": {
           "line": {
            "color": "#2a3f5f"
           }
          },
          "ternary": {
           "aaxis": {
            "gridcolor": "white",
            "linecolor": "white",
            "ticks": ""
           },
           "baxis": {
            "gridcolor": "white",
            "linecolor": "white",
            "ticks": ""
           },
           "bgcolor": "#E5ECF6",
           "caxis": {
            "gridcolor": "white",
            "linecolor": "white",
            "ticks": ""
           }
          },
          "title": {
           "x": 0.05
          },
          "xaxis": {
           "automargin": true,
           "gridcolor": "white",
           "linecolor": "white",
           "ticks": "",
           "title": {
            "standoff": 15
           },
           "zerolinecolor": "white",
           "zerolinewidth": 2
          },
          "yaxis": {
           "automargin": true,
           "gridcolor": "white",
           "linecolor": "white",
           "ticks": "",
           "title": {
            "standoff": 15
           },
           "zerolinecolor": "white",
           "zerolinewidth": 2
          }
         }
        },
        "title": {
         "text": "Monthly Inspections with Seasonality Forecast"
        },
        "width": 900,
        "xaxis": {
         "title": {
          "text": "Date"
         }
        },
        "yaxis": {
         "title": {
          "text": "Inspections"
         }
        }
       }
      }
     },
     "metadata": {},
     "output_type": "display_data"
    }
   ],
   "source": [
    "# monthly inspections forecast\n",
    "# SARIMA hyperparameters\n",
    "inspections_sarima_model = SARIMAX(monthly_performance['inspections'], order=(1, 1, 1), seasonal_order=(1, 1, 1, 12))\n",
    "inspections_sarima_result = inspections_sarima_model.fit()\n",
    "\n",
    "# Forecast range (end of 2026)\n",
    "forecast_steps = 24  # Forecast for 24 months (end of 2026)\n",
    "\n",
    "# Forecast the values\n",
    "forecast = inspections_sarima_result.get_forecast(steps=forecast_steps)\n",
    "forecast_df = forecast.summary_frame()\n",
    "\n",
    "# Prepare forecast dates\n",
    "forecast_index = pd.date_range(monthly_performance.index[-1], periods=forecast_steps+1, freq='M')[1:]\n",
    "forecast_df['date'] = forecast_index\n",
    "\n",
    "# Plot with Plotly\n",
    "fig = go.Figure()\n",
    "\n",
    "# Plot observed inspections\n",
    "fig.add_trace(go.Scatter(\n",
    "    x=monthly_performance.index,\n",
    "    y=monthly_performance['inspections'],\n",
    "    mode='lines',\n",
    "    name='Inspections'\n",
    "))\n",
    "\n",
    "# Plot forecasted inspections\n",
    "fig.add_trace(go.Scatter(\n",
    "    x=forecast_df['date'],\n",
    "    y=forecast_df['mean'],\n",
    "    mode='lines',\n",
    "    name='Forecast',\n",
    "    line=dict(color='orange', dash='dash')\n",
    "))\n",
    "\n",
    "# Confidence interval (shaded region)\n",
    "fig.add_trace(go.Scatter(\n",
    "    x=forecast_df['date'],\n",
    "    y=forecast_df['mean_ci_upper'],\n",
    "    fill=None,\n",
    "    mode='lines',\n",
    "    line_color='rgba(255,165,0,0.3)',\n",
    "    name='Upper Bound'\n",
    "))\n",
    "\n",
    "fig.add_trace(go.Scatter(\n",
    "    x=forecast_df['date'],\n",
    "    y=forecast_df['mean_ci_lower'],\n",
    "    fill='tonexty',\n",
    "    mode='lines',\n",
    "    line_color='rgba(255,165,0,0.3)',\n",
    "    name='Lower Bound'\n",
    "))\n",
    "\n",
    "# Layout customization\n",
    "fig.update_layout(\n",
    "    title='Monthly Inspections with Seasonality Forecast',\n",
    "    xaxis_title='Date',\n",
    "    yaxis_title='Inspections',\n",
    "    height=600,\n",
    "    width=900,\n",
    "    legend_title='Legend'\n",
    ")\n",
    "\n",
    "fig.show()\n",
    "fig.write_html('monthly_inspections_forecast.html')"
   ]
  },
  {
   "cell_type": "code",
   "execution_count": 27,
   "metadata": {},
   "outputs": [
    {
     "name": "stdout",
     "output_type": "stream",
     "text": [
      "Total inspections for 2025: 14826.121834946918\n",
      "Total inspections for 2026: 16853.124795503933\n"
     ]
    },
    {
     "name": "stderr",
     "output_type": "stream",
     "text": [
      "/opt/anaconda3/lib/python3.11/site-packages/plotly/express/_core.py:1979: FutureWarning:\n",
      "\n",
      "When grouping with a length-1 list-like, you will need to pass a length-1 tuple to get_group in a future version of pandas. Pass `(name,)` instead of `name` to silence this warning.\n",
      "\n",
      "/opt/anaconda3/lib/python3.11/site-packages/plotly/io/_renderers.py:395: DeprecationWarning:\n",
      "\n",
      "distutils Version classes are deprecated. Use packaging.version instead.\n",
      "\n"
     ]
    },
    {
     "data": {
      "application/vnd.plotly.v1+json": {
       "config": {
        "plotlyServerURL": "https://plot.ly"
       },
       "data": [
        {
         "alignmentgroup": "True",
         "customdata": [
          [
           "blue"
          ],
          [
           "blue"
          ],
          [
           "blue"
          ],
          [
           "blue"
          ],
          [
           "blue"
          ],
          [
           "blue"
          ]
         ],
         "hovertemplate": "Year=%{x}<br>Total=%{y}<extra></extra>",
         "legendgroup": "blue",
         "marker": {
          "color": "#636efa",
          "pattern": {
           "shape": ""
          }
         },
         "name": "blue",
         "offsetgroup": "blue",
         "orientation": "v",
         "showlegend": true,
         "textposition": "auto",
         "type": "bar",
         "x": [
          2019,
          2020,
          2021,
          2022,
          2023,
          2024
         ],
         "xaxis": "x",
         "y": [
          2237,
          3948,
          8205,
          9333,
          11637,
          12941
         ],
         "yaxis": "y"
        },
        {
         "alignmentgroup": "True",
         "customdata": [
          [
           "#ffcc80"
          ],
          [
           "#ffcc80"
          ]
         ],
         "hovertemplate": "Year=%{x}<br>Total=%{y}<extra></extra>",
         "legendgroup": "#ffcc80",
         "marker": {
          "color": "#EF553B",
          "pattern": {
           "shape": ""
          }
         },
         "name": "#ffcc80",
         "offsetgroup": "#ffcc80",
         "orientation": "v",
         "showlegend": true,
         "textposition": "auto",
         "type": "bar",
         "x": [
          2025,
          2026
         ],
         "xaxis": "x",
         "y": [
          14826.121834946918,
          16853.124795503933
         ],
         "yaxis": "y"
        }
       ],
       "layout": {
        "barmode": "relative",
        "height": 600,
        "legend": {
         "title": {
          "text": "colors"
         },
         "tracegroupgap": 0
        },
        "showlegend": false,
        "template": {
         "data": {
          "bar": [
           {
            "error_x": {
             "color": "#2a3f5f"
            },
            "error_y": {
             "color": "#2a3f5f"
            },
            "marker": {
             "line": {
              "color": "#E5ECF6",
              "width": 0.5
             },
             "pattern": {
              "fillmode": "overlay",
              "size": 10,
              "solidity": 0.2
             }
            },
            "type": "bar"
           }
          ],
          "barpolar": [
           {
            "marker": {
             "line": {
              "color": "#E5ECF6",
              "width": 0.5
             },
             "pattern": {
              "fillmode": "overlay",
              "size": 10,
              "solidity": 0.2
             }
            },
            "type": "barpolar"
           }
          ],
          "carpet": [
           {
            "aaxis": {
             "endlinecolor": "#2a3f5f",
             "gridcolor": "white",
             "linecolor": "white",
             "minorgridcolor": "white",
             "startlinecolor": "#2a3f5f"
            },
            "baxis": {
             "endlinecolor": "#2a3f5f",
             "gridcolor": "white",
             "linecolor": "white",
             "minorgridcolor": "white",
             "startlinecolor": "#2a3f5f"
            },
            "type": "carpet"
           }
          ],
          "choropleth": [
           {
            "colorbar": {
             "outlinewidth": 0,
             "ticks": ""
            },
            "type": "choropleth"
           }
          ],
          "contour": [
           {
            "colorbar": {
             "outlinewidth": 0,
             "ticks": ""
            },
            "colorscale": [
             [
              0,
              "#0d0887"
             ],
             [
              0.1111111111111111,
              "#46039f"
             ],
             [
              0.2222222222222222,
              "#7201a8"
             ],
             [
              0.3333333333333333,
              "#9c179e"
             ],
             [
              0.4444444444444444,
              "#bd3786"
             ],
             [
              0.5555555555555556,
              "#d8576b"
             ],
             [
              0.6666666666666666,
              "#ed7953"
             ],
             [
              0.7777777777777778,
              "#fb9f3a"
             ],
             [
              0.8888888888888888,
              "#fdca26"
             ],
             [
              1,
              "#f0f921"
             ]
            ],
            "type": "contour"
           }
          ],
          "contourcarpet": [
           {
            "colorbar": {
             "outlinewidth": 0,
             "ticks": ""
            },
            "type": "contourcarpet"
           }
          ],
          "heatmap": [
           {
            "colorbar": {
             "outlinewidth": 0,
             "ticks": ""
            },
            "colorscale": [
             [
              0,
              "#0d0887"
             ],
             [
              0.1111111111111111,
              "#46039f"
             ],
             [
              0.2222222222222222,
              "#7201a8"
             ],
             [
              0.3333333333333333,
              "#9c179e"
             ],
             [
              0.4444444444444444,
              "#bd3786"
             ],
             [
              0.5555555555555556,
              "#d8576b"
             ],
             [
              0.6666666666666666,
              "#ed7953"
             ],
             [
              0.7777777777777778,
              "#fb9f3a"
             ],
             [
              0.8888888888888888,
              "#fdca26"
             ],
             [
              1,
              "#f0f921"
             ]
            ],
            "type": "heatmap"
           }
          ],
          "heatmapgl": [
           {
            "colorbar": {
             "outlinewidth": 0,
             "ticks": ""
            },
            "colorscale": [
             [
              0,
              "#0d0887"
             ],
             [
              0.1111111111111111,
              "#46039f"
             ],
             [
              0.2222222222222222,
              "#7201a8"
             ],
             [
              0.3333333333333333,
              "#9c179e"
             ],
             [
              0.4444444444444444,
              "#bd3786"
             ],
             [
              0.5555555555555556,
              "#d8576b"
             ],
             [
              0.6666666666666666,
              "#ed7953"
             ],
             [
              0.7777777777777778,
              "#fb9f3a"
             ],
             [
              0.8888888888888888,
              "#fdca26"
             ],
             [
              1,
              "#f0f921"
             ]
            ],
            "type": "heatmapgl"
           }
          ],
          "histogram": [
           {
            "marker": {
             "pattern": {
              "fillmode": "overlay",
              "size": 10,
              "solidity": 0.2
             }
            },
            "type": "histogram"
           }
          ],
          "histogram2d": [
           {
            "colorbar": {
             "outlinewidth": 0,
             "ticks": ""
            },
            "colorscale": [
             [
              0,
              "#0d0887"
             ],
             [
              0.1111111111111111,
              "#46039f"
             ],
             [
              0.2222222222222222,
              "#7201a8"
             ],
             [
              0.3333333333333333,
              "#9c179e"
             ],
             [
              0.4444444444444444,
              "#bd3786"
             ],
             [
              0.5555555555555556,
              "#d8576b"
             ],
             [
              0.6666666666666666,
              "#ed7953"
             ],
             [
              0.7777777777777778,
              "#fb9f3a"
             ],
             [
              0.8888888888888888,
              "#fdca26"
             ],
             [
              1,
              "#f0f921"
             ]
            ],
            "type": "histogram2d"
           }
          ],
          "histogram2dcontour": [
           {
            "colorbar": {
             "outlinewidth": 0,
             "ticks": ""
            },
            "colorscale": [
             [
              0,
              "#0d0887"
             ],
             [
              0.1111111111111111,
              "#46039f"
             ],
             [
              0.2222222222222222,
              "#7201a8"
             ],
             [
              0.3333333333333333,
              "#9c179e"
             ],
             [
              0.4444444444444444,
              "#bd3786"
             ],
             [
              0.5555555555555556,
              "#d8576b"
             ],
             [
              0.6666666666666666,
              "#ed7953"
             ],
             [
              0.7777777777777778,
              "#fb9f3a"
             ],
             [
              0.8888888888888888,
              "#fdca26"
             ],
             [
              1,
              "#f0f921"
             ]
            ],
            "type": "histogram2dcontour"
           }
          ],
          "mesh3d": [
           {
            "colorbar": {
             "outlinewidth": 0,
             "ticks": ""
            },
            "type": "mesh3d"
           }
          ],
          "parcoords": [
           {
            "line": {
             "colorbar": {
              "outlinewidth": 0,
              "ticks": ""
             }
            },
            "type": "parcoords"
           }
          ],
          "pie": [
           {
            "automargin": true,
            "type": "pie"
           }
          ],
          "scatter": [
           {
            "fillpattern": {
             "fillmode": "overlay",
             "size": 10,
             "solidity": 0.2
            },
            "type": "scatter"
           }
          ],
          "scatter3d": [
           {
            "line": {
             "colorbar": {
              "outlinewidth": 0,
              "ticks": ""
             }
            },
            "marker": {
             "colorbar": {
              "outlinewidth": 0,
              "ticks": ""
             }
            },
            "type": "scatter3d"
           }
          ],
          "scattercarpet": [
           {
            "marker": {
             "colorbar": {
              "outlinewidth": 0,
              "ticks": ""
             }
            },
            "type": "scattercarpet"
           }
          ],
          "scattergeo": [
           {
            "marker": {
             "colorbar": {
              "outlinewidth": 0,
              "ticks": ""
             }
            },
            "type": "scattergeo"
           }
          ],
          "scattergl": [
           {
            "marker": {
             "colorbar": {
              "outlinewidth": 0,
              "ticks": ""
             }
            },
            "type": "scattergl"
           }
          ],
          "scattermapbox": [
           {
            "marker": {
             "colorbar": {
              "outlinewidth": 0,
              "ticks": ""
             }
            },
            "type": "scattermapbox"
           }
          ],
          "scatterpolar": [
           {
            "marker": {
             "colorbar": {
              "outlinewidth": 0,
              "ticks": ""
             }
            },
            "type": "scatterpolar"
           }
          ],
          "scatterpolargl": [
           {
            "marker": {
             "colorbar": {
              "outlinewidth": 0,
              "ticks": ""
             }
            },
            "type": "scatterpolargl"
           }
          ],
          "scatterternary": [
           {
            "marker": {
             "colorbar": {
              "outlinewidth": 0,
              "ticks": ""
             }
            },
            "type": "scatterternary"
           }
          ],
          "surface": [
           {
            "colorbar": {
             "outlinewidth": 0,
             "ticks": ""
            },
            "colorscale": [
             [
              0,
              "#0d0887"
             ],
             [
              0.1111111111111111,
              "#46039f"
             ],
             [
              0.2222222222222222,
              "#7201a8"
             ],
             [
              0.3333333333333333,
              "#9c179e"
             ],
             [
              0.4444444444444444,
              "#bd3786"
             ],
             [
              0.5555555555555556,
              "#d8576b"
             ],
             [
              0.6666666666666666,
              "#ed7953"
             ],
             [
              0.7777777777777778,
              "#fb9f3a"
             ],
             [
              0.8888888888888888,
              "#fdca26"
             ],
             [
              1,
              "#f0f921"
             ]
            ],
            "type": "surface"
           }
          ],
          "table": [
           {
            "cells": {
             "fill": {
              "color": "#EBF0F8"
             },
             "line": {
              "color": "white"
             }
            },
            "header": {
             "fill": {
              "color": "#C8D4E3"
             },
             "line": {
              "color": "white"
             }
            },
            "type": "table"
           }
          ]
         },
         "layout": {
          "annotationdefaults": {
           "arrowcolor": "#2a3f5f",
           "arrowhead": 0,
           "arrowwidth": 1
          },
          "autotypenumbers": "strict",
          "coloraxis": {
           "colorbar": {
            "outlinewidth": 0,
            "ticks": ""
           }
          },
          "colorscale": {
           "diverging": [
            [
             0,
             "#8e0152"
            ],
            [
             0.1,
             "#c51b7d"
            ],
            [
             0.2,
             "#de77ae"
            ],
            [
             0.3,
             "#f1b6da"
            ],
            [
             0.4,
             "#fde0ef"
            ],
            [
             0.5,
             "#f7f7f7"
            ],
            [
             0.6,
             "#e6f5d0"
            ],
            [
             0.7,
             "#b8e186"
            ],
            [
             0.8,
             "#7fbc41"
            ],
            [
             0.9,
             "#4d9221"
            ],
            [
             1,
             "#276419"
            ]
           ],
           "sequential": [
            [
             0,
             "#0d0887"
            ],
            [
             0.1111111111111111,
             "#46039f"
            ],
            [
             0.2222222222222222,
             "#7201a8"
            ],
            [
             0.3333333333333333,
             "#9c179e"
            ],
            [
             0.4444444444444444,
             "#bd3786"
            ],
            [
             0.5555555555555556,
             "#d8576b"
            ],
            [
             0.6666666666666666,
             "#ed7953"
            ],
            [
             0.7777777777777778,
             "#fb9f3a"
            ],
            [
             0.8888888888888888,
             "#fdca26"
            ],
            [
             1,
             "#f0f921"
            ]
           ],
           "sequentialminus": [
            [
             0,
             "#0d0887"
            ],
            [
             0.1111111111111111,
             "#46039f"
            ],
            [
             0.2222222222222222,
             "#7201a8"
            ],
            [
             0.3333333333333333,
             "#9c179e"
            ],
            [
             0.4444444444444444,
             "#bd3786"
            ],
            [
             0.5555555555555556,
             "#d8576b"
            ],
            [
             0.6666666666666666,
             "#ed7953"
            ],
            [
             0.7777777777777778,
             "#fb9f3a"
            ],
            [
             0.8888888888888888,
             "#fdca26"
            ],
            [
             1,
             "#f0f921"
            ]
           ]
          },
          "colorway": [
           "#636efa",
           "#EF553B",
           "#00cc96",
           "#ab63fa",
           "#FFA15A",
           "#19d3f3",
           "#FF6692",
           "#B6E880",
           "#FF97FF",
           "#FECB52"
          ],
          "font": {
           "color": "#2a3f5f"
          },
          "geo": {
           "bgcolor": "white",
           "lakecolor": "white",
           "landcolor": "#E5ECF6",
           "showlakes": true,
           "showland": true,
           "subunitcolor": "white"
          },
          "hoverlabel": {
           "align": "left"
          },
          "hovermode": "closest",
          "mapbox": {
           "style": "light"
          },
          "paper_bgcolor": "white",
          "plot_bgcolor": "#E5ECF6",
          "polar": {
           "angularaxis": {
            "gridcolor": "white",
            "linecolor": "white",
            "ticks": ""
           },
           "bgcolor": "#E5ECF6",
           "radialaxis": {
            "gridcolor": "white",
            "linecolor": "white",
            "ticks": ""
           }
          },
          "scene": {
           "xaxis": {
            "backgroundcolor": "#E5ECF6",
            "gridcolor": "white",
            "gridwidth": 2,
            "linecolor": "white",
            "showbackground": true,
            "ticks": "",
            "zerolinecolor": "white"
           },
           "yaxis": {
            "backgroundcolor": "#E5ECF6",
            "gridcolor": "white",
            "gridwidth": 2,
            "linecolor": "white",
            "showbackground": true,
            "ticks": "",
            "zerolinecolor": "white"
           },
           "zaxis": {
            "backgroundcolor": "#E5ECF6",
            "gridcolor": "white",
            "gridwidth": 2,
            "linecolor": "white",
            "showbackground": true,
            "ticks": "",
            "zerolinecolor": "white"
           }
          },
          "shapedefaults": {
           "line": {
            "color": "#2a3f5f"
           }
          },
          "ternary": {
           "aaxis": {
            "gridcolor": "white",
            "linecolor": "white",
            "ticks": ""
           },
           "baxis": {
            "gridcolor": "white",
            "linecolor": "white",
            "ticks": ""
           },
           "bgcolor": "#E5ECF6",
           "caxis": {
            "gridcolor": "white",
            "linecolor": "white",
            "ticks": ""
           }
          },
          "title": {
           "x": 0.05
          },
          "xaxis": {
           "automargin": true,
           "gridcolor": "white",
           "linecolor": "white",
           "ticks": "",
           "title": {
            "standoff": 15
           },
           "zerolinecolor": "white",
           "zerolinewidth": 2
          },
          "yaxis": {
           "automargin": true,
           "gridcolor": "white",
           "linecolor": "white",
           "ticks": "",
           "title": {
            "standoff": 15
           },
           "zerolinecolor": "white",
           "zerolinewidth": 2
          }
         }
        },
        "title": {
         "text": "Yearly Inspections"
        },
        "width": 1000,
        "xaxis": {
         "anchor": "y",
         "domain": [
          0,
          1
         ],
         "tickangle": 0,
         "title": {
          "text": "Year"
         }
        },
        "yaxis": {
         "anchor": "x",
         "domain": [
          0,
          1
         ],
         "title": {
          "text": "Total"
         }
        }
       }
      }
     },
     "metadata": {},
     "output_type": "display_data"
    }
   ],
   "source": [
    "# calculate the total inspections for 2025\n",
    "total_inspections_2025 = forecast_df['mean'].loc['2025-01-01':'2025-12-01'].sum()\n",
    "print('Total inspections for 2025:', total_inspections_2025)\n",
    "\n",
    "# calculate the total inspections for 2026\n",
    "total_inspections_2026 = forecast_df['mean'].loc['2026-01-01':'2026-12-01'].sum()\n",
    "print('Total inspections for 2026:', total_inspections_2026)\n",
    "\n",
    "# bar chart with yearly inspections\n",
    "yearly_inspections = monthly_performance.resample('YE').sum()\n",
    "# add total inspections for 2025 and 2026\n",
    "yearly_inspections.loc['2025'] = total_inspections_2025\n",
    "yearly_inspections.loc['2026'] = total_inspections_2026\n",
    "\n",
    "yearly_inspections.index = pd.to_datetime(yearly_inspections.index)\n",
    "yearly_inspections['year'] = yearly_inspections.index.year\n",
    "\n",
    "# Define colors\n",
    "yearly_inspections['year'] = yearly_inspections.index.year\n",
    "yearly_inspections['colors'] = ['blue' if year < 2025 else '#ffcc80' for year in yearly_inspections.index.year]\n",
    "\n",
    "# Plotly bar plot\n",
    "fig = px.bar(\n",
    "    yearly_inspections,\n",
    "    x='year',\n",
    "    y='inspections',\n",
    "    color='colors',\n",
    "    title='Yearly Inspections',\n",
    "    labels={'inspections': 'Total', 'year': 'Year'},  # Tooltip label customization\n",
    "    hover_data={'year': True, 'inspections': True, 'colors': False}  # Hide 'colors' in tooltip\n",
    ")\n",
    "\n",
    "# Customize layout\n",
    "fig.update_layout(\n",
    "    xaxis=dict(tickangle=0),\n",
    "    yaxis_title='Total',\n",
    "    xaxis_title='Year',\n",
    "    showlegend=False,\n",
    "    height=600,\n",
    "    width=1000\n",
    ")\n",
    "\n",
    "fig.show()\n",
    "fig.write_html('yearly_inspections.html')"
   ]
  },
  {
   "cell_type": "code",
   "execution_count": 28,
   "metadata": {},
   "outputs": [
    {
     "name": "stderr",
     "output_type": "stream",
     "text": [
      "/opt/anaconda3/lib/python3.11/site-packages/_plotly_utils/basevalidators.py:106: FutureWarning:\n",
      "\n",
      "The behavior of DatetimeProperties.to_pydatetime is deprecated, in a future version this will return a Series containing python datetime objects instead of an ndarray. To retain the old behavior, call `np.array` on the result\n",
      "\n",
      "/opt/anaconda3/lib/python3.11/site-packages/plotly/io/_renderers.py:395: DeprecationWarning:\n",
      "\n",
      "distutils Version classes are deprecated. Use packaging.version instead.\n",
      "\n"
     ]
    },
    {
     "data": {
      "application/vnd.plotly.v1+json": {
       "config": {
        "plotlyServerURL": "https://plot.ly"
       },
       "data": [
        {
         "alignmentgroup": "True",
         "hovertemplate": "Month=%{x}<br>Revenue=%{y}<extra></extra>",
         "legendgroup": "",
         "marker": {
          "color": "#636efa",
          "pattern": {
           "shape": ""
          }
         },
         "name": "",
         "offsetgroup": "",
         "orientation": "v",
         "showlegend": false,
         "textposition": "auto",
         "type": "bar",
         "x": [
          "2019-01-01T00:00:00",
          "2019-02-01T00:00:00",
          "2019-03-01T00:00:00",
          "2019-04-01T00:00:00",
          "2019-05-01T00:00:00",
          "2019-06-01T00:00:00",
          "2019-07-01T00:00:00",
          "2019-08-01T00:00:00",
          "2019-09-01T00:00:00",
          "2019-10-01T00:00:00",
          "2019-11-01T00:00:00",
          "2019-12-01T00:00:00",
          "2020-01-01T00:00:00",
          "2020-02-01T00:00:00",
          "2020-03-01T00:00:00",
          "2020-04-01T00:00:00",
          "2020-05-01T00:00:00",
          "2020-06-01T00:00:00",
          "2020-07-01T00:00:00",
          "2020-08-01T00:00:00",
          "2020-09-01T00:00:00",
          "2020-10-01T00:00:00",
          "2020-11-01T00:00:00",
          "2020-12-01T00:00:00",
          "2021-01-01T00:00:00",
          "2021-02-01T00:00:00",
          "2021-03-01T00:00:00",
          "2021-04-01T00:00:00",
          "2021-05-01T00:00:00",
          "2021-06-01T00:00:00",
          "2021-07-01T00:00:00",
          "2021-08-01T00:00:00",
          "2021-09-01T00:00:00",
          "2021-10-01T00:00:00",
          "2021-11-01T00:00:00",
          "2021-12-01T00:00:00",
          "2022-01-01T00:00:00",
          "2022-02-01T00:00:00",
          "2022-03-01T00:00:00",
          "2022-04-01T00:00:00",
          "2022-05-01T00:00:00",
          "2022-06-01T00:00:00",
          "2022-07-01T00:00:00",
          "2022-08-01T00:00:00",
          "2022-09-01T00:00:00",
          "2022-10-01T00:00:00",
          "2022-11-01T00:00:00",
          "2022-12-01T00:00:00",
          "2023-01-01T00:00:00",
          "2023-02-01T00:00:00",
          "2023-03-01T00:00:00",
          "2023-04-01T00:00:00",
          "2023-05-01T00:00:00",
          "2023-06-01T00:00:00",
          "2023-07-01T00:00:00",
          "2023-08-01T00:00:00",
          "2023-09-01T00:00:00",
          "2023-10-01T00:00:00",
          "2023-11-01T00:00:00",
          "2023-12-01T00:00:00",
          "2024-01-01T00:00:00",
          "2024-02-01T00:00:00",
          "2024-03-01T00:00:00",
          "2024-04-01T00:00:00",
          "2024-05-01T00:00:00",
          "2024-06-01T00:00:00",
          "2024-07-01T00:00:00",
          "2024-08-01T00:00:00",
          "2024-09-01T00:00:00",
          "2024-10-01T00:00:00",
          "2024-11-01T00:00:00",
          "2024-12-01T00:00:00"
         ],
         "xaxis": "x",
         "y": [
          299900.81,
          271567.81,
          270408.39,
          344261.44,
          330279.66,
          252186.38,
          315086.19,
          371451.06,
          309096.32,
          360034.4,
          324911.24,
          211000.23,
          366861.98,
          327159.4,
          398866,
          423285.77999999997,
          364999.64,
          463895.35,
          634425.37,
          561780.67,
          782901.9400000001,
          864943.39,
          742703,
          804765.53,
          786421.77,
          787608.88,
          1063574.41,
          1122918.85,
          1006969.62,
          1088626.49,
          1147807.89,
          1336949.09,
          1661374.3,
          1630224.23,
          1404115.48,
          1163037.47,
          1307285.09,
          1230420.22,
          1642503.26,
          1524733.14,
          1387580.14,
          1554308.51,
          1541022.59,
          1794806.95,
          1816177.69,
          1702258.76,
          1529588.6,
          1521594.53,
          1482557.77,
          1627324.18,
          2131048.95,
          1725529.72,
          1983316.16,
          2107145.36,
          1989554,
          2325424.38,
          2226257.33,
          2501188.03,
          1912978.1300000001,
          1588448.82,
          1942926.31,
          1830376.09,
          2065344.25,
          2407220.55,
          2621046.33,
          2254872.69,
          2409437.17,
          2631526.28,
          2514816.75,
          2961509.44,
          2554753.36,
          1894702.97
         ],
         "yaxis": "y"
        }
       ],
       "layout": {
        "barmode": "relative",
        "height": 600,
        "legend": {
         "tracegroupgap": 0
        },
        "template": {
         "data": {
          "bar": [
           {
            "error_x": {
             "color": "#2a3f5f"
            },
            "error_y": {
             "color": "#2a3f5f"
            },
            "marker": {
             "line": {
              "color": "#E5ECF6",
              "width": 0.5
             },
             "pattern": {
              "fillmode": "overlay",
              "size": 10,
              "solidity": 0.2
             }
            },
            "type": "bar"
           }
          ],
          "barpolar": [
           {
            "marker": {
             "line": {
              "color": "#E5ECF6",
              "width": 0.5
             },
             "pattern": {
              "fillmode": "overlay",
              "size": 10,
              "solidity": 0.2
             }
            },
            "type": "barpolar"
           }
          ],
          "carpet": [
           {
            "aaxis": {
             "endlinecolor": "#2a3f5f",
             "gridcolor": "white",
             "linecolor": "white",
             "minorgridcolor": "white",
             "startlinecolor": "#2a3f5f"
            },
            "baxis": {
             "endlinecolor": "#2a3f5f",
             "gridcolor": "white",
             "linecolor": "white",
             "minorgridcolor": "white",
             "startlinecolor": "#2a3f5f"
            },
            "type": "carpet"
           }
          ],
          "choropleth": [
           {
            "colorbar": {
             "outlinewidth": 0,
             "ticks": ""
            },
            "type": "choropleth"
           }
          ],
          "contour": [
           {
            "colorbar": {
             "outlinewidth": 0,
             "ticks": ""
            },
            "colorscale": [
             [
              0,
              "#0d0887"
             ],
             [
              0.1111111111111111,
              "#46039f"
             ],
             [
              0.2222222222222222,
              "#7201a8"
             ],
             [
              0.3333333333333333,
              "#9c179e"
             ],
             [
              0.4444444444444444,
              "#bd3786"
             ],
             [
              0.5555555555555556,
              "#d8576b"
             ],
             [
              0.6666666666666666,
              "#ed7953"
             ],
             [
              0.7777777777777778,
              "#fb9f3a"
             ],
             [
              0.8888888888888888,
              "#fdca26"
             ],
             [
              1,
              "#f0f921"
             ]
            ],
            "type": "contour"
           }
          ],
          "contourcarpet": [
           {
            "colorbar": {
             "outlinewidth": 0,
             "ticks": ""
            },
            "type": "contourcarpet"
           }
          ],
          "heatmap": [
           {
            "colorbar": {
             "outlinewidth": 0,
             "ticks": ""
            },
            "colorscale": [
             [
              0,
              "#0d0887"
             ],
             [
              0.1111111111111111,
              "#46039f"
             ],
             [
              0.2222222222222222,
              "#7201a8"
             ],
             [
              0.3333333333333333,
              "#9c179e"
             ],
             [
              0.4444444444444444,
              "#bd3786"
             ],
             [
              0.5555555555555556,
              "#d8576b"
             ],
             [
              0.6666666666666666,
              "#ed7953"
             ],
             [
              0.7777777777777778,
              "#fb9f3a"
             ],
             [
              0.8888888888888888,
              "#fdca26"
             ],
             [
              1,
              "#f0f921"
             ]
            ],
            "type": "heatmap"
           }
          ],
          "heatmapgl": [
           {
            "colorbar": {
             "outlinewidth": 0,
             "ticks": ""
            },
            "colorscale": [
             [
              0,
              "#0d0887"
             ],
             [
              0.1111111111111111,
              "#46039f"
             ],
             [
              0.2222222222222222,
              "#7201a8"
             ],
             [
              0.3333333333333333,
              "#9c179e"
             ],
             [
              0.4444444444444444,
              "#bd3786"
             ],
             [
              0.5555555555555556,
              "#d8576b"
             ],
             [
              0.6666666666666666,
              "#ed7953"
             ],
             [
              0.7777777777777778,
              "#fb9f3a"
             ],
             [
              0.8888888888888888,
              "#fdca26"
             ],
             [
              1,
              "#f0f921"
             ]
            ],
            "type": "heatmapgl"
           }
          ],
          "histogram": [
           {
            "marker": {
             "pattern": {
              "fillmode": "overlay",
              "size": 10,
              "solidity": 0.2
             }
            },
            "type": "histogram"
           }
          ],
          "histogram2d": [
           {
            "colorbar": {
             "outlinewidth": 0,
             "ticks": ""
            },
            "colorscale": [
             [
              0,
              "#0d0887"
             ],
             [
              0.1111111111111111,
              "#46039f"
             ],
             [
              0.2222222222222222,
              "#7201a8"
             ],
             [
              0.3333333333333333,
              "#9c179e"
             ],
             [
              0.4444444444444444,
              "#bd3786"
             ],
             [
              0.5555555555555556,
              "#d8576b"
             ],
             [
              0.6666666666666666,
              "#ed7953"
             ],
             [
              0.7777777777777778,
              "#fb9f3a"
             ],
             [
              0.8888888888888888,
              "#fdca26"
             ],
             [
              1,
              "#f0f921"
             ]
            ],
            "type": "histogram2d"
           }
          ],
          "histogram2dcontour": [
           {
            "colorbar": {
             "outlinewidth": 0,
             "ticks": ""
            },
            "colorscale": [
             [
              0,
              "#0d0887"
             ],
             [
              0.1111111111111111,
              "#46039f"
             ],
             [
              0.2222222222222222,
              "#7201a8"
             ],
             [
              0.3333333333333333,
              "#9c179e"
             ],
             [
              0.4444444444444444,
              "#bd3786"
             ],
             [
              0.5555555555555556,
              "#d8576b"
             ],
             [
              0.6666666666666666,
              "#ed7953"
             ],
             [
              0.7777777777777778,
              "#fb9f3a"
             ],
             [
              0.8888888888888888,
              "#fdca26"
             ],
             [
              1,
              "#f0f921"
             ]
            ],
            "type": "histogram2dcontour"
           }
          ],
          "mesh3d": [
           {
            "colorbar": {
             "outlinewidth": 0,
             "ticks": ""
            },
            "type": "mesh3d"
           }
          ],
          "parcoords": [
           {
            "line": {
             "colorbar": {
              "outlinewidth": 0,
              "ticks": ""
             }
            },
            "type": "parcoords"
           }
          ],
          "pie": [
           {
            "automargin": true,
            "type": "pie"
           }
          ],
          "scatter": [
           {
            "fillpattern": {
             "fillmode": "overlay",
             "size": 10,
             "solidity": 0.2
            },
            "type": "scatter"
           }
          ],
          "scatter3d": [
           {
            "line": {
             "colorbar": {
              "outlinewidth": 0,
              "ticks": ""
             }
            },
            "marker": {
             "colorbar": {
              "outlinewidth": 0,
              "ticks": ""
             }
            },
            "type": "scatter3d"
           }
          ],
          "scattercarpet": [
           {
            "marker": {
             "colorbar": {
              "outlinewidth": 0,
              "ticks": ""
             }
            },
            "type": "scattercarpet"
           }
          ],
          "scattergeo": [
           {
            "marker": {
             "colorbar": {
              "outlinewidth": 0,
              "ticks": ""
             }
            },
            "type": "scattergeo"
           }
          ],
          "scattergl": [
           {
            "marker": {
             "colorbar": {
              "outlinewidth": 0,
              "ticks": ""
             }
            },
            "type": "scattergl"
           }
          ],
          "scattermapbox": [
           {
            "marker": {
             "colorbar": {
              "outlinewidth": 0,
              "ticks": ""
             }
            },
            "type": "scattermapbox"
           }
          ],
          "scatterpolar": [
           {
            "marker": {
             "colorbar": {
              "outlinewidth": 0,
              "ticks": ""
             }
            },
            "type": "scatterpolar"
           }
          ],
          "scatterpolargl": [
           {
            "marker": {
             "colorbar": {
              "outlinewidth": 0,
              "ticks": ""
             }
            },
            "type": "scatterpolargl"
           }
          ],
          "scatterternary": [
           {
            "marker": {
             "colorbar": {
              "outlinewidth": 0,
              "ticks": ""
             }
            },
            "type": "scatterternary"
           }
          ],
          "surface": [
           {
            "colorbar": {
             "outlinewidth": 0,
             "ticks": ""
            },
            "colorscale": [
             [
              0,
              "#0d0887"
             ],
             [
              0.1111111111111111,
              "#46039f"
             ],
             [
              0.2222222222222222,
              "#7201a8"
             ],
             [
              0.3333333333333333,
              "#9c179e"
             ],
             [
              0.4444444444444444,
              "#bd3786"
             ],
             [
              0.5555555555555556,
              "#d8576b"
             ],
             [
              0.6666666666666666,
              "#ed7953"
             ],
             [
              0.7777777777777778,
              "#fb9f3a"
             ],
             [
              0.8888888888888888,
              "#fdca26"
             ],
             [
              1,
              "#f0f921"
             ]
            ],
            "type": "surface"
           }
          ],
          "table": [
           {
            "cells": {
             "fill": {
              "color": "#EBF0F8"
             },
             "line": {
              "color": "white"
             }
            },
            "header": {
             "fill": {
              "color": "#C8D4E3"
             },
             "line": {
              "color": "white"
             }
            },
            "type": "table"
           }
          ]
         },
         "layout": {
          "annotationdefaults": {
           "arrowcolor": "#2a3f5f",
           "arrowhead": 0,
           "arrowwidth": 1
          },
          "autotypenumbers": "strict",
          "coloraxis": {
           "colorbar": {
            "outlinewidth": 0,
            "ticks": ""
           }
          },
          "colorscale": {
           "diverging": [
            [
             0,
             "#8e0152"
            ],
            [
             0.1,
             "#c51b7d"
            ],
            [
             0.2,
             "#de77ae"
            ],
            [
             0.3,
             "#f1b6da"
            ],
            [
             0.4,
             "#fde0ef"
            ],
            [
             0.5,
             "#f7f7f7"
            ],
            [
             0.6,
             "#e6f5d0"
            ],
            [
             0.7,
             "#b8e186"
            ],
            [
             0.8,
             "#7fbc41"
            ],
            [
             0.9,
             "#4d9221"
            ],
            [
             1,
             "#276419"
            ]
           ],
           "sequential": [
            [
             0,
             "#0d0887"
            ],
            [
             0.1111111111111111,
             "#46039f"
            ],
            [
             0.2222222222222222,
             "#7201a8"
            ],
            [
             0.3333333333333333,
             "#9c179e"
            ],
            [
             0.4444444444444444,
             "#bd3786"
            ],
            [
             0.5555555555555556,
             "#d8576b"
            ],
            [
             0.6666666666666666,
             "#ed7953"
            ],
            [
             0.7777777777777778,
             "#fb9f3a"
            ],
            [
             0.8888888888888888,
             "#fdca26"
            ],
            [
             1,
             "#f0f921"
            ]
           ],
           "sequentialminus": [
            [
             0,
             "#0d0887"
            ],
            [
             0.1111111111111111,
             "#46039f"
            ],
            [
             0.2222222222222222,
             "#7201a8"
            ],
            [
             0.3333333333333333,
             "#9c179e"
            ],
            [
             0.4444444444444444,
             "#bd3786"
            ],
            [
             0.5555555555555556,
             "#d8576b"
            ],
            [
             0.6666666666666666,
             "#ed7953"
            ],
            [
             0.7777777777777778,
             "#fb9f3a"
            ],
            [
             0.8888888888888888,
             "#fdca26"
            ],
            [
             1,
             "#f0f921"
            ]
           ]
          },
          "colorway": [
           "#636efa",
           "#EF553B",
           "#00cc96",
           "#ab63fa",
           "#FFA15A",
           "#19d3f3",
           "#FF6692",
           "#B6E880",
           "#FF97FF",
           "#FECB52"
          ],
          "font": {
           "color": "#2a3f5f"
          },
          "geo": {
           "bgcolor": "white",
           "lakecolor": "white",
           "landcolor": "#E5ECF6",
           "showlakes": true,
           "showland": true,
           "subunitcolor": "white"
          },
          "hoverlabel": {
           "align": "left"
          },
          "hovermode": "closest",
          "mapbox": {
           "style": "light"
          },
          "paper_bgcolor": "white",
          "plot_bgcolor": "#E5ECF6",
          "polar": {
           "angularaxis": {
            "gridcolor": "white",
            "linecolor": "white",
            "ticks": ""
           },
           "bgcolor": "#E5ECF6",
           "radialaxis": {
            "gridcolor": "white",
            "linecolor": "white",
            "ticks": ""
           }
          },
          "scene": {
           "xaxis": {
            "backgroundcolor": "#E5ECF6",
            "gridcolor": "white",
            "gridwidth": 2,
            "linecolor": "white",
            "showbackground": true,
            "ticks": "",
            "zerolinecolor": "white"
           },
           "yaxis": {
            "backgroundcolor": "#E5ECF6",
            "gridcolor": "white",
            "gridwidth": 2,
            "linecolor": "white",
            "showbackground": true,
            "ticks": "",
            "zerolinecolor": "white"
           },
           "zaxis": {
            "backgroundcolor": "#E5ECF6",
            "gridcolor": "white",
            "gridwidth": 2,
            "linecolor": "white",
            "showbackground": true,
            "ticks": "",
            "zerolinecolor": "white"
           }
          },
          "shapedefaults": {
           "line": {
            "color": "#2a3f5f"
           }
          },
          "ternary": {
           "aaxis": {
            "gridcolor": "white",
            "linecolor": "white",
            "ticks": ""
           },
           "baxis": {
            "gridcolor": "white",
            "linecolor": "white",
            "ticks": ""
           },
           "bgcolor": "#E5ECF6",
           "caxis": {
            "gridcolor": "white",
            "linecolor": "white",
            "ticks": ""
           }
          },
          "title": {
           "x": 0.05
          },
          "xaxis": {
           "automargin": true,
           "gridcolor": "white",
           "linecolor": "white",
           "ticks": "",
           "title": {
            "standoff": 15
           },
           "zerolinecolor": "white",
           "zerolinewidth": 2
          },
          "yaxis": {
           "automargin": true,
           "gridcolor": "white",
           "linecolor": "white",
           "ticks": "",
           "title": {
            "standoff": 15
           },
           "zerolinecolor": "white",
           "zerolinewidth": 2
          }
         }
        },
        "title": {
         "text": "Monthly Revenue"
        },
        "width": 1000,
        "xaxis": {
         "anchor": "y",
         "domain": [
          0,
          1
         ],
         "tickangle": -90,
         "title": {
          "text": "Month"
         }
        },
        "yaxis": {
         "anchor": "x",
         "domain": [
          0,
          1
         ],
         "title": {
          "text": "Revenue"
         }
        }
       }
      }
     },
     "metadata": {},
     "output_type": "display_data"
    }
   ],
   "source": [
    "# monthly revenue\n",
    "# Plotly Bar Chart\n",
    "fig = px.bar(\n",
    "    monthly_performance.reset_index(),\n",
    "    x='month',\n",
    "    y='revenue',\n",
    "    title='Monthly Revenue',\n",
    "    labels={'month': 'Month', 'revenue': 'Revenue'}\n",
    ")\n",
    "\n",
    "# Customize Layout (for x-axis rotation and better visualization)\n",
    "fig.update_layout(\n",
    "    xaxis_tickangle=-90,\n",
    "    height=600,\n",
    "    width=1000,\n",
    "    xaxis_title='Month',\n",
    "    yaxis_title='Revenue'\n",
    ")\n",
    "\n",
    "fig.show()\n",
    "fig.write_html('monthly_revenue.html')"
   ]
  },
  {
   "cell_type": "code",
   "execution_count": 42,
   "metadata": {},
   "outputs": [
    {
     "name": "stdout",
     "output_type": "stream",
     "text": [
      "RUNNING THE L-BFGS-B CODE\n",
      "\n",
      "           * * *\n",
      "\n",
      "Machine precision = 2.220D-16\n",
      " N =            5     M =           10\n",
      "\n",
      "At X0         0 variables are exactly at the bounds\n",
      "\n",
      "At iterate    0    f=  1.11456D+01    |proj g|=  1.00211D-01\n",
      "\n",
      "At iterate    5    f=  1.11153D+01    |proj g|=  8.56586D-03\n",
      "\n",
      "At iterate   10    f=  1.11081D+01    |proj g|=  2.62722D-03\n",
      "\n",
      "           * * *\n",
      "\n",
      "Tit   = total number of iterations\n",
      "Tnf   = total number of function evaluations\n",
      "Tnint = total number of segments explored during Cauchy searches\n",
      "Skip  = number of BFGS updates skipped\n",
      "Nact  = number of active bounds at final generalized Cauchy point\n",
      "Projg = norm of the final projected gradient\n",
      "F     = final function value\n",
      "\n",
      "           * * *\n",
      "\n",
      "   N    Tit     Tnf  Tnint  Skip  Nact     Projg        F\n",
      "    5     13     16      1     0     0   7.083D-05   1.111D+01\n",
      "  F =   11.108094402753736     \n",
      "\n",
      "CONVERGENCE: REL_REDUCTION_OF_F_<=_FACTR*EPSMCH             \n"
     ]
    },
    {
     "name": "stderr",
     "output_type": "stream",
     "text": [
      " This problem is unconstrained.\n"
     ]
    },
    {
     "data": {
      "application/vnd.plotly.v1+json": {
       "config": {
        "plotlyServerURL": "https://plot.ly"
       },
       "data": [
        {
         "mode": "lines",
         "name": "Revenue",
         "type": "scatter",
         "x": [
          "2019-01-01T00:00:00",
          "2019-02-01T00:00:00",
          "2019-03-01T00:00:00",
          "2019-04-01T00:00:00",
          "2019-05-01T00:00:00",
          "2019-06-01T00:00:00",
          "2019-07-01T00:00:00",
          "2019-08-01T00:00:00",
          "2019-09-01T00:00:00",
          "2019-10-01T00:00:00",
          "2019-11-01T00:00:00",
          "2019-12-01T00:00:00",
          "2020-01-01T00:00:00",
          "2020-02-01T00:00:00",
          "2020-03-01T00:00:00",
          "2020-04-01T00:00:00",
          "2020-05-01T00:00:00",
          "2020-06-01T00:00:00",
          "2020-07-01T00:00:00",
          "2020-08-01T00:00:00",
          "2020-09-01T00:00:00",
          "2020-10-01T00:00:00",
          "2020-11-01T00:00:00",
          "2020-12-01T00:00:00",
          "2021-01-01T00:00:00",
          "2021-02-01T00:00:00",
          "2021-03-01T00:00:00",
          "2021-04-01T00:00:00",
          "2021-05-01T00:00:00",
          "2021-06-01T00:00:00",
          "2021-07-01T00:00:00",
          "2021-08-01T00:00:00",
          "2021-09-01T00:00:00",
          "2021-10-01T00:00:00",
          "2021-11-01T00:00:00",
          "2021-12-01T00:00:00",
          "2022-01-01T00:00:00",
          "2022-02-01T00:00:00",
          "2022-03-01T00:00:00",
          "2022-04-01T00:00:00",
          "2022-05-01T00:00:00",
          "2022-06-01T00:00:00",
          "2022-07-01T00:00:00",
          "2022-08-01T00:00:00",
          "2022-09-01T00:00:00",
          "2022-10-01T00:00:00",
          "2022-11-01T00:00:00",
          "2022-12-01T00:00:00",
          "2023-01-01T00:00:00",
          "2023-02-01T00:00:00",
          "2023-03-01T00:00:00",
          "2023-04-01T00:00:00",
          "2023-05-01T00:00:00",
          "2023-06-01T00:00:00",
          "2023-07-01T00:00:00",
          "2023-08-01T00:00:00",
          "2023-09-01T00:00:00",
          "2023-10-01T00:00:00",
          "2023-11-01T00:00:00",
          "2023-12-01T00:00:00",
          "2024-01-01T00:00:00",
          "2024-02-01T00:00:00",
          "2024-03-01T00:00:00",
          "2024-04-01T00:00:00",
          "2024-05-01T00:00:00",
          "2024-06-01T00:00:00",
          "2024-07-01T00:00:00",
          "2024-08-01T00:00:00",
          "2024-09-01T00:00:00",
          "2024-10-01T00:00:00",
          "2024-11-01T00:00:00",
          "2024-12-01T00:00:00"
         ],
         "y": [
          299900.81,
          271567.81,
          270408.39,
          344261.44,
          330279.66,
          252186.38,
          315086.19,
          371451.06,
          309096.32,
          360034.4,
          324911.24,
          211000.23,
          366861.98,
          327159.4,
          398866,
          423285.77999999997,
          364999.64,
          463895.35,
          634425.37,
          561780.67,
          782901.9400000001,
          864943.39,
          742703,
          804765.53,
          786421.77,
          787608.88,
          1063574.41,
          1122918.85,
          1006969.62,
          1088626.49,
          1147807.89,
          1336949.09,
          1661374.3,
          1630224.23,
          1404115.48,
          1163037.47,
          1307285.09,
          1230420.22,
          1642503.26,
          1524733.14,
          1387580.14,
          1554308.51,
          1541022.59,
          1794806.95,
          1816177.69,
          1702258.76,
          1529588.6,
          1521594.53,
          1482557.77,
          1627324.18,
          2131048.95,
          1725529.72,
          1983316.16,
          2107145.36,
          1989554,
          2325424.38,
          2226257.33,
          2501188.03,
          1912978.1300000001,
          1588448.82,
          1942926.31,
          1830376.09,
          2065344.25,
          2407220.55,
          2621046.33,
          2254872.69,
          2409437.17,
          2631526.28,
          2514816.75,
          2961509.44,
          2554753.36,
          1894702.97
         ]
        },
        {
         "line": {
          "color": "orange",
          "dash": "dash"
         },
         "mode": "lines",
         "name": "Forecast",
         "type": "scatter",
         "x": [
          "2025-01-31T00:00:00",
          "2025-02-28T00:00:00",
          "2025-03-31T00:00:00",
          "2025-04-30T00:00:00",
          "2025-05-31T00:00:00",
          "2025-06-30T00:00:00",
          "2025-07-31T00:00:00",
          "2025-08-31T00:00:00",
          "2025-09-30T00:00:00",
          "2025-10-31T00:00:00",
          "2025-11-30T00:00:00",
          "2025-12-31T00:00:00",
          "2026-01-31T00:00:00",
          "2026-02-28T00:00:00",
          "2026-03-31T00:00:00",
          "2026-04-30T00:00:00",
          "2026-05-31T00:00:00",
          "2026-06-30T00:00:00",
          "2026-07-31T00:00:00",
          "2026-08-31T00:00:00",
          "2026-09-30T00:00:00",
          "2026-10-31T00:00:00",
          "2026-11-30T00:00:00",
          "2026-12-31T00:00:00"
         ],
         "y": [
          2298897.090549284,
          2270972.215362802,
          2578474.417868987,
          2715547.725866263,
          2901571.2797084586,
          2696271.791568869,
          2777353.3602444995,
          3022042.779581096,
          2933494.939393654,
          3285304.3467507563,
          2865397.5693049575,
          2344507.6499029435,
          2694387.752265641,
          2659954.1792292036,
          2967464.4841075083,
          3101230.74196575,
          3286804.409848675,
          3083976.1115061007,
          3163927.0180371203,
          3408963.9811389116,
          3320849.2768130368,
          3671199.317102014,
          3251090.2733071935,
          2732340.7312424444
         ]
        },
        {
         "line": {
          "color": "rgba(255,165,0,0.3)"
         },
         "mode": "lines",
         "name": "Upper Bound",
         "type": "scatter",
         "x": [
          "2025-01-31T00:00:00",
          "2025-02-28T00:00:00",
          "2025-03-31T00:00:00",
          "2025-04-30T00:00:00",
          "2025-05-31T00:00:00",
          "2025-06-30T00:00:00",
          "2025-07-31T00:00:00",
          "2025-08-31T00:00:00",
          "2025-09-30T00:00:00",
          "2025-10-31T00:00:00",
          "2025-11-30T00:00:00",
          "2025-12-31T00:00:00",
          "2026-01-31T00:00:00",
          "2026-02-28T00:00:00",
          "2026-03-31T00:00:00",
          "2026-04-30T00:00:00",
          "2026-05-31T00:00:00",
          "2026-06-30T00:00:00",
          "2026-07-31T00:00:00",
          "2026-08-31T00:00:00",
          "2026-09-30T00:00:00",
          "2026-10-31T00:00:00",
          "2026-11-30T00:00:00",
          "2026-12-31T00:00:00"
         ],
         "y": [
          2710085.256027353,
          2717684.706326187,
          3046917.961979133,
          3203407.7257915474,
          3407922.9294977724,
          3220438.437237437,
          3318745.709218562,
          3580128.9354786403,
          3507789.781409545,
          3875362.7884520995,
          3470809.3065600116,
          2964892.8780217185,
          3439447.246723648,
          3446840.1192051354,
          3787421.0446270895,
          3952112.636454901,
          4167409.1614403958,
          3993316.6467092335,
          4101120.4571971125,
          4373205.801358498,
          4311401.118115365,
          4687380.208257591,
          4292269.543782446,
          3797932.1430076994
         ]
        },
        {
         "fill": "tonexty",
         "line": {
          "color": "rgba(255,165,0,0.3)"
         },
         "mode": "lines",
         "name": "Lower Bound",
         "type": "scatter",
         "x": [
          "2025-01-31T00:00:00",
          "2025-02-28T00:00:00",
          "2025-03-31T00:00:00",
          "2025-04-30T00:00:00",
          "2025-05-31T00:00:00",
          "2025-06-30T00:00:00",
          "2025-07-31T00:00:00",
          "2025-08-31T00:00:00",
          "2025-09-30T00:00:00",
          "2025-10-31T00:00:00",
          "2025-11-30T00:00:00",
          "2025-12-31T00:00:00",
          "2026-01-31T00:00:00",
          "2026-02-28T00:00:00",
          "2026-03-31T00:00:00",
          "2026-04-30T00:00:00",
          "2026-05-31T00:00:00",
          "2026-06-30T00:00:00",
          "2026-07-31T00:00:00",
          "2026-08-31T00:00:00",
          "2026-09-30T00:00:00",
          "2026-10-31T00:00:00",
          "2026-11-30T00:00:00",
          "2026-12-31T00:00:00"
         ],
         "y": [
          1887708.9250712155,
          1824259.7243994172,
          2110030.8737588413,
          2227687.725940978,
          2395219.629919145,
          2172105.1459003007,
          2235961.011270437,
          2463956.623683552,
          2359200.097377763,
          2695245.905049413,
          2259985.8320499035,
          1724122.4217841686,
          1949328.2578076338,
          1873068.2392532718,
          2147507.923587927,
          2250348.8474765993,
          2406199.6582569545,
          2174635.576302968,
          2226733.578877128,
          2444722.160919325,
          2330297.435510709,
          2655018.4259464373,
          2209911.0028319415,
          1666749.3194771896
         ]
        }
       ],
       "layout": {
        "height": 600,
        "legend": {
         "title": {
          "text": "Legend"
         }
        },
        "template": {
         "data": {
          "bar": [
           {
            "error_x": {
             "color": "#2a3f5f"
            },
            "error_y": {
             "color": "#2a3f5f"
            },
            "marker": {
             "line": {
              "color": "#E5ECF6",
              "width": 0.5
             },
             "pattern": {
              "fillmode": "overlay",
              "size": 10,
              "solidity": 0.2
             }
            },
            "type": "bar"
           }
          ],
          "barpolar": [
           {
            "marker": {
             "line": {
              "color": "#E5ECF6",
              "width": 0.5
             },
             "pattern": {
              "fillmode": "overlay",
              "size": 10,
              "solidity": 0.2
             }
            },
            "type": "barpolar"
           }
          ],
          "carpet": [
           {
            "aaxis": {
             "endlinecolor": "#2a3f5f",
             "gridcolor": "white",
             "linecolor": "white",
             "minorgridcolor": "white",
             "startlinecolor": "#2a3f5f"
            },
            "baxis": {
             "endlinecolor": "#2a3f5f",
             "gridcolor": "white",
             "linecolor": "white",
             "minorgridcolor": "white",
             "startlinecolor": "#2a3f5f"
            },
            "type": "carpet"
           }
          ],
          "choropleth": [
           {
            "colorbar": {
             "outlinewidth": 0,
             "ticks": ""
            },
            "type": "choropleth"
           }
          ],
          "contour": [
           {
            "colorbar": {
             "outlinewidth": 0,
             "ticks": ""
            },
            "colorscale": [
             [
              0,
              "#0d0887"
             ],
             [
              0.1111111111111111,
              "#46039f"
             ],
             [
              0.2222222222222222,
              "#7201a8"
             ],
             [
              0.3333333333333333,
              "#9c179e"
             ],
             [
              0.4444444444444444,
              "#bd3786"
             ],
             [
              0.5555555555555556,
              "#d8576b"
             ],
             [
              0.6666666666666666,
              "#ed7953"
             ],
             [
              0.7777777777777778,
              "#fb9f3a"
             ],
             [
              0.8888888888888888,
              "#fdca26"
             ],
             [
              1,
              "#f0f921"
             ]
            ],
            "type": "contour"
           }
          ],
          "contourcarpet": [
           {
            "colorbar": {
             "outlinewidth": 0,
             "ticks": ""
            },
            "type": "contourcarpet"
           }
          ],
          "heatmap": [
           {
            "colorbar": {
             "outlinewidth": 0,
             "ticks": ""
            },
            "colorscale": [
             [
              0,
              "#0d0887"
             ],
             [
              0.1111111111111111,
              "#46039f"
             ],
             [
              0.2222222222222222,
              "#7201a8"
             ],
             [
              0.3333333333333333,
              "#9c179e"
             ],
             [
              0.4444444444444444,
              "#bd3786"
             ],
             [
              0.5555555555555556,
              "#d8576b"
             ],
             [
              0.6666666666666666,
              "#ed7953"
             ],
             [
              0.7777777777777778,
              "#fb9f3a"
             ],
             [
              0.8888888888888888,
              "#fdca26"
             ],
             [
              1,
              "#f0f921"
             ]
            ],
            "type": "heatmap"
           }
          ],
          "heatmapgl": [
           {
            "colorbar": {
             "outlinewidth": 0,
             "ticks": ""
            },
            "colorscale": [
             [
              0,
              "#0d0887"
             ],
             [
              0.1111111111111111,
              "#46039f"
             ],
             [
              0.2222222222222222,
              "#7201a8"
             ],
             [
              0.3333333333333333,
              "#9c179e"
             ],
             [
              0.4444444444444444,
              "#bd3786"
             ],
             [
              0.5555555555555556,
              "#d8576b"
             ],
             [
              0.6666666666666666,
              "#ed7953"
             ],
             [
              0.7777777777777778,
              "#fb9f3a"
             ],
             [
              0.8888888888888888,
              "#fdca26"
             ],
             [
              1,
              "#f0f921"
             ]
            ],
            "type": "heatmapgl"
           }
          ],
          "histogram": [
           {
            "marker": {
             "pattern": {
              "fillmode": "overlay",
              "size": 10,
              "solidity": 0.2
             }
            },
            "type": "histogram"
           }
          ],
          "histogram2d": [
           {
            "colorbar": {
             "outlinewidth": 0,
             "ticks": ""
            },
            "colorscale": [
             [
              0,
              "#0d0887"
             ],
             [
              0.1111111111111111,
              "#46039f"
             ],
             [
              0.2222222222222222,
              "#7201a8"
             ],
             [
              0.3333333333333333,
              "#9c179e"
             ],
             [
              0.4444444444444444,
              "#bd3786"
             ],
             [
              0.5555555555555556,
              "#d8576b"
             ],
             [
              0.6666666666666666,
              "#ed7953"
             ],
             [
              0.7777777777777778,
              "#fb9f3a"
             ],
             [
              0.8888888888888888,
              "#fdca26"
             ],
             [
              1,
              "#f0f921"
             ]
            ],
            "type": "histogram2d"
           }
          ],
          "histogram2dcontour": [
           {
            "colorbar": {
             "outlinewidth": 0,
             "ticks": ""
            },
            "colorscale": [
             [
              0,
              "#0d0887"
             ],
             [
              0.1111111111111111,
              "#46039f"
             ],
             [
              0.2222222222222222,
              "#7201a8"
             ],
             [
              0.3333333333333333,
              "#9c179e"
             ],
             [
              0.4444444444444444,
              "#bd3786"
             ],
             [
              0.5555555555555556,
              "#d8576b"
             ],
             [
              0.6666666666666666,
              "#ed7953"
             ],
             [
              0.7777777777777778,
              "#fb9f3a"
             ],
             [
              0.8888888888888888,
              "#fdca26"
             ],
             [
              1,
              "#f0f921"
             ]
            ],
            "type": "histogram2dcontour"
           }
          ],
          "mesh3d": [
           {
            "colorbar": {
             "outlinewidth": 0,
             "ticks": ""
            },
            "type": "mesh3d"
           }
          ],
          "parcoords": [
           {
            "line": {
             "colorbar": {
              "outlinewidth": 0,
              "ticks": ""
             }
            },
            "type": "parcoords"
           }
          ],
          "pie": [
           {
            "automargin": true,
            "type": "pie"
           }
          ],
          "scatter": [
           {
            "fillpattern": {
             "fillmode": "overlay",
             "size": 10,
             "solidity": 0.2
            },
            "type": "scatter"
           }
          ],
          "scatter3d": [
           {
            "line": {
             "colorbar": {
              "outlinewidth": 0,
              "ticks": ""
             }
            },
            "marker": {
             "colorbar": {
              "outlinewidth": 0,
              "ticks": ""
             }
            },
            "type": "scatter3d"
           }
          ],
          "scattercarpet": [
           {
            "marker": {
             "colorbar": {
              "outlinewidth": 0,
              "ticks": ""
             }
            },
            "type": "scattercarpet"
           }
          ],
          "scattergeo": [
           {
            "marker": {
             "colorbar": {
              "outlinewidth": 0,
              "ticks": ""
             }
            },
            "type": "scattergeo"
           }
          ],
          "scattergl": [
           {
            "marker": {
             "colorbar": {
              "outlinewidth": 0,
              "ticks": ""
             }
            },
            "type": "scattergl"
           }
          ],
          "scattermapbox": [
           {
            "marker": {
             "colorbar": {
              "outlinewidth": 0,
              "ticks": ""
             }
            },
            "type": "scattermapbox"
           }
          ],
          "scatterpolar": [
           {
            "marker": {
             "colorbar": {
              "outlinewidth": 0,
              "ticks": ""
             }
            },
            "type": "scatterpolar"
           }
          ],
          "scatterpolargl": [
           {
            "marker": {
             "colorbar": {
              "outlinewidth": 0,
              "ticks": ""
             }
            },
            "type": "scatterpolargl"
           }
          ],
          "scatterternary": [
           {
            "marker": {
             "colorbar": {
              "outlinewidth": 0,
              "ticks": ""
             }
            },
            "type": "scatterternary"
           }
          ],
          "surface": [
           {
            "colorbar": {
             "outlinewidth": 0,
             "ticks": ""
            },
            "colorscale": [
             [
              0,
              "#0d0887"
             ],
             [
              0.1111111111111111,
              "#46039f"
             ],
             [
              0.2222222222222222,
              "#7201a8"
             ],
             [
              0.3333333333333333,
              "#9c179e"
             ],
             [
              0.4444444444444444,
              "#bd3786"
             ],
             [
              0.5555555555555556,
              "#d8576b"
             ],
             [
              0.6666666666666666,
              "#ed7953"
             ],
             [
              0.7777777777777778,
              "#fb9f3a"
             ],
             [
              0.8888888888888888,
              "#fdca26"
             ],
             [
              1,
              "#f0f921"
             ]
            ],
            "type": "surface"
           }
          ],
          "table": [
           {
            "cells": {
             "fill": {
              "color": "#EBF0F8"
             },
             "line": {
              "color": "white"
             }
            },
            "header": {
             "fill": {
              "color": "#C8D4E3"
             },
             "line": {
              "color": "white"
             }
            },
            "type": "table"
           }
          ]
         },
         "layout": {
          "annotationdefaults": {
           "arrowcolor": "#2a3f5f",
           "arrowhead": 0,
           "arrowwidth": 1
          },
          "autotypenumbers": "strict",
          "coloraxis": {
           "colorbar": {
            "outlinewidth": 0,
            "ticks": ""
           }
          },
          "colorscale": {
           "diverging": [
            [
             0,
             "#8e0152"
            ],
            [
             0.1,
             "#c51b7d"
            ],
            [
             0.2,
             "#de77ae"
            ],
            [
             0.3,
             "#f1b6da"
            ],
            [
             0.4,
             "#fde0ef"
            ],
            [
             0.5,
             "#f7f7f7"
            ],
            [
             0.6,
             "#e6f5d0"
            ],
            [
             0.7,
             "#b8e186"
            ],
            [
             0.8,
             "#7fbc41"
            ],
            [
             0.9,
             "#4d9221"
            ],
            [
             1,
             "#276419"
            ]
           ],
           "sequential": [
            [
             0,
             "#0d0887"
            ],
            [
             0.1111111111111111,
             "#46039f"
            ],
            [
             0.2222222222222222,
             "#7201a8"
            ],
            [
             0.3333333333333333,
             "#9c179e"
            ],
            [
             0.4444444444444444,
             "#bd3786"
            ],
            [
             0.5555555555555556,
             "#d8576b"
            ],
            [
             0.6666666666666666,
             "#ed7953"
            ],
            [
             0.7777777777777778,
             "#fb9f3a"
            ],
            [
             0.8888888888888888,
             "#fdca26"
            ],
            [
             1,
             "#f0f921"
            ]
           ],
           "sequentialminus": [
            [
             0,
             "#0d0887"
            ],
            [
             0.1111111111111111,
             "#46039f"
            ],
            [
             0.2222222222222222,
             "#7201a8"
            ],
            [
             0.3333333333333333,
             "#9c179e"
            ],
            [
             0.4444444444444444,
             "#bd3786"
            ],
            [
             0.5555555555555556,
             "#d8576b"
            ],
            [
             0.6666666666666666,
             "#ed7953"
            ],
            [
             0.7777777777777778,
             "#fb9f3a"
            ],
            [
             0.8888888888888888,
             "#fdca26"
            ],
            [
             1,
             "#f0f921"
            ]
           ]
          },
          "colorway": [
           "#636efa",
           "#EF553B",
           "#00cc96",
           "#ab63fa",
           "#FFA15A",
           "#19d3f3",
           "#FF6692",
           "#B6E880",
           "#FF97FF",
           "#FECB52"
          ],
          "font": {
           "color": "#2a3f5f"
          },
          "geo": {
           "bgcolor": "white",
           "lakecolor": "white",
           "landcolor": "#E5ECF6",
           "showlakes": true,
           "showland": true,
           "subunitcolor": "white"
          },
          "hoverlabel": {
           "align": "left"
          },
          "hovermode": "closest",
          "mapbox": {
           "style": "light"
          },
          "paper_bgcolor": "white",
          "plot_bgcolor": "#E5ECF6",
          "polar": {
           "angularaxis": {
            "gridcolor": "white",
            "linecolor": "white",
            "ticks": ""
           },
           "bgcolor": "#E5ECF6",
           "radialaxis": {
            "gridcolor": "white",
            "linecolor": "white",
            "ticks": ""
           }
          },
          "scene": {
           "xaxis": {
            "backgroundcolor": "#E5ECF6",
            "gridcolor": "white",
            "gridwidth": 2,
            "linecolor": "white",
            "showbackground": true,
            "ticks": "",
            "zerolinecolor": "white"
           },
           "yaxis": {
            "backgroundcolor": "#E5ECF6",
            "gridcolor": "white",
            "gridwidth": 2,
            "linecolor": "white",
            "showbackground": true,
            "ticks": "",
            "zerolinecolor": "white"
           },
           "zaxis": {
            "backgroundcolor": "#E5ECF6",
            "gridcolor": "white",
            "gridwidth": 2,
            "linecolor": "white",
            "showbackground": true,
            "ticks": "",
            "zerolinecolor": "white"
           }
          },
          "shapedefaults": {
           "line": {
            "color": "#2a3f5f"
           }
          },
          "ternary": {
           "aaxis": {
            "gridcolor": "white",
            "linecolor": "white",
            "ticks": ""
           },
           "baxis": {
            "gridcolor": "white",
            "linecolor": "white",
            "ticks": ""
           },
           "bgcolor": "#E5ECF6",
           "caxis": {
            "gridcolor": "white",
            "linecolor": "white",
            "ticks": ""
           }
          },
          "title": {
           "x": 0.05
          },
          "xaxis": {
           "automargin": true,
           "gridcolor": "white",
           "linecolor": "white",
           "ticks": "",
           "title": {
            "standoff": 15
           },
           "zerolinecolor": "white",
           "zerolinewidth": 2
          },
          "yaxis": {
           "automargin": true,
           "gridcolor": "white",
           "linecolor": "white",
           "ticks": "",
           "title": {
            "standoff": 15
           },
           "zerolinecolor": "white",
           "zerolinewidth": 2
          }
         }
        },
        "title": {
         "text": "Monthly Revenue with Seasonality Forecast"
        },
        "width": 900,
        "xaxis": {
         "title": {
          "text": "Date"
         }
        },
        "yaxis": {
         "title": {
          "text": "Revenue"
         }
        }
       }
      }
     },
     "metadata": {},
     "output_type": "display_data"
    }
   ],
   "source": [
    "# monthly revenue forecast\n",
    "# SARIMA hyperparameters\n",
    "revenue_sarima_model = SARIMAX(monthly_performance['revenue'], order=(1, 1, 1), seasonal_order=(1, 1, 1, 12))\n",
    "revenue_sarima_result = revenue_sarima_model.fit()\n",
    "\n",
    "# Forecast range (end of 2026)\n",
    "forecast_steps = 24  # Forecast for 24 months (end of 2026)\n",
    "\n",
    "# Forecast the values\n",
    "forecast = revenue_sarima_result.get_forecast(steps=forecast_steps)\n",
    "forecast_df = forecast.summary_frame()\n",
    "\n",
    "# Prepare forecast dates\n",
    "forecast_index = pd.date_range(monthly_performance.index[-1], periods=forecast_steps+1, freq='M')[1:]\n",
    "forecast_df['date'] = forecast_index\n",
    "\n",
    "# Plot with Plotly\n",
    "fig = go.Figure()\n",
    "\n",
    "# Plot observed revenue\n",
    "fig.add_trace(go.Scatter(\n",
    "    x=monthly_performance.index,\n",
    "    y=monthly_performance['revenue'],\n",
    "    mode='lines',\n",
    "    name='Revenue'\n",
    "))\n",
    "\n",
    "# Plot forecasted revenue\n",
    "fig.add_trace(go.Scatter(\n",
    "    x=forecast_df['date'],\n",
    "    y=forecast_df['mean'],\n",
    "    mode='lines',\n",
    "    name='Forecast',\n",
    "    line=dict(color='orange', dash='dash')\n",
    "))\n",
    "\n",
    "# Confidence interval (shaded region)\n",
    "fig.add_trace(go.Scatter(\n",
    "    x=forecast_df['date'],\n",
    "    y=forecast_df['mean_ci_upper'],\n",
    "    fill=None,\n",
    "    mode='lines',\n",
    "    line_color='rgba(255,165,0,0.3)',\n",
    "    name='Upper Bound'\n",
    "))\n",
    "\n",
    "fig.add_trace(go.Scatter(\n",
    "    x=forecast_df['date'],\n",
    "    y=forecast_df['mean_ci_lower'],\n",
    "    fill='tonexty',\n",
    "    mode='lines',\n",
    "    line_color='rgba(255,165,0,0.3)',\n",
    "    name='Lower Bound'\n",
    "))\n",
    "\n",
    "# Layout customization\n",
    "fig.update_layout(\n",
    "    title='Monthly Revenue with Seasonality Forecast',\n",
    "    xaxis_title='Date',\n",
    "    yaxis_title='Revenue',\n",
    "    height=600,\n",
    "    width=900,\n",
    "    legend_title='Legend'\n",
    ")\n",
    "\n",
    "fig.show()\n",
    "fig.write_html('monthly_revenue_forecast.html')"
   ]
  },
  {
   "cell_type": "code",
   "execution_count": 30,
   "metadata": {},
   "outputs": [
    {
     "name": "stdout",
     "output_type": "stream",
     "text": [
      "Total revenue for 2025: 32689835.166102573\n",
      "Total revenue for 2026: 37342188.2765636\n"
     ]
    },
    {
     "name": "stderr",
     "output_type": "stream",
     "text": [
      "/opt/anaconda3/lib/python3.11/site-packages/plotly/express/_core.py:1979: FutureWarning:\n",
      "\n",
      "When grouping with a length-1 list-like, you will need to pass a length-1 tuple to get_group in a future version of pandas. Pass `(name,)` instead of `name` to silence this warning.\n",
      "\n",
      "/opt/anaconda3/lib/python3.11/site-packages/plotly/io/_renderers.py:395: DeprecationWarning:\n",
      "\n",
      "distutils Version classes are deprecated. Use packaging.version instead.\n",
      "\n"
     ]
    },
    {
     "data": {
      "application/vnd.plotly.v1+json": {
       "config": {
        "plotlyServerURL": "https://plot.ly"
       },
       "data": [
        {
         "alignmentgroup": "True",
         "customdata": [
          [
           "blue"
          ],
          [
           "blue"
          ],
          [
           "blue"
          ],
          [
           "blue"
          ],
          [
           "blue"
          ],
          [
           "blue"
          ]
         ],
         "hovertemplate": "Year=%{x}<br>Total=%{y}<extra></extra>",
         "legendgroup": "blue",
         "marker": {
          "color": "#636efa",
          "pattern": {
           "shape": ""
          }
         },
         "name": "blue",
         "offsetgroup": "blue",
         "orientation": "v",
         "showlegend": true,
         "textposition": "auto",
         "type": "bar",
         "x": [
          2019,
          2020,
          2021,
          2022,
          2023,
          2024
         ],
         "xaxis": "x",
         "y": [
          3660183.93,
          6736588.05,
          14199628.48,
          18552279.48,
          23600772.83,
          28088532.19
         ],
         "yaxis": "y"
        },
        {
         "alignmentgroup": "True",
         "customdata": [
          [
           "#ffcc80"
          ],
          [
           "#ffcc80"
          ]
         ],
         "hovertemplate": "Year=%{x}<br>Total=%{y}<extra></extra>",
         "legendgroup": "#ffcc80",
         "marker": {
          "color": "#EF553B",
          "pattern": {
           "shape": ""
          }
         },
         "name": "#ffcc80",
         "offsetgroup": "#ffcc80",
         "orientation": "v",
         "showlegend": true,
         "textposition": "auto",
         "type": "bar",
         "x": [
          2025,
          2026
         ],
         "xaxis": "x",
         "y": [
          32689835.166102573,
          37342188.2765636
         ],
         "yaxis": "y"
        }
       ],
       "layout": {
        "barmode": "relative",
        "height": 600,
        "legend": {
         "title": {
          "text": "colors"
         },
         "tracegroupgap": 0
        },
        "showlegend": false,
        "template": {
         "data": {
          "bar": [
           {
            "error_x": {
             "color": "#2a3f5f"
            },
            "error_y": {
             "color": "#2a3f5f"
            },
            "marker": {
             "line": {
              "color": "#E5ECF6",
              "width": 0.5
             },
             "pattern": {
              "fillmode": "overlay",
              "size": 10,
              "solidity": 0.2
             }
            },
            "type": "bar"
           }
          ],
          "barpolar": [
           {
            "marker": {
             "line": {
              "color": "#E5ECF6",
              "width": 0.5
             },
             "pattern": {
              "fillmode": "overlay",
              "size": 10,
              "solidity": 0.2
             }
            },
            "type": "barpolar"
           }
          ],
          "carpet": [
           {
            "aaxis": {
             "endlinecolor": "#2a3f5f",
             "gridcolor": "white",
             "linecolor": "white",
             "minorgridcolor": "white",
             "startlinecolor": "#2a3f5f"
            },
            "baxis": {
             "endlinecolor": "#2a3f5f",
             "gridcolor": "white",
             "linecolor": "white",
             "minorgridcolor": "white",
             "startlinecolor": "#2a3f5f"
            },
            "type": "carpet"
           }
          ],
          "choropleth": [
           {
            "colorbar": {
             "outlinewidth": 0,
             "ticks": ""
            },
            "type": "choropleth"
           }
          ],
          "contour": [
           {
            "colorbar": {
             "outlinewidth": 0,
             "ticks": ""
            },
            "colorscale": [
             [
              0,
              "#0d0887"
             ],
             [
              0.1111111111111111,
              "#46039f"
             ],
             [
              0.2222222222222222,
              "#7201a8"
             ],
             [
              0.3333333333333333,
              "#9c179e"
             ],
             [
              0.4444444444444444,
              "#bd3786"
             ],
             [
              0.5555555555555556,
              "#d8576b"
             ],
             [
              0.6666666666666666,
              "#ed7953"
             ],
             [
              0.7777777777777778,
              "#fb9f3a"
             ],
             [
              0.8888888888888888,
              "#fdca26"
             ],
             [
              1,
              "#f0f921"
             ]
            ],
            "type": "contour"
           }
          ],
          "contourcarpet": [
           {
            "colorbar": {
             "outlinewidth": 0,
             "ticks": ""
            },
            "type": "contourcarpet"
           }
          ],
          "heatmap": [
           {
            "colorbar": {
             "outlinewidth": 0,
             "ticks": ""
            },
            "colorscale": [
             [
              0,
              "#0d0887"
             ],
             [
              0.1111111111111111,
              "#46039f"
             ],
             [
              0.2222222222222222,
              "#7201a8"
             ],
             [
              0.3333333333333333,
              "#9c179e"
             ],
             [
              0.4444444444444444,
              "#bd3786"
             ],
             [
              0.5555555555555556,
              "#d8576b"
             ],
             [
              0.6666666666666666,
              "#ed7953"
             ],
             [
              0.7777777777777778,
              "#fb9f3a"
             ],
             [
              0.8888888888888888,
              "#fdca26"
             ],
             [
              1,
              "#f0f921"
             ]
            ],
            "type": "heatmap"
           }
          ],
          "heatmapgl": [
           {
            "colorbar": {
             "outlinewidth": 0,
             "ticks": ""
            },
            "colorscale": [
             [
              0,
              "#0d0887"
             ],
             [
              0.1111111111111111,
              "#46039f"
             ],
             [
              0.2222222222222222,
              "#7201a8"
             ],
             [
              0.3333333333333333,
              "#9c179e"
             ],
             [
              0.4444444444444444,
              "#bd3786"
             ],
             [
              0.5555555555555556,
              "#d8576b"
             ],
             [
              0.6666666666666666,
              "#ed7953"
             ],
             [
              0.7777777777777778,
              "#fb9f3a"
             ],
             [
              0.8888888888888888,
              "#fdca26"
             ],
             [
              1,
              "#f0f921"
             ]
            ],
            "type": "heatmapgl"
           }
          ],
          "histogram": [
           {
            "marker": {
             "pattern": {
              "fillmode": "overlay",
              "size": 10,
              "solidity": 0.2
             }
            },
            "type": "histogram"
           }
          ],
          "histogram2d": [
           {
            "colorbar": {
             "outlinewidth": 0,
             "ticks": ""
            },
            "colorscale": [
             [
              0,
              "#0d0887"
             ],
             [
              0.1111111111111111,
              "#46039f"
             ],
             [
              0.2222222222222222,
              "#7201a8"
             ],
             [
              0.3333333333333333,
              "#9c179e"
             ],
             [
              0.4444444444444444,
              "#bd3786"
             ],
             [
              0.5555555555555556,
              "#d8576b"
             ],
             [
              0.6666666666666666,
              "#ed7953"
             ],
             [
              0.7777777777777778,
              "#fb9f3a"
             ],
             [
              0.8888888888888888,
              "#fdca26"
             ],
             [
              1,
              "#f0f921"
             ]
            ],
            "type": "histogram2d"
           }
          ],
          "histogram2dcontour": [
           {
            "colorbar": {
             "outlinewidth": 0,
             "ticks": ""
            },
            "colorscale": [
             [
              0,
              "#0d0887"
             ],
             [
              0.1111111111111111,
              "#46039f"
             ],
             [
              0.2222222222222222,
              "#7201a8"
             ],
             [
              0.3333333333333333,
              "#9c179e"
             ],
             [
              0.4444444444444444,
              "#bd3786"
             ],
             [
              0.5555555555555556,
              "#d8576b"
             ],
             [
              0.6666666666666666,
              "#ed7953"
             ],
             [
              0.7777777777777778,
              "#fb9f3a"
             ],
             [
              0.8888888888888888,
              "#fdca26"
             ],
             [
              1,
              "#f0f921"
             ]
            ],
            "type": "histogram2dcontour"
           }
          ],
          "mesh3d": [
           {
            "colorbar": {
             "outlinewidth": 0,
             "ticks": ""
            },
            "type": "mesh3d"
           }
          ],
          "parcoords": [
           {
            "line": {
             "colorbar": {
              "outlinewidth": 0,
              "ticks": ""
             }
            },
            "type": "parcoords"
           }
          ],
          "pie": [
           {
            "automargin": true,
            "type": "pie"
           }
          ],
          "scatter": [
           {
            "fillpattern": {
             "fillmode": "overlay",
             "size": 10,
             "solidity": 0.2
            },
            "type": "scatter"
           }
          ],
          "scatter3d": [
           {
            "line": {
             "colorbar": {
              "outlinewidth": 0,
              "ticks": ""
             }
            },
            "marker": {
             "colorbar": {
              "outlinewidth": 0,
              "ticks": ""
             }
            },
            "type": "scatter3d"
           }
          ],
          "scattercarpet": [
           {
            "marker": {
             "colorbar": {
              "outlinewidth": 0,
              "ticks": ""
             }
            },
            "type": "scattercarpet"
           }
          ],
          "scattergeo": [
           {
            "marker": {
             "colorbar": {
              "outlinewidth": 0,
              "ticks": ""
             }
            },
            "type": "scattergeo"
           }
          ],
          "scattergl": [
           {
            "marker": {
             "colorbar": {
              "outlinewidth": 0,
              "ticks": ""
             }
            },
            "type": "scattergl"
           }
          ],
          "scattermapbox": [
           {
            "marker": {
             "colorbar": {
              "outlinewidth": 0,
              "ticks": ""
             }
            },
            "type": "scattermapbox"
           }
          ],
          "scatterpolar": [
           {
            "marker": {
             "colorbar": {
              "outlinewidth": 0,
              "ticks": ""
             }
            },
            "type": "scatterpolar"
           }
          ],
          "scatterpolargl": [
           {
            "marker": {
             "colorbar": {
              "outlinewidth": 0,
              "ticks": ""
             }
            },
            "type": "scatterpolargl"
           }
          ],
          "scatterternary": [
           {
            "marker": {
             "colorbar": {
              "outlinewidth": 0,
              "ticks": ""
             }
            },
            "type": "scatterternary"
           }
          ],
          "surface": [
           {
            "colorbar": {
             "outlinewidth": 0,
             "ticks": ""
            },
            "colorscale": [
             [
              0,
              "#0d0887"
             ],
             [
              0.1111111111111111,
              "#46039f"
             ],
             [
              0.2222222222222222,
              "#7201a8"
             ],
             [
              0.3333333333333333,
              "#9c179e"
             ],
             [
              0.4444444444444444,
              "#bd3786"
             ],
             [
              0.5555555555555556,
              "#d8576b"
             ],
             [
              0.6666666666666666,
              "#ed7953"
             ],
             [
              0.7777777777777778,
              "#fb9f3a"
             ],
             [
              0.8888888888888888,
              "#fdca26"
             ],
             [
              1,
              "#f0f921"
             ]
            ],
            "type": "surface"
           }
          ],
          "table": [
           {
            "cells": {
             "fill": {
              "color": "#EBF0F8"
             },
             "line": {
              "color": "white"
             }
            },
            "header": {
             "fill": {
              "color": "#C8D4E3"
             },
             "line": {
              "color": "white"
             }
            },
            "type": "table"
           }
          ]
         },
         "layout": {
          "annotationdefaults": {
           "arrowcolor": "#2a3f5f",
           "arrowhead": 0,
           "arrowwidth": 1
          },
          "autotypenumbers": "strict",
          "coloraxis": {
           "colorbar": {
            "outlinewidth": 0,
            "ticks": ""
           }
          },
          "colorscale": {
           "diverging": [
            [
             0,
             "#8e0152"
            ],
            [
             0.1,
             "#c51b7d"
            ],
            [
             0.2,
             "#de77ae"
            ],
            [
             0.3,
             "#f1b6da"
            ],
            [
             0.4,
             "#fde0ef"
            ],
            [
             0.5,
             "#f7f7f7"
            ],
            [
             0.6,
             "#e6f5d0"
            ],
            [
             0.7,
             "#b8e186"
            ],
            [
             0.8,
             "#7fbc41"
            ],
            [
             0.9,
             "#4d9221"
            ],
            [
             1,
             "#276419"
            ]
           ],
           "sequential": [
            [
             0,
             "#0d0887"
            ],
            [
             0.1111111111111111,
             "#46039f"
            ],
            [
             0.2222222222222222,
             "#7201a8"
            ],
            [
             0.3333333333333333,
             "#9c179e"
            ],
            [
             0.4444444444444444,
             "#bd3786"
            ],
            [
             0.5555555555555556,
             "#d8576b"
            ],
            [
             0.6666666666666666,
             "#ed7953"
            ],
            [
             0.7777777777777778,
             "#fb9f3a"
            ],
            [
             0.8888888888888888,
             "#fdca26"
            ],
            [
             1,
             "#f0f921"
            ]
           ],
           "sequentialminus": [
            [
             0,
             "#0d0887"
            ],
            [
             0.1111111111111111,
             "#46039f"
            ],
            [
             0.2222222222222222,
             "#7201a8"
            ],
            [
             0.3333333333333333,
             "#9c179e"
            ],
            [
             0.4444444444444444,
             "#bd3786"
            ],
            [
             0.5555555555555556,
             "#d8576b"
            ],
            [
             0.6666666666666666,
             "#ed7953"
            ],
            [
             0.7777777777777778,
             "#fb9f3a"
            ],
            [
             0.8888888888888888,
             "#fdca26"
            ],
            [
             1,
             "#f0f921"
            ]
           ]
          },
          "colorway": [
           "#636efa",
           "#EF553B",
           "#00cc96",
           "#ab63fa",
           "#FFA15A",
           "#19d3f3",
           "#FF6692",
           "#B6E880",
           "#FF97FF",
           "#FECB52"
          ],
          "font": {
           "color": "#2a3f5f"
          },
          "geo": {
           "bgcolor": "white",
           "lakecolor": "white",
           "landcolor": "#E5ECF6",
           "showlakes": true,
           "showland": true,
           "subunitcolor": "white"
          },
          "hoverlabel": {
           "align": "left"
          },
          "hovermode": "closest",
          "mapbox": {
           "style": "light"
          },
          "paper_bgcolor": "white",
          "plot_bgcolor": "#E5ECF6",
          "polar": {
           "angularaxis": {
            "gridcolor": "white",
            "linecolor": "white",
            "ticks": ""
           },
           "bgcolor": "#E5ECF6",
           "radialaxis": {
            "gridcolor": "white",
            "linecolor": "white",
            "ticks": ""
           }
          },
          "scene": {
           "xaxis": {
            "backgroundcolor": "#E5ECF6",
            "gridcolor": "white",
            "gridwidth": 2,
            "linecolor": "white",
            "showbackground": true,
            "ticks": "",
            "zerolinecolor": "white"
           },
           "yaxis": {
            "backgroundcolor": "#E5ECF6",
            "gridcolor": "white",
            "gridwidth": 2,
            "linecolor": "white",
            "showbackground": true,
            "ticks": "",
            "zerolinecolor": "white"
           },
           "zaxis": {
            "backgroundcolor": "#E5ECF6",
            "gridcolor": "white",
            "gridwidth": 2,
            "linecolor": "white",
            "showbackground": true,
            "ticks": "",
            "zerolinecolor": "white"
           }
          },
          "shapedefaults": {
           "line": {
            "color": "#2a3f5f"
           }
          },
          "ternary": {
           "aaxis": {
            "gridcolor": "white",
            "linecolor": "white",
            "ticks": ""
           },
           "baxis": {
            "gridcolor": "white",
            "linecolor": "white",
            "ticks": ""
           },
           "bgcolor": "#E5ECF6",
           "caxis": {
            "gridcolor": "white",
            "linecolor": "white",
            "ticks": ""
           }
          },
          "title": {
           "x": 0.05
          },
          "xaxis": {
           "automargin": true,
           "gridcolor": "white",
           "linecolor": "white",
           "ticks": "",
           "title": {
            "standoff": 15
           },
           "zerolinecolor": "white",
           "zerolinewidth": 2
          },
          "yaxis": {
           "automargin": true,
           "gridcolor": "white",
           "linecolor": "white",
           "ticks": "",
           "title": {
            "standoff": 15
           },
           "zerolinecolor": "white",
           "zerolinewidth": 2
          }
         }
        },
        "title": {
         "text": "Yearly Revenue"
        },
        "width": 1000,
        "xaxis": {
         "anchor": "y",
         "domain": [
          0,
          1
         ],
         "tickangle": 0,
         "title": {
          "text": "Year"
         }
        },
        "yaxis": {
         "anchor": "x",
         "domain": [
          0,
          1
         ],
         "title": {
          "text": "Total"
         }
        }
       }
      }
     },
     "metadata": {},
     "output_type": "display_data"
    }
   ],
   "source": [
    "# calculate the total revenue for 2025\n",
    "total_revenue_2025 = forecast_df['mean'].loc['2025-01-01':'2025-12-01'].sum()\n",
    "print('Total revenue for 2025:', total_revenue_2025)\n",
    "\n",
    "# calculate the total revenue for 2026\n",
    "total_revenue_2026 = forecast_df['mean'].loc['2026-01-01':'2026-12-01'].sum()\n",
    "print('Total revenue for 2026:', total_revenue_2026)\n",
    "\n",
    "# bar chart with yearly revenue\n",
    "yearly_revenue = monthly_performance.resample('YE').sum()\n",
    "# add total revenue for 2025 and 2026\n",
    "yearly_revenue.loc['2025'] = total_revenue_2025\n",
    "yearly_revenue.loc['2026'] = total_revenue_2026\n",
    "\n",
    "yearly_revenue.index = pd.to_datetime(yearly_revenue.index)\n",
    "yearly_revenue['year'] = yearly_revenue.index.year\n",
    "\n",
    "# Define colors\n",
    "yearly_revenue['year'] = yearly_revenue.index.year\n",
    "yearly_revenue['colors'] = ['blue' if year < 2025 else '#ffcc80' for year in yearly_revenue.index.year]\n",
    "\n",
    "# Plotly bar plot\n",
    "fig = px.bar(\n",
    "    yearly_revenue,\n",
    "    x='year',\n",
    "    y='revenue',\n",
    "    color='colors',\n",
    "    title='Yearly Revenue',\n",
    "    labels={'revenue': 'Total', 'year': 'Year'},  # Tooltip label customization\n",
    "    hover_data={'year': True, 'revenue': True, 'colors': False}  # Hide 'colors' in tooltip\n",
    ")\n",
    "\n",
    "# Customize layout\n",
    "fig.update_layout(\n",
    "    xaxis=dict(tickangle=0),\n",
    "    yaxis_title='Total',\n",
    "    xaxis_title='Year',\n",
    "    showlegend=False,\n",
    "    height=600,\n",
    "    width=1000\n",
    ")\n",
    "\n",
    "fig.show()\n",
    "fig.write_html('yearly_revenue.html')"
   ]
  },
  {
   "cell_type": "code",
   "execution_count": 31,
   "metadata": {},
   "outputs": [
    {
     "data": {
      "text/html": [
       "<div>\n",
       "<style scoped>\n",
       "    .dataframe tbody tr th:only-of-type {\n",
       "        vertical-align: middle;\n",
       "    }\n",
       "\n",
       "    .dataframe tbody tr th {\n",
       "        vertical-align: top;\n",
       "    }\n",
       "\n",
       "    .dataframe thead th {\n",
       "        text-align: right;\n",
       "    }\n",
       "</style>\n",
       "<table border=\"1\" class=\"dataframe\">\n",
       "  <thead>\n",
       "    <tr style=\"text-align: right;\">\n",
       "      <th></th>\n",
       "      <th>quotes_sent</th>\n",
       "      <th>quotes_sold</th>\n",
       "      <th>conversion_rate</th>\n",
       "      <th>sales</th>\n",
       "      <th>efficiency</th>\n",
       "      <th>revenue</th>\n",
       "      <th>inspections</th>\n",
       "      <th>quote_rate</th>\n",
       "      <th>last_month_quotes_sent</th>\n",
       "      <th>year</th>\n",
       "      <th>colors</th>\n",
       "    </tr>\n",
       "    <tr>\n",
       "      <th>month</th>\n",
       "      <th></th>\n",
       "      <th></th>\n",
       "      <th></th>\n",
       "      <th></th>\n",
       "      <th></th>\n",
       "      <th></th>\n",
       "      <th></th>\n",
       "      <th></th>\n",
       "      <th></th>\n",
       "      <th></th>\n",
       "      <th></th>\n",
       "    </tr>\n",
       "  </thead>\n",
       "  <tbody>\n",
       "    <tr>\n",
       "      <th>2019-12-31</th>\n",
       "      <td>1.749000e+03</td>\n",
       "      <td>8.870000e+02</td>\n",
       "      <td>6.236656e+00</td>\n",
       "      <td>3.742929e+06</td>\n",
       "      <td>2.645781e+04</td>\n",
       "      <td>3.660184e+06</td>\n",
       "      <td>2.237000e+03</td>\n",
       "      <td>9.397078e+00</td>\n",
       "      <td>1.775000e+03</td>\n",
       "      <td>2019</td>\n",
       "      <td>blue</td>\n",
       "    </tr>\n",
       "    <tr>\n",
       "      <th>2020-12-31</th>\n",
       "      <td>1.209000e+03</td>\n",
       "      <td>1.802000e+03</td>\n",
       "      <td>2.140808e+01</td>\n",
       "      <td>7.314158e+06</td>\n",
       "      <td>8.793191e+04</td>\n",
       "      <td>6.736588e+06</td>\n",
       "      <td>3.948000e+03</td>\n",
       "      <td>4.205136e+00</td>\n",
       "      <td>1.254000e+03</td>\n",
       "      <td>2020</td>\n",
       "      <td>blue</td>\n",
       "    </tr>\n",
       "    <tr>\n",
       "      <th>2021-12-31</th>\n",
       "      <td>8.330000e+02</td>\n",
       "      <td>3.236000e+03</td>\n",
       "      <td>1.391636e+02</td>\n",
       "      <td>1.501107e+07</td>\n",
       "      <td>6.463777e+05</td>\n",
       "      <td>1.419963e+07</td>\n",
       "      <td>8.205000e+03</td>\n",
       "      <td>1.329946e+00</td>\n",
       "      <td>9.050000e+02</td>\n",
       "      <td>2021</td>\n",
       "      <td>blue</td>\n",
       "    </tr>\n",
       "    <tr>\n",
       "      <th>2022-12-31</th>\n",
       "      <td>7.388000e+03</td>\n",
       "      <td>3.943000e+03</td>\n",
       "      <td>8.589047e+01</td>\n",
       "      <td>1.919668e+07</td>\n",
       "      <td>4.121749e+05</td>\n",
       "      <td>1.855228e+07</td>\n",
       "      <td>9.333000e+03</td>\n",
       "      <td>9.264061e+00</td>\n",
       "      <td>6.787000e+03</td>\n",
       "      <td>2022</td>\n",
       "      <td>blue</td>\n",
       "    </tr>\n",
       "    <tr>\n",
       "      <th>2023-12-31</th>\n",
       "      <td>1.155400e+04</td>\n",
       "      <td>4.503000e+03</td>\n",
       "      <td>4.712567e+00</td>\n",
       "      <td>2.441817e+07</td>\n",
       "      <td>2.539333e+04</td>\n",
       "      <td>2.360077e+07</td>\n",
       "      <td>1.163700e+04</td>\n",
       "      <td>1.190596e+01</td>\n",
       "      <td>1.162700e+04</td>\n",
       "      <td>2023</td>\n",
       "      <td>blue</td>\n",
       "    </tr>\n",
       "    <tr>\n",
       "      <th>2024-12-31</th>\n",
       "      <td>1.273700e+04</td>\n",
       "      <td>5.089000e+03</td>\n",
       "      <td>4.848120e+00</td>\n",
       "      <td>2.996183e+07</td>\n",
       "      <td>2.865106e+04</td>\n",
       "      <td>2.808853e+07</td>\n",
       "      <td>1.294100e+04</td>\n",
       "      <td>1.178844e+01</td>\n",
       "      <td>1.266200e+04</td>\n",
       "      <td>2024</td>\n",
       "      <td>blue</td>\n",
       "    </tr>\n",
       "    <tr>\n",
       "      <th>2025-01-01</th>\n",
       "      <td>3.522120e+07</td>\n",
       "      <td>3.522120e+07</td>\n",
       "      <td>3.522120e+07</td>\n",
       "      <td>3.522120e+07</td>\n",
       "      <td>3.522120e+07</td>\n",
       "      <td>3.522120e+07</td>\n",
       "      <td>3.522120e+07</td>\n",
       "      <td>3.522120e+07</td>\n",
       "      <td>3.522120e+07</td>\n",
       "      <td>2025</td>\n",
       "      <td>#ffcc80</td>\n",
       "    </tr>\n",
       "    <tr>\n",
       "      <th>2026-01-01</th>\n",
       "      <td>4.059285e+07</td>\n",
       "      <td>4.059285e+07</td>\n",
       "      <td>4.059285e+07</td>\n",
       "      <td>4.059285e+07</td>\n",
       "      <td>4.059285e+07</td>\n",
       "      <td>4.059285e+07</td>\n",
       "      <td>4.059285e+07</td>\n",
       "      <td>4.059285e+07</td>\n",
       "      <td>4.059285e+07</td>\n",
       "      <td>2026</td>\n",
       "      <td>#ffcc80</td>\n",
       "    </tr>\n",
       "  </tbody>\n",
       "</table>\n",
       "</div>"
      ],
      "text/plain": [
       "             quotes_sent   quotes_sold  conversion_rate         sales  \\\n",
       "month                                                                   \n",
       "2019-12-31  1.749000e+03  8.870000e+02     6.236656e+00  3.742929e+06   \n",
       "2020-12-31  1.209000e+03  1.802000e+03     2.140808e+01  7.314158e+06   \n",
       "2021-12-31  8.330000e+02  3.236000e+03     1.391636e+02  1.501107e+07   \n",
       "2022-12-31  7.388000e+03  3.943000e+03     8.589047e+01  1.919668e+07   \n",
       "2023-12-31  1.155400e+04  4.503000e+03     4.712567e+00  2.441817e+07   \n",
       "2024-12-31  1.273700e+04  5.089000e+03     4.848120e+00  2.996183e+07   \n",
       "2025-01-01  3.522120e+07  3.522120e+07     3.522120e+07  3.522120e+07   \n",
       "2026-01-01  4.059285e+07  4.059285e+07     4.059285e+07  4.059285e+07   \n",
       "\n",
       "              efficiency       revenue   inspections    quote_rate  \\\n",
       "month                                                                \n",
       "2019-12-31  2.645781e+04  3.660184e+06  2.237000e+03  9.397078e+00   \n",
       "2020-12-31  8.793191e+04  6.736588e+06  3.948000e+03  4.205136e+00   \n",
       "2021-12-31  6.463777e+05  1.419963e+07  8.205000e+03  1.329946e+00   \n",
       "2022-12-31  4.121749e+05  1.855228e+07  9.333000e+03  9.264061e+00   \n",
       "2023-12-31  2.539333e+04  2.360077e+07  1.163700e+04  1.190596e+01   \n",
       "2024-12-31  2.865106e+04  2.808853e+07  1.294100e+04  1.178844e+01   \n",
       "2025-01-01  3.522120e+07  3.522120e+07  3.522120e+07  3.522120e+07   \n",
       "2026-01-01  4.059285e+07  4.059285e+07  4.059285e+07  4.059285e+07   \n",
       "\n",
       "            last_month_quotes_sent  year   colors  \n",
       "month                                              \n",
       "2019-12-31            1.775000e+03  2019     blue  \n",
       "2020-12-31            1.254000e+03  2020     blue  \n",
       "2021-12-31            9.050000e+02  2021     blue  \n",
       "2022-12-31            6.787000e+03  2022     blue  \n",
       "2023-12-31            1.162700e+04  2023     blue  \n",
       "2024-12-31            1.266200e+04  2024     blue  \n",
       "2025-01-01            3.522120e+07  2025  #ffcc80  \n",
       "2026-01-01            4.059285e+07  2026  #ffcc80  "
      ]
     },
     "execution_count": 31,
     "metadata": {},
     "output_type": "execute_result"
    }
   ],
   "source": [
    "yearly_sales"
   ]
  },
  {
   "cell_type": "code",
   "execution_count": 32,
   "metadata": {},
   "outputs": [
    {
     "data": {
      "text/html": [
       "<div>\n",
       "<style scoped>\n",
       "    .dataframe tbody tr th:only-of-type {\n",
       "        vertical-align: middle;\n",
       "    }\n",
       "\n",
       "    .dataframe tbody tr th {\n",
       "        vertical-align: top;\n",
       "    }\n",
       "\n",
       "    .dataframe thead th {\n",
       "        text-align: right;\n",
       "    }\n",
       "</style>\n",
       "<table border=\"1\" class=\"dataframe\">\n",
       "  <thead>\n",
       "    <tr style=\"text-align: right;\">\n",
       "      <th></th>\n",
       "      <th>quotes_sent</th>\n",
       "      <th>quotes_sold</th>\n",
       "      <th>conversion_rate</th>\n",
       "      <th>sales</th>\n",
       "      <th>efficiency</th>\n",
       "      <th>revenue</th>\n",
       "      <th>inspections</th>\n",
       "      <th>quote_rate</th>\n",
       "      <th>last_month_quotes_sent</th>\n",
       "      <th>year</th>\n",
       "      <th>colors</th>\n",
       "    </tr>\n",
       "    <tr>\n",
       "      <th>month</th>\n",
       "      <th></th>\n",
       "      <th></th>\n",
       "      <th></th>\n",
       "      <th></th>\n",
       "      <th></th>\n",
       "      <th></th>\n",
       "      <th></th>\n",
       "      <th></th>\n",
       "      <th></th>\n",
       "      <th></th>\n",
       "      <th></th>\n",
       "    </tr>\n",
       "  </thead>\n",
       "  <tbody>\n",
       "    <tr>\n",
       "      <th>2019-12-31</th>\n",
       "      <td>1.749000e+03</td>\n",
       "      <td>8.870000e+02</td>\n",
       "      <td>6.236656e+00</td>\n",
       "      <td>3.742929e+06</td>\n",
       "      <td>2.645781e+04</td>\n",
       "      <td>3.660184e+06</td>\n",
       "      <td>2.237000e+03</td>\n",
       "      <td>9.397078e+00</td>\n",
       "      <td>1.775000e+03</td>\n",
       "      <td>2019</td>\n",
       "      <td>blue</td>\n",
       "    </tr>\n",
       "    <tr>\n",
       "      <th>2020-12-31</th>\n",
       "      <td>1.209000e+03</td>\n",
       "      <td>1.802000e+03</td>\n",
       "      <td>2.140808e+01</td>\n",
       "      <td>7.314158e+06</td>\n",
       "      <td>8.793191e+04</td>\n",
       "      <td>6.736588e+06</td>\n",
       "      <td>3.948000e+03</td>\n",
       "      <td>4.205136e+00</td>\n",
       "      <td>1.254000e+03</td>\n",
       "      <td>2020</td>\n",
       "      <td>blue</td>\n",
       "    </tr>\n",
       "    <tr>\n",
       "      <th>2021-12-31</th>\n",
       "      <td>8.330000e+02</td>\n",
       "      <td>3.236000e+03</td>\n",
       "      <td>1.391636e+02</td>\n",
       "      <td>1.501107e+07</td>\n",
       "      <td>6.463777e+05</td>\n",
       "      <td>1.419963e+07</td>\n",
       "      <td>8.205000e+03</td>\n",
       "      <td>1.329946e+00</td>\n",
       "      <td>9.050000e+02</td>\n",
       "      <td>2021</td>\n",
       "      <td>blue</td>\n",
       "    </tr>\n",
       "    <tr>\n",
       "      <th>2022-12-31</th>\n",
       "      <td>7.388000e+03</td>\n",
       "      <td>3.943000e+03</td>\n",
       "      <td>8.589047e+01</td>\n",
       "      <td>1.919668e+07</td>\n",
       "      <td>4.121749e+05</td>\n",
       "      <td>1.855228e+07</td>\n",
       "      <td>9.333000e+03</td>\n",
       "      <td>9.264061e+00</td>\n",
       "      <td>6.787000e+03</td>\n",
       "      <td>2022</td>\n",
       "      <td>blue</td>\n",
       "    </tr>\n",
       "    <tr>\n",
       "      <th>2023-12-31</th>\n",
       "      <td>1.155400e+04</td>\n",
       "      <td>4.503000e+03</td>\n",
       "      <td>4.712567e+00</td>\n",
       "      <td>2.441817e+07</td>\n",
       "      <td>2.539333e+04</td>\n",
       "      <td>2.360077e+07</td>\n",
       "      <td>1.163700e+04</td>\n",
       "      <td>1.190596e+01</td>\n",
       "      <td>1.162700e+04</td>\n",
       "      <td>2023</td>\n",
       "      <td>blue</td>\n",
       "    </tr>\n",
       "    <tr>\n",
       "      <th>2024-12-31</th>\n",
       "      <td>1.273700e+04</td>\n",
       "      <td>5.089000e+03</td>\n",
       "      <td>4.848120e+00</td>\n",
       "      <td>2.996183e+07</td>\n",
       "      <td>2.865106e+04</td>\n",
       "      <td>2.808853e+07</td>\n",
       "      <td>1.294100e+04</td>\n",
       "      <td>1.178844e+01</td>\n",
       "      <td>1.266200e+04</td>\n",
       "      <td>2024</td>\n",
       "      <td>blue</td>\n",
       "    </tr>\n",
       "    <tr>\n",
       "      <th>2025-01-01</th>\n",
       "      <td>3.268984e+07</td>\n",
       "      <td>3.268984e+07</td>\n",
       "      <td>3.268984e+07</td>\n",
       "      <td>3.268984e+07</td>\n",
       "      <td>3.268984e+07</td>\n",
       "      <td>3.268984e+07</td>\n",
       "      <td>3.268984e+07</td>\n",
       "      <td>3.268984e+07</td>\n",
       "      <td>3.268984e+07</td>\n",
       "      <td>2025</td>\n",
       "      <td>#ffcc80</td>\n",
       "    </tr>\n",
       "    <tr>\n",
       "      <th>2026-01-01</th>\n",
       "      <td>3.734219e+07</td>\n",
       "      <td>3.734219e+07</td>\n",
       "      <td>3.734219e+07</td>\n",
       "      <td>3.734219e+07</td>\n",
       "      <td>3.734219e+07</td>\n",
       "      <td>3.734219e+07</td>\n",
       "      <td>3.734219e+07</td>\n",
       "      <td>3.734219e+07</td>\n",
       "      <td>3.734219e+07</td>\n",
       "      <td>2026</td>\n",
       "      <td>#ffcc80</td>\n",
       "    </tr>\n",
       "  </tbody>\n",
       "</table>\n",
       "</div>"
      ],
      "text/plain": [
       "             quotes_sent   quotes_sold  conversion_rate         sales  \\\n",
       "month                                                                   \n",
       "2019-12-31  1.749000e+03  8.870000e+02     6.236656e+00  3.742929e+06   \n",
       "2020-12-31  1.209000e+03  1.802000e+03     2.140808e+01  7.314158e+06   \n",
       "2021-12-31  8.330000e+02  3.236000e+03     1.391636e+02  1.501107e+07   \n",
       "2022-12-31  7.388000e+03  3.943000e+03     8.589047e+01  1.919668e+07   \n",
       "2023-12-31  1.155400e+04  4.503000e+03     4.712567e+00  2.441817e+07   \n",
       "2024-12-31  1.273700e+04  5.089000e+03     4.848120e+00  2.996183e+07   \n",
       "2025-01-01  3.268984e+07  3.268984e+07     3.268984e+07  3.268984e+07   \n",
       "2026-01-01  3.734219e+07  3.734219e+07     3.734219e+07  3.734219e+07   \n",
       "\n",
       "              efficiency       revenue   inspections    quote_rate  \\\n",
       "month                                                                \n",
       "2019-12-31  2.645781e+04  3.660184e+06  2.237000e+03  9.397078e+00   \n",
       "2020-12-31  8.793191e+04  6.736588e+06  3.948000e+03  4.205136e+00   \n",
       "2021-12-31  6.463777e+05  1.419963e+07  8.205000e+03  1.329946e+00   \n",
       "2022-12-31  4.121749e+05  1.855228e+07  9.333000e+03  9.264061e+00   \n",
       "2023-12-31  2.539333e+04  2.360077e+07  1.163700e+04  1.190596e+01   \n",
       "2024-12-31  2.865106e+04  2.808853e+07  1.294100e+04  1.178844e+01   \n",
       "2025-01-01  3.268984e+07  3.268984e+07  3.268984e+07  3.268984e+07   \n",
       "2026-01-01  3.734219e+07  3.734219e+07  3.734219e+07  3.734219e+07   \n",
       "\n",
       "            last_month_quotes_sent  year   colors  \n",
       "month                                              \n",
       "2019-12-31            1.775000e+03  2019     blue  \n",
       "2020-12-31            1.254000e+03  2020     blue  \n",
       "2021-12-31            9.050000e+02  2021     blue  \n",
       "2022-12-31            6.787000e+03  2022     blue  \n",
       "2023-12-31            1.162700e+04  2023     blue  \n",
       "2024-12-31            1.266200e+04  2024     blue  \n",
       "2025-01-01            3.268984e+07  2025  #ffcc80  \n",
       "2026-01-01            3.734219e+07  2026  #ffcc80  "
      ]
     },
     "execution_count": 32,
     "metadata": {},
     "output_type": "execute_result"
    }
   ],
   "source": [
    "yearly_revenue"
   ]
  },
  {
   "cell_type": "code",
   "execution_count": 33,
   "metadata": {},
   "outputs": [
    {
     "data": {
      "text/html": [
       "<div>\n",
       "<style scoped>\n",
       "    .dataframe tbody tr th:only-of-type {\n",
       "        vertical-align: middle;\n",
       "    }\n",
       "\n",
       "    .dataframe tbody tr th {\n",
       "        vertical-align: top;\n",
       "    }\n",
       "\n",
       "    .dataframe thead th {\n",
       "        text-align: right;\n",
       "    }\n",
       "</style>\n",
       "<table border=\"1\" class=\"dataframe\">\n",
       "  <thead>\n",
       "    <tr style=\"text-align: right;\">\n",
       "      <th></th>\n",
       "      <th>quotes_sent</th>\n",
       "      <th>quotes_sold</th>\n",
       "      <th>conversion_rate</th>\n",
       "      <th>sales</th>\n",
       "      <th>efficiency</th>\n",
       "      <th>revenue</th>\n",
       "      <th>inspections</th>\n",
       "      <th>quote_rate</th>\n",
       "      <th>last_month_quotes_sent</th>\n",
       "      <th>year</th>\n",
       "      <th>colors</th>\n",
       "    </tr>\n",
       "    <tr>\n",
       "      <th>month</th>\n",
       "      <th></th>\n",
       "      <th></th>\n",
       "      <th></th>\n",
       "      <th></th>\n",
       "      <th></th>\n",
       "      <th></th>\n",
       "      <th></th>\n",
       "      <th></th>\n",
       "      <th></th>\n",
       "      <th></th>\n",
       "      <th></th>\n",
       "    </tr>\n",
       "  </thead>\n",
       "  <tbody>\n",
       "    <tr>\n",
       "      <th>2019-12-31</th>\n",
       "      <td>1749.000000</td>\n",
       "      <td>887.000000</td>\n",
       "      <td>6.236656</td>\n",
       "      <td>3.742929e+06</td>\n",
       "      <td>26457.813036</td>\n",
       "      <td>3.660184e+06</td>\n",
       "      <td>2237.000000</td>\n",
       "      <td>9.397078</td>\n",
       "      <td>1775.000000</td>\n",
       "      <td>2019</td>\n",
       "      <td>blue</td>\n",
       "    </tr>\n",
       "    <tr>\n",
       "      <th>2020-12-31</th>\n",
       "      <td>1209.000000</td>\n",
       "      <td>1802.000000</td>\n",
       "      <td>21.408075</td>\n",
       "      <td>7.314158e+06</td>\n",
       "      <td>87931.914178</td>\n",
       "      <td>6.736588e+06</td>\n",
       "      <td>3948.000000</td>\n",
       "      <td>4.205136</td>\n",
       "      <td>1254.000000</td>\n",
       "      <td>2020</td>\n",
       "      <td>blue</td>\n",
       "    </tr>\n",
       "    <tr>\n",
       "      <th>2021-12-31</th>\n",
       "      <td>833.000000</td>\n",
       "      <td>3236.000000</td>\n",
       "      <td>139.163554</td>\n",
       "      <td>1.501107e+07</td>\n",
       "      <td>646377.728616</td>\n",
       "      <td>1.419963e+07</td>\n",
       "      <td>8205.000000</td>\n",
       "      <td>1.329946</td>\n",
       "      <td>905.000000</td>\n",
       "      <td>2021</td>\n",
       "      <td>blue</td>\n",
       "    </tr>\n",
       "    <tr>\n",
       "      <th>2022-12-31</th>\n",
       "      <td>7388.000000</td>\n",
       "      <td>3943.000000</td>\n",
       "      <td>85.890465</td>\n",
       "      <td>1.919668e+07</td>\n",
       "      <td>412174.859859</td>\n",
       "      <td>1.855228e+07</td>\n",
       "      <td>9333.000000</td>\n",
       "      <td>9.264061</td>\n",
       "      <td>6787.000000</td>\n",
       "      <td>2022</td>\n",
       "      <td>blue</td>\n",
       "    </tr>\n",
       "    <tr>\n",
       "      <th>2023-12-31</th>\n",
       "      <td>11554.000000</td>\n",
       "      <td>4503.000000</td>\n",
       "      <td>4.712567</td>\n",
       "      <td>2.441817e+07</td>\n",
       "      <td>25393.332201</td>\n",
       "      <td>2.360077e+07</td>\n",
       "      <td>11637.000000</td>\n",
       "      <td>11.905958</td>\n",
       "      <td>11627.000000</td>\n",
       "      <td>2023</td>\n",
       "      <td>blue</td>\n",
       "    </tr>\n",
       "    <tr>\n",
       "      <th>2024-12-31</th>\n",
       "      <td>12737.000000</td>\n",
       "      <td>5089.000000</td>\n",
       "      <td>4.848120</td>\n",
       "      <td>2.996183e+07</td>\n",
       "      <td>28651.060372</td>\n",
       "      <td>2.808853e+07</td>\n",
       "      <td>12941.000000</td>\n",
       "      <td>11.788444</td>\n",
       "      <td>12662.000000</td>\n",
       "      <td>2024</td>\n",
       "      <td>blue</td>\n",
       "    </tr>\n",
       "    <tr>\n",
       "      <th>2025-01-01</th>\n",
       "      <td>14826.121835</td>\n",
       "      <td>14826.121835</td>\n",
       "      <td>14826.121835</td>\n",
       "      <td>1.482612e+04</td>\n",
       "      <td>14826.121835</td>\n",
       "      <td>1.482612e+04</td>\n",
       "      <td>14826.121835</td>\n",
       "      <td>14826.121835</td>\n",
       "      <td>14826.121835</td>\n",
       "      <td>2025</td>\n",
       "      <td>#ffcc80</td>\n",
       "    </tr>\n",
       "    <tr>\n",
       "      <th>2026-01-01</th>\n",
       "      <td>16853.124796</td>\n",
       "      <td>16853.124796</td>\n",
       "      <td>16853.124796</td>\n",
       "      <td>1.685312e+04</td>\n",
       "      <td>16853.124796</td>\n",
       "      <td>1.685312e+04</td>\n",
       "      <td>16853.124796</td>\n",
       "      <td>16853.124796</td>\n",
       "      <td>16853.124796</td>\n",
       "      <td>2026</td>\n",
       "      <td>#ffcc80</td>\n",
       "    </tr>\n",
       "  </tbody>\n",
       "</table>\n",
       "</div>"
      ],
      "text/plain": [
       "             quotes_sent   quotes_sold  conversion_rate         sales  \\\n",
       "month                                                                   \n",
       "2019-12-31   1749.000000    887.000000         6.236656  3.742929e+06   \n",
       "2020-12-31   1209.000000   1802.000000        21.408075  7.314158e+06   \n",
       "2021-12-31    833.000000   3236.000000       139.163554  1.501107e+07   \n",
       "2022-12-31   7388.000000   3943.000000        85.890465  1.919668e+07   \n",
       "2023-12-31  11554.000000   4503.000000         4.712567  2.441817e+07   \n",
       "2024-12-31  12737.000000   5089.000000         4.848120  2.996183e+07   \n",
       "2025-01-01  14826.121835  14826.121835     14826.121835  1.482612e+04   \n",
       "2026-01-01  16853.124796  16853.124796     16853.124796  1.685312e+04   \n",
       "\n",
       "               efficiency       revenue   inspections    quote_rate  \\\n",
       "month                                                                 \n",
       "2019-12-31   26457.813036  3.660184e+06   2237.000000      9.397078   \n",
       "2020-12-31   87931.914178  6.736588e+06   3948.000000      4.205136   \n",
       "2021-12-31  646377.728616  1.419963e+07   8205.000000      1.329946   \n",
       "2022-12-31  412174.859859  1.855228e+07   9333.000000      9.264061   \n",
       "2023-12-31   25393.332201  2.360077e+07  11637.000000     11.905958   \n",
       "2024-12-31   28651.060372  2.808853e+07  12941.000000     11.788444   \n",
       "2025-01-01   14826.121835  1.482612e+04  14826.121835  14826.121835   \n",
       "2026-01-01   16853.124796  1.685312e+04  16853.124796  16853.124796   \n",
       "\n",
       "            last_month_quotes_sent  year   colors  \n",
       "month                                              \n",
       "2019-12-31             1775.000000  2019     blue  \n",
       "2020-12-31             1254.000000  2020     blue  \n",
       "2021-12-31              905.000000  2021     blue  \n",
       "2022-12-31             6787.000000  2022     blue  \n",
       "2023-12-31            11627.000000  2023     blue  \n",
       "2024-12-31            12662.000000  2024     blue  \n",
       "2025-01-01            14826.121835  2025  #ffcc80  \n",
       "2026-01-01            16853.124796  2026  #ffcc80  "
      ]
     },
     "execution_count": 33,
     "metadata": {},
     "output_type": "execute_result"
    }
   ],
   "source": [
    "yearly_inspections"
   ]
  },
  {
   "cell_type": "code",
   "execution_count": 34,
   "metadata": {},
   "outputs": [
    {
     "data": {
      "text/html": [
       "<div>\n",
       "<style scoped>\n",
       "    .dataframe tbody tr th:only-of-type {\n",
       "        vertical-align: middle;\n",
       "    }\n",
       "\n",
       "    .dataframe tbody tr th {\n",
       "        vertical-align: top;\n",
       "    }\n",
       "\n",
       "    .dataframe thead th {\n",
       "        text-align: right;\n",
       "    }\n",
       "</style>\n",
       "<table border=\"1\" class=\"dataframe\">\n",
       "  <thead>\n",
       "    <tr style=\"text-align: right;\">\n",
       "      <th></th>\n",
       "      <th>quotes_sent</th>\n",
       "      <th>quotes_sold</th>\n",
       "      <th>conversion_rate</th>\n",
       "      <th>sales</th>\n",
       "      <th>efficiency</th>\n",
       "      <th>revenue</th>\n",
       "      <th>inspections</th>\n",
       "      <th>quote_rate</th>\n",
       "      <th>last_month_quotes_sent</th>\n",
       "    </tr>\n",
       "    <tr>\n",
       "      <th>month</th>\n",
       "      <th></th>\n",
       "      <th></th>\n",
       "      <th></th>\n",
       "      <th></th>\n",
       "      <th></th>\n",
       "      <th></th>\n",
       "      <th></th>\n",
       "      <th></th>\n",
       "      <th></th>\n",
       "    </tr>\n",
       "  </thead>\n",
       "  <tbody>\n",
       "    <tr>\n",
       "      <th>2019-01-01</th>\n",
       "      <td>137</td>\n",
       "      <td>79.0</td>\n",
       "      <td>0.576642</td>\n",
       "      <td>310320.10</td>\n",
       "      <td>2265.110219</td>\n",
       "      <td>299900.81</td>\n",
       "      <td>180.0</td>\n",
       "      <td>0.761111</td>\n",
       "      <td>146.0</td>\n",
       "    </tr>\n",
       "    <tr>\n",
       "      <th>2019-02-01</th>\n",
       "      <td>152</td>\n",
       "      <td>67.0</td>\n",
       "      <td>0.440789</td>\n",
       "      <td>259325.00</td>\n",
       "      <td>1706.085526</td>\n",
       "      <td>271567.81</td>\n",
       "      <td>185.0</td>\n",
       "      <td>0.821622</td>\n",
       "      <td>137.0</td>\n",
       "    </tr>\n",
       "    <tr>\n",
       "      <th>2019-03-01</th>\n",
       "      <td>151</td>\n",
       "      <td>73.0</td>\n",
       "      <td>0.483444</td>\n",
       "      <td>321048.72</td>\n",
       "      <td>2126.150464</td>\n",
       "      <td>270408.39</td>\n",
       "      <td>174.0</td>\n",
       "      <td>0.867816</td>\n",
       "      <td>152.0</td>\n",
       "    </tr>\n",
       "    <tr>\n",
       "      <th>2019-04-01</th>\n",
       "      <td>146</td>\n",
       "      <td>67.0</td>\n",
       "      <td>0.458904</td>\n",
       "      <td>273658.59</td>\n",
       "      <td>1874.373904</td>\n",
       "      <td>344261.44</td>\n",
       "      <td>177.0</td>\n",
       "      <td>0.824859</td>\n",
       "      <td>151.0</td>\n",
       "    </tr>\n",
       "    <tr>\n",
       "      <th>2019-05-01</th>\n",
       "      <td>165</td>\n",
       "      <td>68.0</td>\n",
       "      <td>0.412121</td>\n",
       "      <td>272369.13</td>\n",
       "      <td>1650.722000</td>\n",
       "      <td>330279.66</td>\n",
       "      <td>190.0</td>\n",
       "      <td>0.868421</td>\n",
       "      <td>146.0</td>\n",
       "    </tr>\n",
       "    <tr>\n",
       "      <th>...</th>\n",
       "      <td>...</td>\n",
       "      <td>...</td>\n",
       "      <td>...</td>\n",
       "      <td>...</td>\n",
       "      <td>...</td>\n",
       "      <td>...</td>\n",
       "      <td>...</td>\n",
       "      <td>...</td>\n",
       "      <td>...</td>\n",
       "    </tr>\n",
       "    <tr>\n",
       "      <th>2024-08-01</th>\n",
       "      <td>1296</td>\n",
       "      <td>510.0</td>\n",
       "      <td>0.393519</td>\n",
       "      <td>3065502.44</td>\n",
       "      <td>2365.356821</td>\n",
       "      <td>2631526.28</td>\n",
       "      <td>1265.0</td>\n",
       "      <td>1.024506</td>\n",
       "      <td>1107.0</td>\n",
       "    </tr>\n",
       "    <tr>\n",
       "      <th>2024-09-01</th>\n",
       "      <td>1177</td>\n",
       "      <td>434.0</td>\n",
       "      <td>0.368734</td>\n",
       "      <td>2529838.33</td>\n",
       "      <td>2149.395353</td>\n",
       "      <td>2514816.75</td>\n",
       "      <td>1150.0</td>\n",
       "      <td>1.023478</td>\n",
       "      <td>1296.0</td>\n",
       "    </tr>\n",
       "    <tr>\n",
       "      <th>2024-10-01</th>\n",
       "      <td>1360</td>\n",
       "      <td>503.0</td>\n",
       "      <td>0.369853</td>\n",
       "      <td>3052943.12</td>\n",
       "      <td>2244.811118</td>\n",
       "      <td>2961509.44</td>\n",
       "      <td>1418.0</td>\n",
       "      <td>0.959097</td>\n",
       "      <td>1177.0</td>\n",
       "    </tr>\n",
       "    <tr>\n",
       "      <th>2024-11-01</th>\n",
       "      <td>963</td>\n",
       "      <td>424.0</td>\n",
       "      <td>0.440291</td>\n",
       "      <td>2679493.25</td>\n",
       "      <td>2782.443666</td>\n",
       "      <td>2554753.36</td>\n",
       "      <td>1002.0</td>\n",
       "      <td>0.961078</td>\n",
       "      <td>1360.0</td>\n",
       "    </tr>\n",
       "    <tr>\n",
       "      <th>2024-12-01</th>\n",
       "      <td>606</td>\n",
       "      <td>284.0</td>\n",
       "      <td>0.468647</td>\n",
       "      <td>1882557.16</td>\n",
       "      <td>3106.529967</td>\n",
       "      <td>1894702.97</td>\n",
       "      <td>656.0</td>\n",
       "      <td>0.923780</td>\n",
       "      <td>963.0</td>\n",
       "    </tr>\n",
       "  </tbody>\n",
       "</table>\n",
       "<p>72 rows × 9 columns</p>\n",
       "</div>"
      ],
      "text/plain": [
       "            quotes_sent  quotes_sold  conversion_rate       sales  \\\n",
       "month                                                               \n",
       "2019-01-01          137         79.0         0.576642   310320.10   \n",
       "2019-02-01          152         67.0         0.440789   259325.00   \n",
       "2019-03-01          151         73.0         0.483444   321048.72   \n",
       "2019-04-01          146         67.0         0.458904   273658.59   \n",
       "2019-05-01          165         68.0         0.412121   272369.13   \n",
       "...                 ...          ...              ...         ...   \n",
       "2024-08-01         1296        510.0         0.393519  3065502.44   \n",
       "2024-09-01         1177        434.0         0.368734  2529838.33   \n",
       "2024-10-01         1360        503.0         0.369853  3052943.12   \n",
       "2024-11-01          963        424.0         0.440291  2679493.25   \n",
       "2024-12-01          606        284.0         0.468647  1882557.16   \n",
       "\n",
       "             efficiency     revenue  inspections  quote_rate  \\\n",
       "month                                                          \n",
       "2019-01-01  2265.110219   299900.81        180.0    0.761111   \n",
       "2019-02-01  1706.085526   271567.81        185.0    0.821622   \n",
       "2019-03-01  2126.150464   270408.39        174.0    0.867816   \n",
       "2019-04-01  1874.373904   344261.44        177.0    0.824859   \n",
       "2019-05-01  1650.722000   330279.66        190.0    0.868421   \n",
       "...                 ...         ...          ...         ...   \n",
       "2024-08-01  2365.356821  2631526.28       1265.0    1.024506   \n",
       "2024-09-01  2149.395353  2514816.75       1150.0    1.023478   \n",
       "2024-10-01  2244.811118  2961509.44       1418.0    0.959097   \n",
       "2024-11-01  2782.443666  2554753.36       1002.0    0.961078   \n",
       "2024-12-01  3106.529967  1894702.97        656.0    0.923780   \n",
       "\n",
       "            last_month_quotes_sent  \n",
       "month                               \n",
       "2019-01-01                   146.0  \n",
       "2019-02-01                   137.0  \n",
       "2019-03-01                   152.0  \n",
       "2019-04-01                   151.0  \n",
       "2019-05-01                   146.0  \n",
       "...                            ...  \n",
       "2024-08-01                  1107.0  \n",
       "2024-09-01                  1296.0  \n",
       "2024-10-01                  1177.0  \n",
       "2024-11-01                  1360.0  \n",
       "2024-12-01                   963.0  \n",
       "\n",
       "[72 rows x 9 columns]"
      ]
     },
     "execution_count": 34,
     "metadata": {},
     "output_type": "execute_result"
    }
   ],
   "source": [
    "monthly_performance"
   ]
  },
  {
   "cell_type": "code",
   "execution_count": 35,
   "metadata": {},
   "outputs": [],
   "source": [
    "monthly_revenue = monthly_performance['revenue']"
   ]
  },
  {
   "cell_type": "code",
   "execution_count": 36,
   "metadata": {},
   "outputs": [
    {
     "name": "stderr",
     "output_type": "stream",
     "text": [
      "/var/folders/pp/dqmbfdr53hn607y3m8cg2gp00000gp/T/ipykernel_38153/547873638.py:1: FutureWarning:\n",
      "\n",
      "'Q' is deprecated and will be removed in a future version, please use 'QE' instead.\n",
      "\n"
     ]
    },
    {
     "data": {
      "text/plain": [
       "month\n",
       "2019-03-31     841877.01\n",
       "2019-06-30     926727.48\n",
       "2019-09-30     995633.57\n",
       "2019-12-31     895945.87\n",
       "2020-03-31    1092887.38\n",
       "2020-06-30    1252180.77\n",
       "2020-09-30    1979107.98\n",
       "2020-12-31    2412411.92\n",
       "2021-03-31    2637605.06\n",
       "2021-06-30    3218514.96\n",
       "2021-09-30    4146131.28\n",
       "2021-12-31    4197377.18\n",
       "2022-03-31    4180208.57\n",
       "2022-06-30    4466621.79\n",
       "2022-09-30    5152007.23\n",
       "2022-12-31    4753441.89\n",
       "2023-03-31    5240930.90\n",
       "2023-06-30    5815991.24\n",
       "2023-09-30    6541235.71\n",
       "2023-12-31    6002614.98\n",
       "2024-03-31    5838646.65\n",
       "2024-06-30    7283139.57\n",
       "2024-09-30    7555780.20\n",
       "2024-12-31    7410965.77\n",
       "Freq: QE-DEC, Name: revenue, dtype: float64"
      ]
     },
     "execution_count": 36,
     "metadata": {},
     "output_type": "execute_result"
    }
   ],
   "source": [
    "quarterly_revenue = monthly_revenue.resample('Q').sum()\n",
    "quarterly_revenue"
   ]
  },
  {
   "cell_type": "code",
   "execution_count": 44,
   "metadata": {},
   "outputs": [
    {
     "data": {
      "text/plain": [
       "month\n",
       "2019-12-31    3.660184e+06\n",
       "2020-12-31    6.736588e+06\n",
       "2021-12-31    1.419963e+07\n",
       "2022-12-31    1.855228e+07\n",
       "2023-12-31    2.360077e+07\n",
       "2024-12-31    2.808853e+07\n",
       "2025-01-01    3.268984e+07\n",
       "2026-01-01    3.734219e+07\n",
       "Name: revenue, dtype: float64"
      ]
     },
     "execution_count": 44,
     "metadata": {},
     "output_type": "execute_result"
    }
   ],
   "source": [
    "revyear = yearly_revenue['revenue']\n",
    "revyear"
   ]
  },
  {
   "cell_type": "code",
   "execution_count": 45,
   "metadata": {},
   "outputs": [
    {
     "data": {
      "text/plain": [
       "month\n",
       "2019-12-31         NaN\n",
       "2020-12-31    0.840505\n",
       "2021-12-31    1.107837\n",
       "2022-12-31    0.306533\n",
       "2023-12-31    0.272123\n",
       "2024-12-31    0.190153\n",
       "2025-01-01    0.163814\n",
       "2026-01-01    0.142318\n",
       "Name: revenue, dtype: float64"
      ]
     },
     "execution_count": 45,
     "metadata": {},
     "output_type": "execute_result"
    }
   ],
   "source": [
    "# calculate percent revenue growth per year in revyear\n",
    "revyearpct = revyear.pct_change()\n",
    "revyearpct"
   ]
  },
  {
   "cell_type": "code",
   "execution_count": 47,
   "metadata": {},
   "outputs": [
    {
     "name": "stdout",
     "output_type": "stream",
     "text": [
      "month\n",
      "2019-12-31    3.742929e+06\n",
      "2020-12-31    7.314158e+06\n",
      "2021-12-31    1.501107e+07\n",
      "2022-12-31    1.919668e+07\n",
      "2023-12-31    2.441817e+07\n",
      "2024-12-31    2.996183e+07\n",
      "2025-01-01    3.522120e+07\n",
      "2026-01-01    4.059285e+07\n",
      "Name: sales, dtype: float64\n"
     ]
    }
   ],
   "source": [
    "print(yearly_sales['sales'])"
   ]
  },
  {
   "cell_type": "code",
   "execution_count": 48,
   "metadata": {},
   "outputs": [
    {
     "data": {
      "text/html": [
       "<div>\n",
       "<style scoped>\n",
       "    .dataframe tbody tr th:only-of-type {\n",
       "        vertical-align: middle;\n",
       "    }\n",
       "\n",
       "    .dataframe tbody tr th {\n",
       "        vertical-align: top;\n",
       "    }\n",
       "\n",
       "    .dataframe thead th {\n",
       "        text-align: right;\n",
       "    }\n",
       "</style>\n",
       "<table border=\"1\" class=\"dataframe\">\n",
       "  <thead>\n",
       "    <tr style=\"text-align: right;\">\n",
       "      <th></th>\n",
       "      <th>revenue</th>\n",
       "      <th>sales</th>\n",
       "      <th>inspections</th>\n",
       "    </tr>\n",
       "    <tr>\n",
       "      <th>month</th>\n",
       "      <th></th>\n",
       "      <th></th>\n",
       "      <th></th>\n",
       "    </tr>\n",
       "  </thead>\n",
       "  <tbody>\n",
       "    <tr>\n",
       "      <th>2019-12-31</th>\n",
       "      <td>3.660184e+06</td>\n",
       "      <td>3.742929e+06</td>\n",
       "      <td>2237.000000</td>\n",
       "    </tr>\n",
       "    <tr>\n",
       "      <th>2020-12-31</th>\n",
       "      <td>6.736588e+06</td>\n",
       "      <td>7.314158e+06</td>\n",
       "      <td>3948.000000</td>\n",
       "    </tr>\n",
       "    <tr>\n",
       "      <th>2021-12-31</th>\n",
       "      <td>1.419963e+07</td>\n",
       "      <td>1.501107e+07</td>\n",
       "      <td>8205.000000</td>\n",
       "    </tr>\n",
       "    <tr>\n",
       "      <th>2022-12-31</th>\n",
       "      <td>1.855228e+07</td>\n",
       "      <td>1.919668e+07</td>\n",
       "      <td>9333.000000</td>\n",
       "    </tr>\n",
       "    <tr>\n",
       "      <th>2023-12-31</th>\n",
       "      <td>2.360077e+07</td>\n",
       "      <td>2.441817e+07</td>\n",
       "      <td>11637.000000</td>\n",
       "    </tr>\n",
       "    <tr>\n",
       "      <th>2024-12-31</th>\n",
       "      <td>2.808853e+07</td>\n",
       "      <td>2.996183e+07</td>\n",
       "      <td>12941.000000</td>\n",
       "    </tr>\n",
       "    <tr>\n",
       "      <th>2025-01-01</th>\n",
       "      <td>3.268984e+07</td>\n",
       "      <td>3.522120e+07</td>\n",
       "      <td>14826.121835</td>\n",
       "    </tr>\n",
       "    <tr>\n",
       "      <th>2026-01-01</th>\n",
       "      <td>3.734219e+07</td>\n",
       "      <td>4.059285e+07</td>\n",
       "      <td>16853.124796</td>\n",
       "    </tr>\n",
       "  </tbody>\n",
       "</table>\n",
       "</div>"
      ],
      "text/plain": [
       "                 revenue         sales   inspections\n",
       "month                                               \n",
       "2019-12-31  3.660184e+06  3.742929e+06   2237.000000\n",
       "2020-12-31  6.736588e+06  7.314158e+06   3948.000000\n",
       "2021-12-31  1.419963e+07  1.501107e+07   8205.000000\n",
       "2022-12-31  1.855228e+07  1.919668e+07   9333.000000\n",
       "2023-12-31  2.360077e+07  2.441817e+07  11637.000000\n",
       "2024-12-31  2.808853e+07  2.996183e+07  12941.000000\n",
       "2025-01-01  3.268984e+07  3.522120e+07  14826.121835\n",
       "2026-01-01  3.734219e+07  4.059285e+07  16853.124796"
      ]
     },
     "execution_count": 48,
     "metadata": {},
     "output_type": "execute_result"
    }
   ],
   "source": [
    "# create a table with revyear and yearly_sales['sales] and yearly_inspections['inspections']\n",
    "revenue_table = pd.concat([revyear, yearly_sales['sales'], yearly_inspections['inspections']], axis=1)\n",
    "revenue_table.columns = ['revenue', 'sales', 'inspections']\n",
    "revenue_table"
   ]
  },
  {
   "cell_type": "code",
   "execution_count": 55,
   "metadata": {},
   "outputs": [],
   "source": [
    "revenue_table.drop(columns=['inspections', 'sales'], inplace=True)"
   ]
  },
  {
   "cell_type": "code",
   "execution_count": 56,
   "metadata": {},
   "outputs": [
    {
     "data": {
      "text/html": [
       "<div>\n",
       "<style scoped>\n",
       "    .dataframe tbody tr th:only-of-type {\n",
       "        vertical-align: middle;\n",
       "    }\n",
       "\n",
       "    .dataframe tbody tr th {\n",
       "        vertical-align: top;\n",
       "    }\n",
       "\n",
       "    .dataframe thead th {\n",
       "        text-align: right;\n",
       "    }\n",
       "</style>\n",
       "<table border=\"1\" class=\"dataframe\">\n",
       "  <thead>\n",
       "    <tr style=\"text-align: right;\">\n",
       "      <th></th>\n",
       "      <th>revenue</th>\n",
       "    </tr>\n",
       "    <tr>\n",
       "      <th>month</th>\n",
       "      <th></th>\n",
       "    </tr>\n",
       "  </thead>\n",
       "  <tbody>\n",
       "    <tr>\n",
       "      <th>2019-12-31</th>\n",
       "      <td>3.660184e+06</td>\n",
       "    </tr>\n",
       "    <tr>\n",
       "      <th>2020-12-31</th>\n",
       "      <td>6.736588e+06</td>\n",
       "    </tr>\n",
       "    <tr>\n",
       "      <th>2021-12-31</th>\n",
       "      <td>1.419963e+07</td>\n",
       "    </tr>\n",
       "    <tr>\n",
       "      <th>2022-12-31</th>\n",
       "      <td>1.855228e+07</td>\n",
       "    </tr>\n",
       "    <tr>\n",
       "      <th>2023-12-31</th>\n",
       "      <td>2.360077e+07</td>\n",
       "    </tr>\n",
       "    <tr>\n",
       "      <th>2024-12-31</th>\n",
       "      <td>2.808853e+07</td>\n",
       "    </tr>\n",
       "    <tr>\n",
       "      <th>2025-01-01</th>\n",
       "      <td>3.268984e+07</td>\n",
       "    </tr>\n",
       "    <tr>\n",
       "      <th>2026-01-01</th>\n",
       "      <td>3.734219e+07</td>\n",
       "    </tr>\n",
       "  </tbody>\n",
       "</table>\n",
       "</div>"
      ],
      "text/plain": [
       "                 revenue\n",
       "month                   \n",
       "2019-12-31  3.660184e+06\n",
       "2020-12-31  6.736588e+06\n",
       "2021-12-31  1.419963e+07\n",
       "2022-12-31  1.855228e+07\n",
       "2023-12-31  2.360077e+07\n",
       "2024-12-31  2.808853e+07\n",
       "2025-01-01  3.268984e+07\n",
       "2026-01-01  3.734219e+07"
      ]
     },
     "execution_count": 56,
     "metadata": {},
     "output_type": "execute_result"
    }
   ],
   "source": [
    "revenue_table"
   ]
  },
  {
   "cell_type": "code",
   "execution_count": 57,
   "metadata": {},
   "outputs": [],
   "source": [
    "revenue_table['+10%'] = revenue_table['revenue'] * 1.1\n",
    "revenue_table['-10%'] = revenue_table['revenue'] * 0.9"
   ]
  },
  {
   "cell_type": "code",
   "execution_count": 58,
   "metadata": {},
   "outputs": [
    {
     "data": {
      "text/html": [
       "<div>\n",
       "<style scoped>\n",
       "    .dataframe tbody tr th:only-of-type {\n",
       "        vertical-align: middle;\n",
       "    }\n",
       "\n",
       "    .dataframe tbody tr th {\n",
       "        vertical-align: top;\n",
       "    }\n",
       "\n",
       "    .dataframe thead th {\n",
       "        text-align: right;\n",
       "    }\n",
       "</style>\n",
       "<table border=\"1\" class=\"dataframe\">\n",
       "  <thead>\n",
       "    <tr style=\"text-align: right;\">\n",
       "      <th></th>\n",
       "      <th>revenue</th>\n",
       "      <th>+10%</th>\n",
       "      <th>-10%</th>\n",
       "    </tr>\n",
       "    <tr>\n",
       "      <th>month</th>\n",
       "      <th></th>\n",
       "      <th></th>\n",
       "      <th></th>\n",
       "    </tr>\n",
       "  </thead>\n",
       "  <tbody>\n",
       "    <tr>\n",
       "      <th>2019-12-31</th>\n",
       "      <td>3.660184e+06</td>\n",
       "      <td>4.026202e+06</td>\n",
       "      <td>3.294166e+06</td>\n",
       "    </tr>\n",
       "    <tr>\n",
       "      <th>2020-12-31</th>\n",
       "      <td>6.736588e+06</td>\n",
       "      <td>7.410247e+06</td>\n",
       "      <td>6.062929e+06</td>\n",
       "    </tr>\n",
       "    <tr>\n",
       "      <th>2021-12-31</th>\n",
       "      <td>1.419963e+07</td>\n",
       "      <td>1.561959e+07</td>\n",
       "      <td>1.277967e+07</td>\n",
       "    </tr>\n",
       "    <tr>\n",
       "      <th>2022-12-31</th>\n",
       "      <td>1.855228e+07</td>\n",
       "      <td>2.040751e+07</td>\n",
       "      <td>1.669705e+07</td>\n",
       "    </tr>\n",
       "    <tr>\n",
       "      <th>2023-12-31</th>\n",
       "      <td>2.360077e+07</td>\n",
       "      <td>2.596085e+07</td>\n",
       "      <td>2.124070e+07</td>\n",
       "    </tr>\n",
       "    <tr>\n",
       "      <th>2024-12-31</th>\n",
       "      <td>2.808853e+07</td>\n",
       "      <td>3.089739e+07</td>\n",
       "      <td>2.527968e+07</td>\n",
       "    </tr>\n",
       "    <tr>\n",
       "      <th>2025-01-01</th>\n",
       "      <td>3.268984e+07</td>\n",
       "      <td>3.595882e+07</td>\n",
       "      <td>2.942085e+07</td>\n",
       "    </tr>\n",
       "    <tr>\n",
       "      <th>2026-01-01</th>\n",
       "      <td>3.734219e+07</td>\n",
       "      <td>4.107641e+07</td>\n",
       "      <td>3.360797e+07</td>\n",
       "    </tr>\n",
       "  </tbody>\n",
       "</table>\n",
       "</div>"
      ],
      "text/plain": [
       "                 revenue          +10%          -10%\n",
       "month                                               \n",
       "2019-12-31  3.660184e+06  4.026202e+06  3.294166e+06\n",
       "2020-12-31  6.736588e+06  7.410247e+06  6.062929e+06\n",
       "2021-12-31  1.419963e+07  1.561959e+07  1.277967e+07\n",
       "2022-12-31  1.855228e+07  2.040751e+07  1.669705e+07\n",
       "2023-12-31  2.360077e+07  2.596085e+07  2.124070e+07\n",
       "2024-12-31  2.808853e+07  3.089739e+07  2.527968e+07\n",
       "2025-01-01  3.268984e+07  3.595882e+07  2.942085e+07\n",
       "2026-01-01  3.734219e+07  4.107641e+07  3.360797e+07"
      ]
     },
     "execution_count": 58,
     "metadata": {},
     "output_type": "execute_result"
    }
   ],
   "source": [
    "revenue_table"
   ]
  },
  {
   "cell_type": "code",
   "execution_count": 60,
   "metadata": {},
   "outputs": [
    {
     "data": {
      "text/html": [
       "<div>\n",
       "<style scoped>\n",
       "    .dataframe tbody tr th:only-of-type {\n",
       "        vertical-align: middle;\n",
       "    }\n",
       "\n",
       "    .dataframe tbody tr th {\n",
       "        vertical-align: top;\n",
       "    }\n",
       "\n",
       "    .dataframe thead th {\n",
       "        text-align: right;\n",
       "    }\n",
       "</style>\n",
       "<table border=\"1\" class=\"dataframe\">\n",
       "  <thead>\n",
       "    <tr style=\"text-align: right;\">\n",
       "      <th></th>\n",
       "      <th>month</th>\n",
       "      <th>revenue</th>\n",
       "      <th>+10%</th>\n",
       "      <th>-10%</th>\n",
       "    </tr>\n",
       "  </thead>\n",
       "  <tbody>\n",
       "    <tr>\n",
       "      <th>0</th>\n",
       "      <td>2019-12-31</td>\n",
       "      <td>3.660184e+06</td>\n",
       "      <td>4.026202e+06</td>\n",
       "      <td>3.294166e+06</td>\n",
       "    </tr>\n",
       "    <tr>\n",
       "      <th>1</th>\n",
       "      <td>2020-12-31</td>\n",
       "      <td>6.736588e+06</td>\n",
       "      <td>7.410247e+06</td>\n",
       "      <td>6.062929e+06</td>\n",
       "    </tr>\n",
       "    <tr>\n",
       "      <th>2</th>\n",
       "      <td>2021-12-31</td>\n",
       "      <td>1.419963e+07</td>\n",
       "      <td>1.561959e+07</td>\n",
       "      <td>1.277967e+07</td>\n",
       "    </tr>\n",
       "    <tr>\n",
       "      <th>3</th>\n",
       "      <td>2022-12-31</td>\n",
       "      <td>1.855228e+07</td>\n",
       "      <td>2.040751e+07</td>\n",
       "      <td>1.669705e+07</td>\n",
       "    </tr>\n",
       "    <tr>\n",
       "      <th>4</th>\n",
       "      <td>2023-12-31</td>\n",
       "      <td>2.360077e+07</td>\n",
       "      <td>2.596085e+07</td>\n",
       "      <td>2.124070e+07</td>\n",
       "    </tr>\n",
       "    <tr>\n",
       "      <th>5</th>\n",
       "      <td>2024-12-31</td>\n",
       "      <td>2.808853e+07</td>\n",
       "      <td>3.089739e+07</td>\n",
       "      <td>2.527968e+07</td>\n",
       "    </tr>\n",
       "    <tr>\n",
       "      <th>6</th>\n",
       "      <td>2025-01-01</td>\n",
       "      <td>3.268984e+07</td>\n",
       "      <td>3.595882e+07</td>\n",
       "      <td>2.942085e+07</td>\n",
       "    </tr>\n",
       "    <tr>\n",
       "      <th>7</th>\n",
       "      <td>2026-01-01</td>\n",
       "      <td>3.734219e+07</td>\n",
       "      <td>4.107641e+07</td>\n",
       "      <td>3.360797e+07</td>\n",
       "    </tr>\n",
       "  </tbody>\n",
       "</table>\n",
       "</div>"
      ],
      "text/plain": [
       "       month       revenue          +10%          -10%\n",
       "0 2019-12-31  3.660184e+06  4.026202e+06  3.294166e+06\n",
       "1 2020-12-31  6.736588e+06  7.410247e+06  6.062929e+06\n",
       "2 2021-12-31  1.419963e+07  1.561959e+07  1.277967e+07\n",
       "3 2022-12-31  1.855228e+07  2.040751e+07  1.669705e+07\n",
       "4 2023-12-31  2.360077e+07  2.596085e+07  2.124070e+07\n",
       "5 2024-12-31  2.808853e+07  3.089739e+07  2.527968e+07\n",
       "6 2025-01-01  3.268984e+07  3.595882e+07  2.942085e+07\n",
       "7 2026-01-01  3.734219e+07  4.107641e+07  3.360797e+07"
      ]
     },
     "execution_count": 60,
     "metadata": {},
     "output_type": "execute_result"
    }
   ],
   "source": [
    "# change revenue_table index to column\n",
    "revenue_table.reset_index(inplace=True)\n",
    "revenue_table"
   ]
  },
  {
   "cell_type": "code",
   "execution_count": 61,
   "metadata": {},
   "outputs": [
    {
     "data": {
      "text/html": [
       "<div>\n",
       "<style scoped>\n",
       "    .dataframe tbody tr th:only-of-type {\n",
       "        vertical-align: middle;\n",
       "    }\n",
       "\n",
       "    .dataframe tbody tr th {\n",
       "        vertical-align: top;\n",
       "    }\n",
       "\n",
       "    .dataframe thead th {\n",
       "        text-align: right;\n",
       "    }\n",
       "</style>\n",
       "<table border=\"1\" class=\"dataframe\">\n",
       "  <thead>\n",
       "    <tr style=\"text-align: right;\">\n",
       "      <th></th>\n",
       "      <th>month</th>\n",
       "      <th>revenue</th>\n",
       "      <th>+10%</th>\n",
       "      <th>-10%</th>\n",
       "      <th>year</th>\n",
       "    </tr>\n",
       "  </thead>\n",
       "  <tbody>\n",
       "    <tr>\n",
       "      <th>0</th>\n",
       "      <td>2019-12-31</td>\n",
       "      <td>3.660184e+06</td>\n",
       "      <td>4.026202e+06</td>\n",
       "      <td>3.294166e+06</td>\n",
       "      <td>2019</td>\n",
       "    </tr>\n",
       "    <tr>\n",
       "      <th>1</th>\n",
       "      <td>2020-12-31</td>\n",
       "      <td>6.736588e+06</td>\n",
       "      <td>7.410247e+06</td>\n",
       "      <td>6.062929e+06</td>\n",
       "      <td>2020</td>\n",
       "    </tr>\n",
       "    <tr>\n",
       "      <th>2</th>\n",
       "      <td>2021-12-31</td>\n",
       "      <td>1.419963e+07</td>\n",
       "      <td>1.561959e+07</td>\n",
       "      <td>1.277967e+07</td>\n",
       "      <td>2021</td>\n",
       "    </tr>\n",
       "    <tr>\n",
       "      <th>3</th>\n",
       "      <td>2022-12-31</td>\n",
       "      <td>1.855228e+07</td>\n",
       "      <td>2.040751e+07</td>\n",
       "      <td>1.669705e+07</td>\n",
       "      <td>2022</td>\n",
       "    </tr>\n",
       "    <tr>\n",
       "      <th>4</th>\n",
       "      <td>2023-12-31</td>\n",
       "      <td>2.360077e+07</td>\n",
       "      <td>2.596085e+07</td>\n",
       "      <td>2.124070e+07</td>\n",
       "      <td>2023</td>\n",
       "    </tr>\n",
       "    <tr>\n",
       "      <th>5</th>\n",
       "      <td>2024-12-31</td>\n",
       "      <td>2.808853e+07</td>\n",
       "      <td>3.089739e+07</td>\n",
       "      <td>2.527968e+07</td>\n",
       "      <td>2024</td>\n",
       "    </tr>\n",
       "    <tr>\n",
       "      <th>6</th>\n",
       "      <td>2025-01-01</td>\n",
       "      <td>3.268984e+07</td>\n",
       "      <td>3.595882e+07</td>\n",
       "      <td>2.942085e+07</td>\n",
       "      <td>2025</td>\n",
       "    </tr>\n",
       "    <tr>\n",
       "      <th>7</th>\n",
       "      <td>2026-01-01</td>\n",
       "      <td>3.734219e+07</td>\n",
       "      <td>4.107641e+07</td>\n",
       "      <td>3.360797e+07</td>\n",
       "      <td>2026</td>\n",
       "    </tr>\n",
       "  </tbody>\n",
       "</table>\n",
       "</div>"
      ],
      "text/plain": [
       "       month       revenue          +10%          -10%  year\n",
       "0 2019-12-31  3.660184e+06  4.026202e+06  3.294166e+06  2019\n",
       "1 2020-12-31  6.736588e+06  7.410247e+06  6.062929e+06  2020\n",
       "2 2021-12-31  1.419963e+07  1.561959e+07  1.277967e+07  2021\n",
       "3 2022-12-31  1.855228e+07  2.040751e+07  1.669705e+07  2022\n",
       "4 2023-12-31  2.360077e+07  2.596085e+07  2.124070e+07  2023\n",
       "5 2024-12-31  2.808853e+07  3.089739e+07  2.527968e+07  2024\n",
       "6 2025-01-01  3.268984e+07  3.595882e+07  2.942085e+07  2025\n",
       "7 2026-01-01  3.734219e+07  4.107641e+07  3.360797e+07  2026"
      ]
     },
     "execution_count": 61,
     "metadata": {},
     "output_type": "execute_result"
    }
   ],
   "source": [
    "# change revenue_table['month'] to year\n",
    "revenue_table['year'] = revenue_table['month'].dt.year\n",
    "revenue_table"
   ]
  },
  {
   "cell_type": "code",
   "execution_count": 62,
   "metadata": {},
   "outputs": [
    {
     "data": {
      "text/html": [
       "<div>\n",
       "<style scoped>\n",
       "    .dataframe tbody tr th:only-of-type {\n",
       "        vertical-align: middle;\n",
       "    }\n",
       "\n",
       "    .dataframe tbody tr th {\n",
       "        vertical-align: top;\n",
       "    }\n",
       "\n",
       "    .dataframe thead th {\n",
       "        text-align: right;\n",
       "    }\n",
       "</style>\n",
       "<table border=\"1\" class=\"dataframe\">\n",
       "  <thead>\n",
       "    <tr style=\"text-align: right;\">\n",
       "      <th></th>\n",
       "      <th>revenue</th>\n",
       "      <th>+10%</th>\n",
       "      <th>-10%</th>\n",
       "      <th>year</th>\n",
       "    </tr>\n",
       "  </thead>\n",
       "  <tbody>\n",
       "    <tr>\n",
       "      <th>0</th>\n",
       "      <td>3.660184e+06</td>\n",
       "      <td>4.026202e+06</td>\n",
       "      <td>3.294166e+06</td>\n",
       "      <td>2019</td>\n",
       "    </tr>\n",
       "    <tr>\n",
       "      <th>1</th>\n",
       "      <td>6.736588e+06</td>\n",
       "      <td>7.410247e+06</td>\n",
       "      <td>6.062929e+06</td>\n",
       "      <td>2020</td>\n",
       "    </tr>\n",
       "    <tr>\n",
       "      <th>2</th>\n",
       "      <td>1.419963e+07</td>\n",
       "      <td>1.561959e+07</td>\n",
       "      <td>1.277967e+07</td>\n",
       "      <td>2021</td>\n",
       "    </tr>\n",
       "    <tr>\n",
       "      <th>3</th>\n",
       "      <td>1.855228e+07</td>\n",
       "      <td>2.040751e+07</td>\n",
       "      <td>1.669705e+07</td>\n",
       "      <td>2022</td>\n",
       "    </tr>\n",
       "    <tr>\n",
       "      <th>4</th>\n",
       "      <td>2.360077e+07</td>\n",
       "      <td>2.596085e+07</td>\n",
       "      <td>2.124070e+07</td>\n",
       "      <td>2023</td>\n",
       "    </tr>\n",
       "    <tr>\n",
       "      <th>5</th>\n",
       "      <td>2.808853e+07</td>\n",
       "      <td>3.089739e+07</td>\n",
       "      <td>2.527968e+07</td>\n",
       "      <td>2024</td>\n",
       "    </tr>\n",
       "    <tr>\n",
       "      <th>6</th>\n",
       "      <td>3.268984e+07</td>\n",
       "      <td>3.595882e+07</td>\n",
       "      <td>2.942085e+07</td>\n",
       "      <td>2025</td>\n",
       "    </tr>\n",
       "    <tr>\n",
       "      <th>7</th>\n",
       "      <td>3.734219e+07</td>\n",
       "      <td>4.107641e+07</td>\n",
       "      <td>3.360797e+07</td>\n",
       "      <td>2026</td>\n",
       "    </tr>\n",
       "  </tbody>\n",
       "</table>\n",
       "</div>"
      ],
      "text/plain": [
       "        revenue          +10%          -10%  year\n",
       "0  3.660184e+06  4.026202e+06  3.294166e+06  2019\n",
       "1  6.736588e+06  7.410247e+06  6.062929e+06  2020\n",
       "2  1.419963e+07  1.561959e+07  1.277967e+07  2021\n",
       "3  1.855228e+07  2.040751e+07  1.669705e+07  2022\n",
       "4  2.360077e+07  2.596085e+07  2.124070e+07  2023\n",
       "5  2.808853e+07  3.089739e+07  2.527968e+07  2024\n",
       "6  3.268984e+07  3.595882e+07  2.942085e+07  2025\n",
       "7  3.734219e+07  4.107641e+07  3.360797e+07  2026"
      ]
     },
     "execution_count": 62,
     "metadata": {},
     "output_type": "execute_result"
    }
   ],
   "source": [
    "revenue_table.drop(columns=['month'], inplace=True)\n",
    "revenue_table"
   ]
  },
  {
   "cell_type": "code",
   "execution_count": 63,
   "metadata": {},
   "outputs": [
    {
     "data": {
      "text/html": [
       "<div>\n",
       "<style scoped>\n",
       "    .dataframe tbody tr th:only-of-type {\n",
       "        vertical-align: middle;\n",
       "    }\n",
       "\n",
       "    .dataframe tbody tr th {\n",
       "        vertical-align: top;\n",
       "    }\n",
       "\n",
       "    .dataframe thead th {\n",
       "        text-align: right;\n",
       "    }\n",
       "</style>\n",
       "<table border=\"1\" class=\"dataframe\">\n",
       "  <thead>\n",
       "    <tr style=\"text-align: right;\">\n",
       "      <th></th>\n",
       "      <th>year</th>\n",
       "      <th>revenue</th>\n",
       "      <th>+10%</th>\n",
       "      <th>-10%</th>\n",
       "    </tr>\n",
       "  </thead>\n",
       "  <tbody>\n",
       "    <tr>\n",
       "      <th>0</th>\n",
       "      <td>2019</td>\n",
       "      <td>3.660184e+06</td>\n",
       "      <td>4.026202e+06</td>\n",
       "      <td>3.294166e+06</td>\n",
       "    </tr>\n",
       "    <tr>\n",
       "      <th>1</th>\n",
       "      <td>2020</td>\n",
       "      <td>6.736588e+06</td>\n",
       "      <td>7.410247e+06</td>\n",
       "      <td>6.062929e+06</td>\n",
       "    </tr>\n",
       "    <tr>\n",
       "      <th>2</th>\n",
       "      <td>2021</td>\n",
       "      <td>1.419963e+07</td>\n",
       "      <td>1.561959e+07</td>\n",
       "      <td>1.277967e+07</td>\n",
       "    </tr>\n",
       "    <tr>\n",
       "      <th>3</th>\n",
       "      <td>2022</td>\n",
       "      <td>1.855228e+07</td>\n",
       "      <td>2.040751e+07</td>\n",
       "      <td>1.669705e+07</td>\n",
       "    </tr>\n",
       "    <tr>\n",
       "      <th>4</th>\n",
       "      <td>2023</td>\n",
       "      <td>2.360077e+07</td>\n",
       "      <td>2.596085e+07</td>\n",
       "      <td>2.124070e+07</td>\n",
       "    </tr>\n",
       "    <tr>\n",
       "      <th>5</th>\n",
       "      <td>2024</td>\n",
       "      <td>2.808853e+07</td>\n",
       "      <td>3.089739e+07</td>\n",
       "      <td>2.527968e+07</td>\n",
       "    </tr>\n",
       "    <tr>\n",
       "      <th>6</th>\n",
       "      <td>2025</td>\n",
       "      <td>3.268984e+07</td>\n",
       "      <td>3.595882e+07</td>\n",
       "      <td>2.942085e+07</td>\n",
       "    </tr>\n",
       "    <tr>\n",
       "      <th>7</th>\n",
       "      <td>2026</td>\n",
       "      <td>3.734219e+07</td>\n",
       "      <td>4.107641e+07</td>\n",
       "      <td>3.360797e+07</td>\n",
       "    </tr>\n",
       "  </tbody>\n",
       "</table>\n",
       "</div>"
      ],
      "text/plain": [
       "   year       revenue          +10%          -10%\n",
       "0  2019  3.660184e+06  4.026202e+06  3.294166e+06\n",
       "1  2020  6.736588e+06  7.410247e+06  6.062929e+06\n",
       "2  2021  1.419963e+07  1.561959e+07  1.277967e+07\n",
       "3  2022  1.855228e+07  2.040751e+07  1.669705e+07\n",
       "4  2023  2.360077e+07  2.596085e+07  2.124070e+07\n",
       "5  2024  2.808853e+07  3.089739e+07  2.527968e+07\n",
       "6  2025  3.268984e+07  3.595882e+07  2.942085e+07\n",
       "7  2026  3.734219e+07  4.107641e+07  3.360797e+07"
      ]
     },
     "execution_count": 63,
     "metadata": {},
     "output_type": "execute_result"
    }
   ],
   "source": [
    "# make 'year' the first column in revenue_table\n",
    "revenue_table = revenue_table[['year', 'revenue', '+10%', '-10%']]\n",
    "revenue_table"
   ]
  },
  {
   "cell_type": "code",
   "execution_count": 65,
   "metadata": {},
   "outputs": [
    {
     "data": {
      "text/html": [
       "<div>\n",
       "<style scoped>\n",
       "    .dataframe tbody tr th:only-of-type {\n",
       "        vertical-align: middle;\n",
       "    }\n",
       "\n",
       "    .dataframe tbody tr th {\n",
       "        vertical-align: top;\n",
       "    }\n",
       "\n",
       "    .dataframe thead th {\n",
       "        text-align: right;\n",
       "    }\n",
       "</style>\n",
       "<table border=\"1\" class=\"dataframe\">\n",
       "  <thead>\n",
       "    <tr style=\"text-align: right;\">\n",
       "      <th></th>\n",
       "      <th>year</th>\n",
       "      <th>revenue</th>\n",
       "      <th>+10%</th>\n",
       "      <th>-10%</th>\n",
       "    </tr>\n",
       "  </thead>\n",
       "  <tbody>\n",
       "    <tr>\n",
       "      <th>6</th>\n",
       "      <td>2025</td>\n",
       "      <td>3.268984e+07</td>\n",
       "      <td>3.595882e+07</td>\n",
       "      <td>2.942085e+07</td>\n",
       "    </tr>\n",
       "    <tr>\n",
       "      <th>7</th>\n",
       "      <td>2026</td>\n",
       "      <td>3.734219e+07</td>\n",
       "      <td>4.107641e+07</td>\n",
       "      <td>3.360797e+07</td>\n",
       "    </tr>\n",
       "  </tbody>\n",
       "</table>\n",
       "</div>"
      ],
      "text/plain": [
       "   year       revenue          +10%          -10%\n",
       "6  2025  3.268984e+07  3.595882e+07  2.942085e+07\n",
       "7  2026  3.734219e+07  4.107641e+07  3.360797e+07"
      ]
     },
     "execution_count": 65,
     "metadata": {},
     "output_type": "execute_result"
    }
   ],
   "source": [
    "# remove years 2019-2024 from revenue_table\n",
    "revenue_table = revenue_table[revenue_table['year'] > 2024]\n",
    "revenue_table"
   ]
  },
  {
   "cell_type": "code",
   "execution_count": 72,
   "metadata": {},
   "outputs": [],
   "source": [
    "revenue_table.rename(columns={'revenue': 'forecast'}, inplace=True)"
   ]
  },
  {
   "cell_type": "code",
   "execution_count": 77,
   "metadata": {},
   "outputs": [
    {
     "data": {
      "application/vnd.plotly.v1+json": {
       "config": {
        "plotlyServerURL": "https://plot.ly"
       },
       "data": [
        {
         "cells": {
          "align": "left",
          "fill": {
           "color": "wheat"
          },
          "values": [
           [
            2025,
            2026
           ],
           [
            "$32,689,835.17",
            "$37,342,188.28"
           ],
           [
            "$35,958,818.68",
            "$41,076,407.10"
           ],
           [
            "$29,420,851.65",
            "$33,607,969.45"
           ]
          ]
         },
         "header": {
          "align": "left",
          "fill": {
           "color": "tan"
          },
          "values": [
           "YEAR",
           "FORECAST",
           "+10%",
           "-10%"
          ]
         },
         "type": "table"
        }
       ],
       "layout": {
        "template": {
         "data": {
          "bar": [
           {
            "error_x": {
             "color": "#2a3f5f"
            },
            "error_y": {
             "color": "#2a3f5f"
            },
            "marker": {
             "line": {
              "color": "#E5ECF6",
              "width": 0.5
             },
             "pattern": {
              "fillmode": "overlay",
              "size": 10,
              "solidity": 0.2
             }
            },
            "type": "bar"
           }
          ],
          "barpolar": [
           {
            "marker": {
             "line": {
              "color": "#E5ECF6",
              "width": 0.5
             },
             "pattern": {
              "fillmode": "overlay",
              "size": 10,
              "solidity": 0.2
             }
            },
            "type": "barpolar"
           }
          ],
          "carpet": [
           {
            "aaxis": {
             "endlinecolor": "#2a3f5f",
             "gridcolor": "white",
             "linecolor": "white",
             "minorgridcolor": "white",
             "startlinecolor": "#2a3f5f"
            },
            "baxis": {
             "endlinecolor": "#2a3f5f",
             "gridcolor": "white",
             "linecolor": "white",
             "minorgridcolor": "white",
             "startlinecolor": "#2a3f5f"
            },
            "type": "carpet"
           }
          ],
          "choropleth": [
           {
            "colorbar": {
             "outlinewidth": 0,
             "ticks": ""
            },
            "type": "choropleth"
           }
          ],
          "contour": [
           {
            "colorbar": {
             "outlinewidth": 0,
             "ticks": ""
            },
            "colorscale": [
             [
              0,
              "#0d0887"
             ],
             [
              0.1111111111111111,
              "#46039f"
             ],
             [
              0.2222222222222222,
              "#7201a8"
             ],
             [
              0.3333333333333333,
              "#9c179e"
             ],
             [
              0.4444444444444444,
              "#bd3786"
             ],
             [
              0.5555555555555556,
              "#d8576b"
             ],
             [
              0.6666666666666666,
              "#ed7953"
             ],
             [
              0.7777777777777778,
              "#fb9f3a"
             ],
             [
              0.8888888888888888,
              "#fdca26"
             ],
             [
              1,
              "#f0f921"
             ]
            ],
            "type": "contour"
           }
          ],
          "contourcarpet": [
           {
            "colorbar": {
             "outlinewidth": 0,
             "ticks": ""
            },
            "type": "contourcarpet"
           }
          ],
          "heatmap": [
           {
            "colorbar": {
             "outlinewidth": 0,
             "ticks": ""
            },
            "colorscale": [
             [
              0,
              "#0d0887"
             ],
             [
              0.1111111111111111,
              "#46039f"
             ],
             [
              0.2222222222222222,
              "#7201a8"
             ],
             [
              0.3333333333333333,
              "#9c179e"
             ],
             [
              0.4444444444444444,
              "#bd3786"
             ],
             [
              0.5555555555555556,
              "#d8576b"
             ],
             [
              0.6666666666666666,
              "#ed7953"
             ],
             [
              0.7777777777777778,
              "#fb9f3a"
             ],
             [
              0.8888888888888888,
              "#fdca26"
             ],
             [
              1,
              "#f0f921"
             ]
            ],
            "type": "heatmap"
           }
          ],
          "heatmapgl": [
           {
            "colorbar": {
             "outlinewidth": 0,
             "ticks": ""
            },
            "colorscale": [
             [
              0,
              "#0d0887"
             ],
             [
              0.1111111111111111,
              "#46039f"
             ],
             [
              0.2222222222222222,
              "#7201a8"
             ],
             [
              0.3333333333333333,
              "#9c179e"
             ],
             [
              0.4444444444444444,
              "#bd3786"
             ],
             [
              0.5555555555555556,
              "#d8576b"
             ],
             [
              0.6666666666666666,
              "#ed7953"
             ],
             [
              0.7777777777777778,
              "#fb9f3a"
             ],
             [
              0.8888888888888888,
              "#fdca26"
             ],
             [
              1,
              "#f0f921"
             ]
            ],
            "type": "heatmapgl"
           }
          ],
          "histogram": [
           {
            "marker": {
             "pattern": {
              "fillmode": "overlay",
              "size": 10,
              "solidity": 0.2
             }
            },
            "type": "histogram"
           }
          ],
          "histogram2d": [
           {
            "colorbar": {
             "outlinewidth": 0,
             "ticks": ""
            },
            "colorscale": [
             [
              0,
              "#0d0887"
             ],
             [
              0.1111111111111111,
              "#46039f"
             ],
             [
              0.2222222222222222,
              "#7201a8"
             ],
             [
              0.3333333333333333,
              "#9c179e"
             ],
             [
              0.4444444444444444,
              "#bd3786"
             ],
             [
              0.5555555555555556,
              "#d8576b"
             ],
             [
              0.6666666666666666,
              "#ed7953"
             ],
             [
              0.7777777777777778,
              "#fb9f3a"
             ],
             [
              0.8888888888888888,
              "#fdca26"
             ],
             [
              1,
              "#f0f921"
             ]
            ],
            "type": "histogram2d"
           }
          ],
          "histogram2dcontour": [
           {
            "colorbar": {
             "outlinewidth": 0,
             "ticks": ""
            },
            "colorscale": [
             [
              0,
              "#0d0887"
             ],
             [
              0.1111111111111111,
              "#46039f"
             ],
             [
              0.2222222222222222,
              "#7201a8"
             ],
             [
              0.3333333333333333,
              "#9c179e"
             ],
             [
              0.4444444444444444,
              "#bd3786"
             ],
             [
              0.5555555555555556,
              "#d8576b"
             ],
             [
              0.6666666666666666,
              "#ed7953"
             ],
             [
              0.7777777777777778,
              "#fb9f3a"
             ],
             [
              0.8888888888888888,
              "#fdca26"
             ],
             [
              1,
              "#f0f921"
             ]
            ],
            "type": "histogram2dcontour"
           }
          ],
          "mesh3d": [
           {
            "colorbar": {
             "outlinewidth": 0,
             "ticks": ""
            },
            "type": "mesh3d"
           }
          ],
          "parcoords": [
           {
            "line": {
             "colorbar": {
              "outlinewidth": 0,
              "ticks": ""
             }
            },
            "type": "parcoords"
           }
          ],
          "pie": [
           {
            "automargin": true,
            "type": "pie"
           }
          ],
          "scatter": [
           {
            "fillpattern": {
             "fillmode": "overlay",
             "size": 10,
             "solidity": 0.2
            },
            "type": "scatter"
           }
          ],
          "scatter3d": [
           {
            "line": {
             "colorbar": {
              "outlinewidth": 0,
              "ticks": ""
             }
            },
            "marker": {
             "colorbar": {
              "outlinewidth": 0,
              "ticks": ""
             }
            },
            "type": "scatter3d"
           }
          ],
          "scattercarpet": [
           {
            "marker": {
             "colorbar": {
              "outlinewidth": 0,
              "ticks": ""
             }
            },
            "type": "scattercarpet"
           }
          ],
          "scattergeo": [
           {
            "marker": {
             "colorbar": {
              "outlinewidth": 0,
              "ticks": ""
             }
            },
            "type": "scattergeo"
           }
          ],
          "scattergl": [
           {
            "marker": {
             "colorbar": {
              "outlinewidth": 0,
              "ticks": ""
             }
            },
            "type": "scattergl"
           }
          ],
          "scattermapbox": [
           {
            "marker": {
             "colorbar": {
              "outlinewidth": 0,
              "ticks": ""
             }
            },
            "type": "scattermapbox"
           }
          ],
          "scatterpolar": [
           {
            "marker": {
             "colorbar": {
              "outlinewidth": 0,
              "ticks": ""
             }
            },
            "type": "scatterpolar"
           }
          ],
          "scatterpolargl": [
           {
            "marker": {
             "colorbar": {
              "outlinewidth": 0,
              "ticks": ""
             }
            },
            "type": "scatterpolargl"
           }
          ],
          "scatterternary": [
           {
            "marker": {
             "colorbar": {
              "outlinewidth": 0,
              "ticks": ""
             }
            },
            "type": "scatterternary"
           }
          ],
          "surface": [
           {
            "colorbar": {
             "outlinewidth": 0,
             "ticks": ""
            },
            "colorscale": [
             [
              0,
              "#0d0887"
             ],
             [
              0.1111111111111111,
              "#46039f"
             ],
             [
              0.2222222222222222,
              "#7201a8"
             ],
             [
              0.3333333333333333,
              "#9c179e"
             ],
             [
              0.4444444444444444,
              "#bd3786"
             ],
             [
              0.5555555555555556,
              "#d8576b"
             ],
             [
              0.6666666666666666,
              "#ed7953"
             ],
             [
              0.7777777777777778,
              "#fb9f3a"
             ],
             [
              0.8888888888888888,
              "#fdca26"
             ],
             [
              1,
              "#f0f921"
             ]
            ],
            "type": "surface"
           }
          ],
          "table": [
           {
            "cells": {
             "fill": {
              "color": "#EBF0F8"
             },
             "line": {
              "color": "white"
             }
            },
            "header": {
             "fill": {
              "color": "#C8D4E3"
             },
             "line": {
              "color": "white"
             }
            },
            "type": "table"
           }
          ]
         },
         "layout": {
          "annotationdefaults": {
           "arrowcolor": "#2a3f5f",
           "arrowhead": 0,
           "arrowwidth": 1
          },
          "autotypenumbers": "strict",
          "coloraxis": {
           "colorbar": {
            "outlinewidth": 0,
            "ticks": ""
           }
          },
          "colorscale": {
           "diverging": [
            [
             0,
             "#8e0152"
            ],
            [
             0.1,
             "#c51b7d"
            ],
            [
             0.2,
             "#de77ae"
            ],
            [
             0.3,
             "#f1b6da"
            ],
            [
             0.4,
             "#fde0ef"
            ],
            [
             0.5,
             "#f7f7f7"
            ],
            [
             0.6,
             "#e6f5d0"
            ],
            [
             0.7,
             "#b8e186"
            ],
            [
             0.8,
             "#7fbc41"
            ],
            [
             0.9,
             "#4d9221"
            ],
            [
             1,
             "#276419"
            ]
           ],
           "sequential": [
            [
             0,
             "#0d0887"
            ],
            [
             0.1111111111111111,
             "#46039f"
            ],
            [
             0.2222222222222222,
             "#7201a8"
            ],
            [
             0.3333333333333333,
             "#9c179e"
            ],
            [
             0.4444444444444444,
             "#bd3786"
            ],
            [
             0.5555555555555556,
             "#d8576b"
            ],
            [
             0.6666666666666666,
             "#ed7953"
            ],
            [
             0.7777777777777778,
             "#fb9f3a"
            ],
            [
             0.8888888888888888,
             "#fdca26"
            ],
            [
             1,
             "#f0f921"
            ]
           ],
           "sequentialminus": [
            [
             0,
             "#0d0887"
            ],
            [
             0.1111111111111111,
             "#46039f"
            ],
            [
             0.2222222222222222,
             "#7201a8"
            ],
            [
             0.3333333333333333,
             "#9c179e"
            ],
            [
             0.4444444444444444,
             "#bd3786"
            ],
            [
             0.5555555555555556,
             "#d8576b"
            ],
            [
             0.6666666666666666,
             "#ed7953"
            ],
            [
             0.7777777777777778,
             "#fb9f3a"
            ],
            [
             0.8888888888888888,
             "#fdca26"
            ],
            [
             1,
             "#f0f921"
            ]
           ]
          },
          "colorway": [
           "#636efa",
           "#EF553B",
           "#00cc96",
           "#ab63fa",
           "#FFA15A",
           "#19d3f3",
           "#FF6692",
           "#B6E880",
           "#FF97FF",
           "#FECB52"
          ],
          "font": {
           "color": "#2a3f5f"
          },
          "geo": {
           "bgcolor": "white",
           "lakecolor": "white",
           "landcolor": "#E5ECF6",
           "showlakes": true,
           "showland": true,
           "subunitcolor": "white"
          },
          "hoverlabel": {
           "align": "left"
          },
          "hovermode": "closest",
          "mapbox": {
           "style": "light"
          },
          "paper_bgcolor": "white",
          "plot_bgcolor": "#E5ECF6",
          "polar": {
           "angularaxis": {
            "gridcolor": "white",
            "linecolor": "white",
            "ticks": ""
           },
           "bgcolor": "#E5ECF6",
           "radialaxis": {
            "gridcolor": "white",
            "linecolor": "white",
            "ticks": ""
           }
          },
          "scene": {
           "xaxis": {
            "backgroundcolor": "#E5ECF6",
            "gridcolor": "white",
            "gridwidth": 2,
            "linecolor": "white",
            "showbackground": true,
            "ticks": "",
            "zerolinecolor": "white"
           },
           "yaxis": {
            "backgroundcolor": "#E5ECF6",
            "gridcolor": "white",
            "gridwidth": 2,
            "linecolor": "white",
            "showbackground": true,
            "ticks": "",
            "zerolinecolor": "white"
           },
           "zaxis": {
            "backgroundcolor": "#E5ECF6",
            "gridcolor": "white",
            "gridwidth": 2,
            "linecolor": "white",
            "showbackground": true,
            "ticks": "",
            "zerolinecolor": "white"
           }
          },
          "shapedefaults": {
           "line": {
            "color": "#2a3f5f"
           }
          },
          "ternary": {
           "aaxis": {
            "gridcolor": "white",
            "linecolor": "white",
            "ticks": ""
           },
           "baxis": {
            "gridcolor": "white",
            "linecolor": "white",
            "ticks": ""
           },
           "bgcolor": "#E5ECF6",
           "caxis": {
            "gridcolor": "white",
            "linecolor": "white",
            "ticks": ""
           }
          },
          "title": {
           "x": 0.05
          },
          "xaxis": {
           "automargin": true,
           "gridcolor": "white",
           "linecolor": "white",
           "ticks": "",
           "title": {
            "standoff": 15
           },
           "zerolinecolor": "white",
           "zerolinewidth": 2
          },
          "yaxis": {
           "automargin": true,
           "gridcolor": "white",
           "linecolor": "white",
           "ticks": "",
           "title": {
            "standoff": 15
           },
           "zerolinecolor": "white",
           "zerolinewidth": 2
          }
         }
        },
        "title": {
         "text": "Revenue Table"
        }
       }
      }
     },
     "metadata": {},
     "output_type": "display_data"
    }
   ],
   "source": [
    "import plotly.graph_objects as go\n",
    "\n",
    "# Create a table with capitalized column names\n",
    "fig = go.Figure(data=[go.Table(\n",
    "    header=dict(values=[col.upper() for col in revenue_table.columns],\n",
    "                fill_color='tan',\n",
    "                align='left'),\n",
    "    cells=dict(values=[revenue_table['year'], \n",
    "                       revenue_table['forecast'].map('${:,.2f}'.format), \n",
    "                       revenue_table['+10%'].map('${:,.2f}'.format), \n",
    "                       revenue_table['-10%'].map('${:,.2f}'.format)],\n",
    "               fill_color='wheat',\n",
    "               align='left'))\n",
    "])\n",
    "\n",
    "# Update layout\n",
    "fig.update_layout(title='Revenue Table')\n",
    "\n",
    "# Show the figure\n",
    "fig.show()"
   ]
  },
  {
   "cell_type": "code",
   "execution_count": 78,
   "metadata": {},
   "outputs": [
    {
     "data": {
      "text/html": [
       "<div>\n",
       "<style scoped>\n",
       "    .dataframe tbody tr th:only-of-type {\n",
       "        vertical-align: middle;\n",
       "    }\n",
       "\n",
       "    .dataframe tbody tr th {\n",
       "        vertical-align: top;\n",
       "    }\n",
       "\n",
       "    .dataframe thead th {\n",
       "        text-align: right;\n",
       "    }\n",
       "</style>\n",
       "<table border=\"1\" class=\"dataframe\">\n",
       "  <thead>\n",
       "    <tr style=\"text-align: right;\">\n",
       "      <th></th>\n",
       "      <th>year</th>\n",
       "      <th>forecast</th>\n",
       "      <th>+10%</th>\n",
       "      <th>-10%</th>\n",
       "    </tr>\n",
       "  </thead>\n",
       "  <tbody>\n",
       "    <tr>\n",
       "      <th>6</th>\n",
       "      <td>2025</td>\n",
       "      <td>3.268984e+07</td>\n",
       "      <td>3.595882e+07</td>\n",
       "      <td>2.942085e+07</td>\n",
       "    </tr>\n",
       "    <tr>\n",
       "      <th>7</th>\n",
       "      <td>2026</td>\n",
       "      <td>3.734219e+07</td>\n",
       "      <td>4.107641e+07</td>\n",
       "      <td>3.360797e+07</td>\n",
       "    </tr>\n",
       "  </tbody>\n",
       "</table>\n",
       "</div>"
      ],
      "text/plain": [
       "   year      forecast          +10%          -10%\n",
       "6  2025  3.268984e+07  3.595882e+07  2.942085e+07\n",
       "7  2026  3.734219e+07  4.107641e+07  3.360797e+07"
      ]
     },
     "execution_count": 78,
     "metadata": {},
     "output_type": "execute_result"
    }
   ],
   "source": [
    "revenue_table"
   ]
  },
  {
   "cell_type": "code",
   "execution_count": 79,
   "metadata": {},
   "outputs": [
    {
     "data": {
      "text/html": [
       "<div>\n",
       "<style scoped>\n",
       "    .dataframe tbody tr th:only-of-type {\n",
       "        vertical-align: middle;\n",
       "    }\n",
       "\n",
       "    .dataframe tbody tr th {\n",
       "        vertical-align: top;\n",
       "    }\n",
       "\n",
       "    .dataframe thead th {\n",
       "        text-align: right;\n",
       "    }\n",
       "</style>\n",
       "<table border=\"1\" class=\"dataframe\">\n",
       "  <thead>\n",
       "    <tr style=\"text-align: right;\">\n",
       "      <th></th>\n",
       "      <th>year</th>\n",
       "      <th>forecast</th>\n",
       "      <th>+10%</th>\n",
       "      <th>-10%</th>\n",
       "    </tr>\n",
       "  </thead>\n",
       "  <tbody>\n",
       "    <tr>\n",
       "      <th>6</th>\n",
       "      <td>2025</td>\n",
       "      <td>$32,689,835.17</td>\n",
       "      <td>$35,958,818.68</td>\n",
       "      <td>$29,420,851.65</td>\n",
       "    </tr>\n",
       "    <tr>\n",
       "      <th>7</th>\n",
       "      <td>2026</td>\n",
       "      <td>$37,342,188.28</td>\n",
       "      <td>$41,076,407.10</td>\n",
       "      <td>$33,607,969.45</td>\n",
       "    </tr>\n",
       "  </tbody>\n",
       "</table>\n",
       "</div>"
      ],
      "text/plain": [
       "   year        forecast            +10%            -10%\n",
       "6  2025  $32,689,835.17  $35,958,818.68  $29,420,851.65\n",
       "7  2026  $37,342,188.28  $41,076,407.10  $33,607,969.45"
      ]
     },
     "execution_count": 79,
     "metadata": {},
     "output_type": "execute_result"
    }
   ],
   "source": [
    "# change revenue_table values to currency\n",
    "revenue_table['forecast'] = revenue_table['forecast'].map('${:,.2f}'.format)\n",
    "revenue_table['+10%'] = revenue_table['+10%'].map('${:,.2f}'.format)\n",
    "revenue_table['-10%'] = revenue_table['-10%'].map('${:,.2f}'.format)\n",
    "revenue_table"
   ]
  },
  {
   "cell_type": "code",
   "execution_count": null,
   "metadata": {},
   "outputs": [],
   "source": []
  }
 ],
 "metadata": {
  "kernelspec": {
   "display_name": "base",
   "language": "python",
   "name": "python3"
  },
  "language_info": {
   "codemirror_mode": {
    "name": "ipython",
    "version": 3
   },
   "file_extension": ".py",
   "mimetype": "text/x-python",
   "name": "python",
   "nbconvert_exporter": "python",
   "pygments_lexer": "ipython3",
   "version": "3.11.7"
  }
 },
 "nbformat": 4,
 "nbformat_minor": 2
}
